{
 "cells": [
  {
   "cell_type": "code",
   "execution_count": 280,
   "metadata": {},
   "outputs": [],
   "source": [
    "import os\n",
    "import logging\n",
    "\n",
    "import openai\n",
    "from langchain_openai import OpenAI\n",
    "import datasets\n",
    "from datasets import DatasetDict, load_from_disk\n",
    "import pandas as pd\n",
    "\n",
    "logging.basicConfig(level=logging.INFO, format=' %(asctime)s - %(levelname)s - %(message)s')\n",
    "\n",
    "model = ChatOpenAI(model=\"gpt-4o\", temperature=0.0)\n",
    "\n",
    "os.environ[\"OPENAI_API_KEY\"] = \"\""
   ]
  },
  {
   "cell_type": "code",
   "execution_count": 277,
   "metadata": {},
   "outputs": [
    {
     "data": {
      "text/plain": [
       "DatasetDict({\n",
       "    train: Dataset({\n",
       "        features: ['id', 'tokens', 'ner_tags'],\n",
       "        num_rows: 3187\n",
       "    })\n",
       "    test: Dataset({\n",
       "        features: ['id', 'tokens', 'ner_tags'],\n",
       "        num_rows: 903\n",
       "    })\n",
       "    valid: Dataset({\n",
       "        features: ['id', 'tokens', 'ner_tags'],\n",
       "        num_rows: 464\n",
       "    })\n",
       "})"
      ]
     },
     "execution_count": 277,
     "metadata": {},
     "output_type": "execute_result"
    }
   ],
   "source": [
    "# Load dataset\n",
    "finer = datasets.load_from_disk('hfdata_finer.json')\n",
    "finer"
   ]
  },
  {
   "cell_type": "code",
   "execution_count": 278,
   "metadata": {},
   "outputs": [],
   "source": [
    "# Define functions to convert between numeric and text labels\n",
    "id2label = {\n",
    "    0: \"O\",\n",
    "    1: \"B-PER\",\n",
    "    2: \"I-PER\",\n",
    "    3: \"B-LOC\",\n",
    "    4: \"I-LOC\",\n",
    "    5: \"B-ORG\",\n",
    "    6: \"I-ORG\"\n",
    "}\n",
    "\n",
    "def convert_id2label(input_list):\n",
    "    return [id2label.get(item, item) for item in input_list]\n",
    "\n",
    "label2id = {v: k for k, v in id2label.items()}\n",
    "\n",
    "def convert_label2id(input_list):\n",
    "    return [label2id.get(item, item) for item in input_list]"
   ]
  },
  {
   "cell_type": "code",
   "execution_count": 310,
   "metadata": {},
   "outputs": [
    {
     "name": "stdout",
     "output_type": "stream",
     "text": [
      "{'input': ['Following', 'the', 'closing', 'bell', ',', 'American', 'Express', '(', 'AXP', ')', 'reported', 'weaker', 'earnings', 'and', 'revenue', 'than', 'analysts', 'anticipated', '.'], 'output': ['O', 'O', 'O', 'O', 'O', 'B-ORG', 'I-ORG', 'O', 'B-ORG', 'O', 'O', 'O', 'O', 'O', 'O', 'O', 'O', 'O', 'O']}\n",
      "{'input': ['All', 'this', 'as', 'the', 'case', 'against', 'him', 'by', 'the', 'receivers', 'for', 'Allco', 'Finance', 'Group', ',', 'the', 'business', 'Fell', 'co-founder', 'with', 'the', 'late', 'David', 'Coe', ',', 'rises', 'again', 'in', 'the', 'Supreme', 'Court', '.'], 'output': ['O', 'O', 'O', 'O', 'O', 'O', 'O', 'O', 'O', 'O', 'O', 'B-ORG', 'I-ORG', 'I-ORG', 'O', 'O', 'O', 'B-ORG', 'O', 'O', 'O', 'O', 'B-PER', 'I-PER', 'O', 'O', 'O', 'O', 'O', 'B-ORG', 'I-ORG', 'O']}\n",
      "{'input': ['But', 'growth', 'in', 'spending', 'by', 'companies', 'dealing', 'in', 'business', '-', 'to', '-', 'business', ',', 'or', 'B2B', ',', 'sales', 'was', 'up', 'by', 'nearly', 'twice', 'that', 'at', '61', '%', 'over', 'the', 'prior', 'year', '.'], 'output': ['O', 'O', 'O', 'O', 'O', 'O', 'O', 'O', 'O', 'O', 'O', 'O', 'O', 'O', 'O', 'O', 'O', 'O', 'O', 'O', 'O', 'O', 'O', 'O', 'O', 'O', 'O', 'O', 'O', 'O', 'O', 'O']}\n",
      "{'input': ['Of', 'course', ',', 'there', 'are', 'a', 'number', 'of', 'other', 'exciting', 'stocks', 'that', 'could', 'be', 'worth', 'buying', 'right', 'now', 'and', ',', 'with', 'that', 'in', 'mind', ',', 'the', 'analysts', 'at', 'The', 'Motley', 'Fool', 'have', 'written', 'a', 'free', 'and', 'without', 'obligation', 'guide', 'called', '1', 'Top', 'Small', '-', 'Cap', 'Stock', 'From', 'The', 'Motley', 'Fool', '.'], 'output': ['O', 'O', 'O', 'O', 'O', 'O', 'O', 'O', 'O', 'O', 'O', 'O', 'O', 'O', 'O', 'O', 'O', 'O', 'O', 'O', 'O', 'O', 'O', 'O', 'O', 'O', 'O', 'O', 'O', 'B-ORG', 'I-ORG', 'O', 'O', 'O', 'O', 'O', 'O', 'O', 'O', 'O', 'O', 'O', 'O', 'O', 'O', 'O', 'O', 'O', 'B-ORG', 'I-ORG', 'O']}\n",
      "{'input': ['With', 'the', 'employment', 'data', 'relatively', 'soft', ',', 'the', 'job', 'openings', 'report', 'is', 'likely', 'to', 'get', 'a', 'fair', 'amount', 'of', 'attention', 'next', 'week', '.'], 'output': ['O', 'O', 'O', 'O', 'O', 'O', 'O', 'O', 'O', 'O', 'O', 'O', 'O', 'O', 'O', 'O', 'O', 'O', 'O', 'O', 'O', 'O', 'O']}\n",
      "{'input': ['\"', 'Copperbelt', 'Energy', 'Corporation', 'informed', 'us', 'this', 'morning', 'that', 'it', 'will', 'cut', 'power', 'supply', 'to', 'the', 'copper', 'belt', 'mines', 'it', 'supplies', 'by', '30', 'percent', 'from', 'midnight', '.'], 'output': ['O', 'B-ORG', 'I-ORG', 'I-ORG', 'O', 'O', 'O', 'O', 'O', 'O', 'O', 'O', 'O', 'O', 'O', 'O', 'O', 'O', 'O', 'O', 'O', 'O', 'O', 'O', 'O', 'O', 'O']}\n",
      "{'input': ['In', 'the', 'last', 'quarter', ',', 'the', 'company', 'posted', 'a', 'negative', '11.34', '%', 'earnings', 'surprise', '.'], 'output': ['O', 'O', 'O', 'O', 'O', 'O', 'O', 'O', 'O', 'O', 'O', 'O', 'O', 'O', 'O']}\n",
      "{'input': ['Audi', ',', 'Daimler', 'and', 'BMW', 'also', 'declined', 'to', 'comment', '.'], 'output': ['B-ORG', 'O', 'B-ORG', 'O', 'B-ORG', 'O', 'O', 'O', 'O', 'O']}\n",
      "{'input': ['The', 'company', 'has', 'a', 'market', 'cap', 'of', '$', '1.07', 'billion', 'and', 'a', 'PE', 'ratio', 'of', '16.08', '.'], 'output': ['O', 'O', 'O', 'O', 'O', 'O', 'O', 'O', 'O', 'O', 'O', 'O', 'O', 'O', 'O', 'O', 'O']}\n",
      "{'input': ['He', 'wrote', 'in', 'a', 'letter', ':', '\"', 'Consumers', 'are', 'paying', 'sky', '-', 'high', 'fares', 'and', 'are', 'trapped', 'in', 'an', 'uncompetitive', 'market', 'with', 'a', 'history', 'of', 'collusive', 'behavior', '.', '\"'], 'output': ['O', 'O', 'O', 'O', 'O', 'O', 'O', 'O', 'O', 'O', 'O', 'O', 'O', 'O', 'O', 'O', 'O', 'O', 'O', 'O', 'O', 'O', 'O', 'O', 'O', 'O', 'O', 'O', 'O']}\n",
      "{'input': ['Ms', 'Blakey', 'told', 'Farifax', 'Media', 'that', 'three', 'external', 'fund', 'managers', 'had', 'previously', 'held', 'Transfield', 'shares', 'on', 'HESTA', \"'s\", 'behalf', 'and', 'that', 'all', 'were', 'active', 'in', 'the', 'review', 'process', '.'], 'output': ['O', 'B-PER', 'O', 'B-ORG', 'I-ORG', 'O', 'O', 'O', 'O', 'O', 'O', 'O', 'O', 'B-ORG', 'O', 'O', 'O', 'O', 'O', 'O', 'O', 'O', 'O', 'O', 'O', 'O', 'O', 'O', 'O']}\n",
      "{'input': ['\"', 'Innovation', 'in', 'the', 'legal', 'sector', 'really', 'is', 'gaining', 'traction', 'and', 'is', 'no', 'longer', 'happening', 'on', 'the', 'periphery', '–', 'we', \"'re\", 'seeing', 'it', 'move', 'mainstream', 'and', 'traditional', 'firms', 'adopting', 'dedicated', 'innovation', 'roles', ',', '\"', 'Ms', 'Farmer', 'said', '.'], 'output': ['O', 'O', 'O', 'O', 'O', 'O', 'O', 'O', 'O', 'O', 'O', 'O', 'O', 'O', 'O', 'O', 'O', 'O', 'O', 'O', 'O', 'O', 'O', 'O', 'O', 'O', 'O', 'O', 'O', 'O', 'O', 'O', 'O', 'O', 'O', 'B-PER', 'O', 'O']}\n",
      "{'input': ['Of', 'the', 'nine', 'financial', 'analysts', 'that', 'cover', 'Transfield', 'Services', 'three', 'rate', 'it', 'a', '\"', 'buy', '\"', ',', 'five', '\"', 'neutral', '\"', ',', 'and', 'one', '\"', 'cautious', '\"', ',', 'according', 'to', 'Bloomberg', 'data', '.'], 'output': ['O', 'O', 'O', 'O', 'O', 'O', 'O', 'B-ORG', 'I-ORG', 'O', 'O', 'O', 'O', 'O', 'O', 'O', 'O', 'O', 'O', 'O', 'O', 'O', 'O', 'O', 'O', 'O', 'O', 'O', 'O', 'O', 'B-ORG', 'O', 'O']}\n",
      "{'input': ['Nikkei', 'has', 'a', 'temporary', 'tenancy', 'agreement', 'but', 'is', 'already', 'understood', 'to', 'be', 'beginning', 'a', 'property', 'search', 'likely', 'to', 'be', 'complicated', 'by', 'planning', 'restrictions', 'on', 'the', 'current', 'offices', '.'], 'output': ['B-ORG', 'O', 'O', 'O', 'O', 'O', 'O', 'O', 'O', 'O', 'O', 'O', 'O', 'O', 'O', 'O', 'O', 'O', 'O', 'O', 'O', 'O', 'O', 'O', 'O', 'O', 'O', 'O']}\n",
      "{'input': ['As', 'the', 'first', 'major', 'advisor', 'custodian', 'to', 'open', 'up', 'its', 'advisor', 'platform', 'to', 'third', '-', 'party', 'software', 'firms', ',', 'TD', 'Ameritrade', 'has', 'now', 'integrated', 'their', 'Veo', 'Open', 'Access', 'platform', 'with', 'more', 'than', '90', 'innovative', 'technology', 'firms', '.'], 'output': ['O', 'O', 'O', 'O', 'O', 'O', 'O', 'O', 'O', 'O', 'O', 'O', 'O', 'O', 'O', 'O', 'O', 'O', 'O', 'B-ORG', 'I-ORG', 'O', 'O', 'O', 'O', 'O', 'O', 'O', 'O', 'O', 'O', 'O', 'O', 'O', 'O', 'O', 'O']}\n",
      "{'input': ['The', 'poll', 'by', 'the', 'respected', 'ALCO', 'institute', 'for', 'newspaper', 'Ethnos', 'put', 'the', '\"', 'Yes', '\"', 'camp', 'on', '44.8', 'percent', 'against', '43.4', 'percent', 'for', '\"', 'No', '\"', '.'], 'output': ['O', 'O', 'O', 'O', 'O', 'B-ORG', 'I-ORG', 'O', 'O', 'B-ORG', 'O', 'O', 'O', 'O', 'O', 'O', 'O', 'O', 'O', 'O', 'O', 'O', 'O', 'O', 'O', 'O', 'O']}\n",
      "{'input': ['Sharp', 'has', 'struggled', 'to', 'cope', 'with', 'falling', 'prices', 'for', 'liquid', 'crystal', 'displays', 'sold', 'to', 'smartphone', 'makers', '.'], 'output': ['B-ORG', 'O', 'O', 'O', 'O', 'O', 'O', 'O', 'O', 'O', 'O', 'O', 'O', 'O', 'O', 'O', 'O']}\n",
      "{'input': ['Uber', 'applied', 'for', 'licenses', 'in', 'New', 'Delhi', 'but', 'continued', 'its', 'operations', 'while', 'approvals', 'were', 'pending', '.'], 'output': ['B-ORG', 'O', 'O', 'O', 'O', 'B-LOC', 'I-LOC', 'O', 'O', 'O', 'O', 'O', 'O', 'O', 'O', 'O']}\n",
      "{'input': ['4', '....', 'Rep', '.', 'French', 'Hill', ',', 'R', '-', 'Ark', '.', ',', 'sponsored', 'the', 'bill', ',', 'which', 'passed', 'the', 'Financial', 'Services', 'Committee', 'on', 'July', '29', 'on', 'a', 'bipartisan', 'vote', 'of', '45', '-', '13', ',', 'but', 'it', 'was', 'prominent', 'Democrats', '.'], 'output': ['O', 'O', 'O', 'O', 'B-PER', 'I-PER', 'O', 'O', 'O', 'B-LOC', 'O', 'O', 'O', 'O', 'O', 'O', 'O', 'O', 'O', 'B-ORG', 'I-ORG', 'I-ORG', 'O', 'O', 'O', 'O', 'O', 'O', 'O', 'O', 'O', 'O', 'O', 'O', 'O', 'O', 'O', 'O', 'O', 'O']}\n",
      "{'input': ['He', 'fought', 'hard', 'for', 'local', 'issues', 'and', 'took', 'on', 'Canberra', 'when', 'he', 'needed', 'to', '.'], 'output': ['O', 'O', 'O', 'O', 'O', 'O', 'O', 'O', 'O', 'B-PER', 'O', 'O', 'O', 'O', 'O']}\n",
      "{'input': ['Standards', 'are', 'sets', 'of', 'requirements', ',', 'specifications', ',', 'guidelines', 'or', 'characteristics', 'that', 'can', 'be', 'used', 'consistently', 'to', 'ensure', 'that', 'materials', ',', 'products', ',', 'processes', 'and', 'services', 'are', 'fit', 'for', 'their', 'purpose', '.'], 'output': ['O', 'O', 'O', 'O', 'O', 'O', 'O', 'O', 'O', 'O', 'O', 'O', 'O', 'O', 'O', 'O', 'O', 'O', 'O', 'O', 'O', 'O', 'O', 'O', 'O', 'O', 'O', 'O', 'O', 'O', 'O', 'O']}\n",
      "{'input': ['The', 'Motley', 'Fool', 'has', 'a', 'disclosure', 'policy', '.'], 'output': ['O', 'B-ORG', 'I-ORG', 'O', 'O', 'O', 'O', 'O']}\n",
      "{'input': ['The', 'balance', '50', '%', 'loans', 'were', 'restructured', 'by', 'providing', 'moratorium', 'on', 'principal', 'and', 'best', 'possible', 'terms', 'for', 'repayments', '.'], 'output': ['O', 'O', 'O', 'O', 'O', 'O', 'O', 'O', 'O', 'O', 'O', 'O', 'O', 'O', 'O', 'O', 'O', 'O', 'O']}\n",
      "{'input': ['Consumer', 'leases', 'have', 'no', 'caps', 'or', 'restrictions', 'on', 'terms', ',', 'interest', 'rates', 'or', 'due', 'to', 'the', 'fact', 'they', 'are', 'receiving', 'welfare', '.'], 'output': ['O', 'O', 'O', 'O', 'O', 'O', 'O', 'O', 'O', 'O', 'O', 'O', 'O', 'O', 'O', 'O', 'O', 'O', 'O', 'O', 'O', 'O']}\n",
      "{'input': ['Sales', 'of', 'the', 'infection', '-', 'fighting', 'white', 'blood', 'cell', 'boosters', 'Neulasta', 'and', 'Neupogen', ',', 'which', 'are', 'bracing', 'for', 'competition', 'from', 'new', 'biosimilar', 'versions', ',', 'were', 'in', 'line', 'with', 'expectations', 'at', '$', '1.41', 'billion', '.'], 'output': ['O', 'O', 'O', 'O', 'O', 'O', 'O', 'O', 'O', 'O', 'O', 'O', 'O', 'O', 'O', 'O', 'O', 'O', 'O', 'O', 'O', 'O', 'O', 'O', 'O', 'O', 'O', 'O', 'O', 'O', 'O', 'O', 'O', 'O']}\n",
      "{'input': ['Unilever', 'stock', 'was', 'up', 'by', 'around', '3.5', 'percent', 'to', 'almost', '39', 'euros', 'per', 'share', 'on', 'early', 'morning', 'trade', 'on', 'the', 'Amsterdam', 'stock', 'exchange', \"'s\", 'AEX', 'index', '.'], 'output': ['B-ORG', 'O', 'O', 'O', 'O', 'O', 'O', 'O', 'O', 'O', 'O', 'O', 'O', 'O', 'O', 'O', 'O', 'O', 'O', 'O', 'B-LOC', 'O', 'O', 'O', 'O', 'O', 'O']}\n",
      "{'input': ['This', 'can', 'be', 'done', 'by', 'preparing', 'a', 'codicil', '(', 'an', 'addendum', ')', 'to', 'your', 'will', ',', 'rather', 'than', 'preparing', 'a', 'new', 'will', '.'], 'output': ['O', 'O', 'O', 'O', 'O', 'O', 'O', 'O', 'O', 'O', 'O', 'O', 'O', 'O', 'O', 'O', 'O', 'O', 'O', 'O', 'O', 'O', 'O']}\n",
      "{'input': ['In', 'case', 'of', 'interest', 'on', 'fixed', 'deposits', 'which', 'is', 'taxable', 'under', 'the', 'head', '?'], 'output': ['O', 'O', 'O', 'O', 'O', 'O', 'O', 'O', 'O', 'O', 'O', 'O', 'O', 'O']}\n",
      "{'input': ['\"', 'Wal', '-', 'Mart', 'believes', 'that', 'the', 'transfer', 'of', 'minority', 'interest', 'will', 'not', 'influence', 'Wal', '-', 'Mart', \"'s\", 'operation', 'and', 'development', 'in', 'China', ',', '\"', 'spokesman', 'David', 'Fu', 'said', 'in', 'emailed', 'comments', 'to', 'Reuters', '.'], 'output': ['O', 'B-ORG', 'I-ORG', 'I-ORG', 'O', 'O', 'O', 'O', 'O', 'O', 'O', 'O', 'O', 'O', 'B-ORG', 'I-ORG', 'I-ORG', 'O', 'O', 'O', 'O', 'O', 'B-LOC', 'O', 'O', 'O', 'B-PER', 'I-PER', 'O', 'O', 'O', 'O', 'O', 'B-ORG', 'O']}\n",
      "{'input': ['The', 'notices', ',', 'dated', 'last', 'week', 'but', 'carried', 'by', 'domestic', 'media', 'earlier', 'on', 'Friday', ',', 'listed', 'the', 'stakes', 'for', 'sale', 'at', 'prices', 'ranging', 'from', 'as', 'little', 'as', '1', 'yuan', 'and', 'up', 'to', '2.6', 'billion', 'yuan', '.'], 'output': ['O', 'O', 'O', 'O', 'O', 'O', 'O', 'O', 'O', 'O', 'O', 'O', 'O', 'O', 'O', 'O', 'O', 'O', 'O', 'O', 'O', 'O', 'O', 'O', 'O', 'O', 'O', 'O', 'O', 'O', 'O', 'O', 'O', 'O', 'O', 'O']}\n",
      "{'input': ['“', 'The', 'optimisation', 'work', 'has', 'achieved', 'its', 'aim', 'of', 'reducing', 'delivery', 'risk', 'operating', 'costs', 'estimates', 'through', 'detailed', 'planning', 'and', 'improved', 'flexibility', ',', 'especially', 'in', 'the', 'mine', 'design', ',', '’’', 'he', 'said', '.'], 'output': ['O', 'O', 'O', 'O', 'O', 'O', 'O', 'O', 'O', 'O', 'O', 'O', 'O', 'O', 'O', 'O', 'O', 'O', 'O', 'O', 'O', 'O', 'O', 'O', 'O', 'O', 'O', 'O', 'O', 'O', 'O', 'O']}\n",
      "{'input': ['In', 'Ghana', ',', 'standards', 'are', 'developed', 'by', 'the', 'GSA', 'in', 'collaboration', 'with', 'stakeholders', '.'], 'output': ['O', 'B-LOC', 'O', 'O', 'O', 'O', 'O', 'O', 'B-ORG', 'O', 'O', 'O', 'O', 'O']}\n",
      "{'input': ['Companies', 'have', 'been', 'bolstering', 'their', 'earnings', 'per', 'share', 'figures', 'by', 'buying', 'back', 'their', 'own', 'shares', 'and', 'thus', 'reducing', 'their', 'share', 'counts', ',', 'and', 'that', 'may', 'happen', 'again', 'this', 'quarter', '.'], 'output': ['O', 'O', 'O', 'O', 'O', 'O', 'O', 'O', 'O', 'O', 'O', 'O', 'O', 'O', 'O', 'O', 'O', 'O', 'O', 'O', 'O', 'O', 'O', 'O', 'O', 'O', 'O', 'O', 'O', 'O']}\n",
      "{'input': ['It', 'is', 'puzzling', '.', '”'], 'output': ['O', 'O', 'O', 'O', 'O']}\n",
      "{'input': ['Quotes', 'and', 'other', 'information', 'supplied', 'by', 'independent', 'providers', 'identified', 'on', 'the', 'Yahoo', '!'], 'output': ['O', 'O', 'O', 'O', 'O', 'O', 'O', 'O', 'O', 'O', 'O', 'B-ORG', 'I-ORG']}\n",
      "{'input': ['And', 'they', 'lived', 'happily', 'ever', 'after', '.'], 'output': ['O', 'O', 'O', 'O', 'O', 'O', 'O']}\n",
      "{'input': ['It', 'is', 'near', 'port', 'operations', 'in', 'one', 'of', 'the', 'world', \"'s\", 'busiest', 'export', 'hubs', 'and', 'has', 'long', 'been', 'earmarked', 'for', 'commercial', 'redevelopment', '.'], 'output': ['O', 'O', 'O', 'O', 'O', 'O', 'O', 'O', 'O', 'O', 'O', 'O', 'O', 'O', 'O', 'O', 'O', 'O', 'O', 'O', 'O', 'O', 'O']}\n",
      "{'input': ['US', 'employers', 'added', '223,000', 'jobs', 'in', 'June', 'and', 'the', 'unemployment', 'rate', 'fell', 'to', 'a', 'seven', '-', 'year', 'low', 'of', '5.3', '%', '.'], 'output': ['B-LOC', 'O', 'O', 'O', 'O', 'O', 'O', 'O', 'O', 'O', 'O', 'O', 'O', 'O', 'O', 'O', 'O', 'O', 'O', 'O', 'O', 'O']}\n",
      "{'input': ['What', '’s', 'more', ',', 'he', 'believes', 'the', 'commodity', 'markets', 'are', 'wrong', 'and', 'that', 'today', '’s', 'depressed', 'prices', 'are', 'the', 'result', 'of', 'speculative', 'selling', 'from', 'hedge', 'funds', '.'], 'output': ['O', 'O', 'O', 'O', 'O', 'O', 'O', 'O', 'O', 'O', 'O', 'O', 'O', 'O', 'O', 'O', 'O', 'O', 'O', 'O', 'O', 'O', 'O', 'O', 'O', 'O', 'O']}\n",
      "{'input': ['\"', 'We', 'are', 'just', 'disappointed', 'that', 'all', 'of', 'Port', 'Hedland', 'has', 'bent', 'over', 'backwards', 'to', 'meet', 'BHP', \"'s\", 'concerns', '.'], 'output': ['O', 'O', 'O', 'O', 'O', 'O', 'O', 'O', 'B-LOC', 'I-LOC', 'O', 'O', 'O', 'O', 'O', 'O', 'B-ORG', 'O', 'O', 'O']}\n",
      "{'input': ['On', 'Oct.', '19', ',', 'noted', 'wine', 'educator', 'Geralyn', 'Brostrom', ',', 'CWE', 'and', 'founder', 'of', 'Italian', 'Wine', 'Central', ',', 'will', 'guide', 'a', 'tasting', 'of', 'select', 'Amarone', 'vintages', 'from', '11', 'a.m.', 'to', '1', 'p.m', '.'], 'output': ['O', 'O', 'O', 'O', 'O', 'O', 'O', 'B-PER', 'I-PER', 'O', 'B-ORG', 'O', 'O', 'O', 'B-ORG', 'I-ORG', 'I-ORG', 'O', 'O', 'O', 'O', 'O', 'O', 'O', 'O', 'O', 'O', 'O', 'O', 'O', 'O', 'O', 'O']}\n",
      "{'input': ['It', \"'s\", 'a', 'good', 'time', 'to', 'be', 'reviewing', 'your', 'estate', 'plans', '.'], 'output': ['O', 'O', 'O', 'O', 'O', 'O', 'O', 'O', 'O', 'O', 'O', 'O']}\n",
      "{'input': ['Aegis', 'has', 'clients', 'in', 'all', '50', 'states', 'and', 'overseas', '.'], 'output': ['B-ORG', 'O', 'O', 'O', 'O', 'O', 'O', 'O', 'O', 'O']}\n",
      "{'input': ['Justin', 'Keener', ',', 'Founder', 'and', 'Portfolio', 'Manager', 'of', 'JMJ', 'Financial', ',', 'today', 'announced', 'the', 'firm', '’s', 'sponsorship', 'of', 'the', '2015', 'Aegis', 'Growth', 'Conference', ';', 'a', 'leading', 'healthcare', 'and', 'technology', 'conference', 'held', 'this', 'week', 'at', 'the', 'Encore', 'at', 'Wynn', 'Hotel', 'in', 'Las', 'Vegas', '.'], 'output': ['B-PER', 'I-PER', 'O', 'O', 'O', 'O', 'O', 'O', 'B-ORG', 'I-ORG', 'O', 'O', 'O', 'O', 'O', 'O', 'O', 'O', 'O', 'O', 'O', 'O', 'O', 'O', 'O', 'O', 'O', 'O', 'O', 'O', 'O', 'O', 'O', 'O', 'O', 'B-ORG', 'O', 'B-ORG', 'I-ORG', 'O', 'B-LOC', 'I-LOC', 'O']}\n",
      "{'input': ['I', 'am', '35', 'years', 'old', 'and', 'can', 'invest', 'Rs', '10000', 'per', 'month', '.'], 'output': ['O', 'O', 'O', 'O', 'O', 'O', 'O', 'O', 'O', 'O', 'O', 'O', 'O']}\n",
      "{'input': ['(', '$', '1', '=', '12.5338', 'rand', ')', '(', 'Editing', 'by', 'James', 'Macharia', 'and', 'Jane', 'Merriman', ')'], 'output': ['O', 'O', 'O', 'O', 'O', 'O', 'O', 'O', 'O', 'O', 'B-PER', 'I-PER', 'O', 'B-PER', 'I-PER', 'O']}\n",
      "{'input': ['Audi', ',', 'BMW', 'and', 'Daimler', 'Near', 'Deal', 'to', 'Buy', 'Nokia', 'Mapping', 'Service'], 'output': ['B-ORG', 'O', 'B-ORG', 'O', 'B-ORG', 'O', 'O', 'O', 'O', 'B-ORG', 'O', 'O']}\n",
      "{'input': ['Lam', 'Research', '(', 'LRCX', ')', 'also', 'said', 'it', 'reached', 'a', 'deal', 'to', 'buy', 'California', '-', 'based', 'chip', 'maker', 'KLA', '-', 'Tenor', 'Coproration', '(', 'KLA', ')', 'for', '$', '10.6', 'billion', '.'], 'output': ['B-ORG', 'I-ORG', 'O', 'B-ORG', 'O', 'O', 'O', 'O', 'O', 'O', 'O', 'O', 'O', 'O', 'O', 'O', 'O', 'O', 'B-ORG', 'I-ORG', 'I-ORG', 'I-ORG', 'O', 'B-ORG', 'O', 'O', 'O', 'O', 'O', 'O']}\n",
      "{'input': ['The', 'battle', 'for', 'market', 'share', 'between', 'Woolworths', ',', 'Coles', 'and', 'independent', 'supermarkets', 'has', 'been', 'a', 'boon', 'for', 'family', '-', 'owned', 'shopping', 'trolley', 'supplier', 'QHDC', 'Australia', '.'], 'output': ['O', 'O', 'O', 'O', 'O', 'O', 'B-ORG', 'O', 'B-ORG', 'O', 'O', 'O', 'O', 'O', 'O', 'O', 'O', 'O', 'O', 'O', 'O', 'O', 'O', 'B-ORG', 'I-ORG', 'O']}\n",
      "{'input': ['Many', 'currencies', 'and', 'shares', 'were', 'battered', 'by', 'the', 'resurgent', 'worries', 'about', 'global', 'growth', '.'], 'output': ['O', 'O', 'O', 'O', 'O', 'O', 'O', 'O', 'O', 'O', 'O', 'O', 'O', 'O']}\n",
      "{'input': ['In', 'what', 'appeared', 'to', 'be', 'an', 'effort', 'to', 'gain', 'traction', 'with', 'his', 'counterparts', ',', 'Varoufakis', 'indicated', 'during', 'the', 'call', 'late', 'on', 'Tuesday', 'that', 'Athens', 'might', 'call', 'off', 'the', 'referendum', 'or', 'urge', 'Greeks', 'to', 'vote', 'in', 'favour', 'of', 'bailout', 'terms', 'if', 'a', 'deal', 'on', 'a', 'new', 'loan', 'was', 'to', 'euro', 'zone', 'sources', '.'], 'output': ['O', 'O', 'O', 'O', 'O', 'O', 'O', 'O', 'O', 'O', 'O', 'O', 'O', 'O', 'B-PER', 'O', 'O', 'O', 'O', 'O', 'O', 'O', 'O', 'B-LOC', 'O', 'O', 'O', 'O', 'O', 'O', 'O', 'O', 'O', 'O', 'O', 'O', 'O', 'O', 'O', 'O', 'O', 'O', 'O', 'O', 'O', 'O', 'O', 'O', 'O', 'O', 'O', 'O']}\n",
      "{'input': ['Bringing', 'down', 'government', 'stakes', 'in', 'these', 'banks', 'to', '52', 'per', 'cent', 'would', 'further', 'augment', 'their', 'capital', '.'], 'output': ['O', 'O', 'O', 'O', 'O', 'O', 'O', 'O', 'O', 'O', 'O', 'O', 'O', 'O', 'O', 'O', 'O']}\n",
      "{'input': ['And', 'companies', 'may', 'be', 'snapping', 'their', 'streak', 'of', 'squeezing', 'profits', 'out', 'of', 'dismal', 'revenues', '.'], 'output': ['O', 'O', 'O', 'O', 'O', 'O', 'O', 'O', 'O', 'O', 'O', 'O', 'O', 'O', 'O']}\n",
      "{'input': ['he', 'should', 'get', 'Rs', '5', 'lakh', 'when', 'he', 'turns', '25', 'years', '.'], 'output': ['O', 'O', 'O', 'O', 'O', 'O', 'O', 'O', 'O', 'O', 'O', 'O']}\n",
      "{'input': ['A', 'broad', 'group', ',', 'including', 't', 'he', 'Australian', 'Chamber', 'of', 'Commerce', 'and', 'Industry', ',', 'Master', 'Grocers', 'Australia', ',', 'the', 'Australian', 'Hotels', 'Association', ',', 'the', 'Australian', 'Retailers', 'Association', 'and', 'the', 'National', 'Farmers', 'Federation', ',', 'are', 'pushing', 'for', 'the', 'test', '.'], 'output': ['O', 'O', 'O', 'O', 'O', 'O', 'O', 'B-ORG', 'I-ORG', 'I-ORG', 'I-ORG', 'I-ORG', 'I-ORG', 'O', 'B-ORG', 'I-ORG', 'I-ORG', 'O', 'O', 'B-ORG', 'I-ORG', 'I-ORG', 'O', 'O', 'B-ORG', 'I-ORG', 'I-ORG', 'O', 'O', 'B-ORG', 'I-ORG', 'I-ORG', 'O', 'O', 'O', 'O', 'O', 'O', 'O']}\n",
      "{'input': ['The', 'reaction', 'to', 'the', 'Nokia', 'write', '-', 'off', 'is', 'indicative', 'of', 'the', 'short', '-', 'term', 'nature', 'of', 'altogether', 'too', 'many', 'investors', '.'], 'output': ['O', 'O', 'O', 'O', 'B-ORG', 'O', 'O', 'O', 'O', 'O', 'O', 'O', 'O', 'O', 'O', 'O', 'O', 'O', 'O', 'O', 'O', 'O']}\n",
      "{'input': ['Home', 'price', 'growth', 'now', 'stands', 'around', '4', 'times', 'the', 'pace', 'of', 'wage', 'growth', ',', 'Yun', 'notes', ',', 'a', 'level', 'that', 'does', \"n't\", 'promote', 'a', 'sustainable', 'buyers', \"'\", 'market', '.'], 'output': ['O', 'O', 'O', 'O', 'O', 'O', 'O', 'O', 'O', 'O', 'O', 'O', 'O', 'O', 'B-PER', 'O', 'O', 'O', 'O', 'O', 'O', 'O', 'O', 'O', 'O', 'O', 'O', 'O', 'O']}\n",
      "{'input': ['Excluding', 'special', 'items', ',', 'Amgen', 'earned', '$', '2.57', 'per', 'share', ',', 'topping', 'analysts', \"'\", 'average', 'expectations', 'by', '14', 'cents', ',', 'according', 'to', 'Thomson', 'Reuters', 'I/B/E/S', '.'], 'output': ['O', 'O', 'O', 'O', 'B-ORG', 'O', 'O', 'O', 'O', 'O', 'O', 'O', 'O', 'O', 'O', 'O', 'O', 'O', 'O', 'O', 'O', 'O', 'B-ORG', 'I-ORG', 'I-ORG', 'O']}\n",
      "{'input': ['Four', 'people', 'were', 'injured', 'in', 'the', 'shooting', ',', 'but', 'no', 'one', 'has', 'been', 'arrested', '.'], 'output': ['O', 'O', 'O', 'O', 'O', 'O', 'O', 'O', 'O', 'O', 'O', 'O', 'O', 'O', 'O']}\n",
      "{'input': ['Hollywood', 'intern', 'case', 'dealt', 'setback', 'by', 'federal', 'appeals', 'court', 'Eric', 'Glatt', 'Joshua', 'Roberts', '/', 'For', 'The', 'Times', 'Eric', 'Glatt', ',', 'a', 'former', 'unpaid', 'intern', 'on', 'the', 'film', '\"', 'Black', 'Swan', ',', '\"', 'brought', 'a', 'lawsuit', 'against', 'Fox', 'Searchlight', 'Pictures', 'in', '2011', '.'], 'output': ['B-LOC', 'O', 'O', 'O', 'O', 'O', 'O', 'O', 'O', 'B-PER', 'I-PER', 'B-PER', 'I-PER', 'O', 'O', 'O', 'B-ORG', 'B-PER', 'I-PER', 'O', 'O', 'O', 'O', 'O', 'O', 'O', 'O', 'O', 'O', 'O', 'O', 'O', 'O', 'O', 'O', 'O', 'B-ORG', 'I-ORG', 'I-ORG', 'O', 'O', 'O']}\n",
      "{'input': ['The', 'bubble', 'that', 'was', 'declared', 'after', 'the', 'benchmark', 'Shanghai', 'Composite', 'Index', 'rose', '160', 'per', 'cent', 'in', '18', 'months', 'was', 'largely', 'attributed', 'to', 'fast', 'and', 'unsustainably', 'rising', 'small', 'cap', 'and', 'tech', 'stocks', '.'], 'output': ['O', 'O', 'O', 'O', 'O', 'O', 'O', 'O', 'B-LOC', 'O', 'O', 'O', 'O', 'O', 'O', 'O', 'O', 'O', 'O', 'O', 'O', 'O', 'O', 'O', 'O', 'O', 'O', 'O', 'O', 'O', 'O', 'O']}\n",
      "{'input': ['One', 'Port', 'Hedland', 'Yacht', 'Club', 'member', 'said', ':', '\"', '[', 'BHP', ']', 'do', \"n't\", 'people', 'of', 'the', 'town', '.'], 'output': ['O', 'B-ORG', 'I-ORG', 'I-ORG', 'I-ORG', 'O', 'O', 'O', 'O', 'O', 'B-ORG', 'O', 'O', 'O', 'O', 'O', 'O', 'O', 'O']}\n",
      "{'input': ['The', 'IMF', '’s', 'disclosure', 'follows', 'a', 'decision', 'in', 'June', 'by', 'index', 'provider', 'MSCI', 'Inc', '.', 'not', 'to', 'include', 'China', '’s', 'shares', 'in', 'a', 'global', 'stock', 'index', '.'], 'output': ['O', 'B-ORG', 'O', 'O', 'O', 'O', 'O', 'O', 'O', 'O', 'O', 'O', 'B-ORG', 'I-ORG', 'O', 'O', 'O', 'O', 'B-LOC', 'O', 'O', 'O', 'O', 'O', 'O', 'O', 'O']}\n",
      "{'input': ['\"', 'Pressure', 'on', 'the', 'metals', 'and', 'mining', 'industry', 'has', 'been', 'unrelenting', 'and', 'to', 'be', 'honest', ',', 'does', \"n't\", 'look', 'like', 'improving', 'any', 'time', 'soon', ',', '\"', 'said', 'commodity', 'strategist', 'Daniel', 'Hynes', 'of', 'ANZ', 'in', 'Sydney', '.'], 'output': ['O', 'O', 'O', 'O', 'O', 'O', 'O', 'O', 'O', 'O', 'O', 'O', 'O', 'O', 'O', 'O', 'O', 'O', 'O', 'O', 'O', 'O', 'O', 'O', 'O', 'O', 'O', 'O', 'O', 'B-PER', 'I-PER', 'O', 'B-ORG', 'O', 'B-LOC', 'O']}\n",
      "{'input': ['Typically', 'vendor', '’s', 'solutions', 'are', 'n’t', 'great', 'at', 'integrating', 'data', 'outside', 'their', 'expertise', 'and', 'their', 'objective', 'is', 'to', 'achieve', 'long', '-', 'term', '“', 'lock', '-', 'in', '”', 'with', 'their', 'applications', '.'], 'output': ['O', 'O', 'O', 'O', 'O', 'O', 'O', 'O', 'O', 'O', 'O', 'O', 'O', 'O', 'O', 'O', 'O', 'O', 'O', 'O', 'O', 'O', 'O', 'O', 'O', 'O', 'O', 'O', 'O', 'O', 'O']}\n",
      "{'input': ['\"', 'No', 'other', 'sector', 'has', 'been', 'able', 'to', 'make', 'that', 'sort', 'of', 'return', '.'], 'output': ['O', 'O', 'O', 'O', 'O', 'O', 'O', 'O', 'O', 'O', 'O', 'O', 'O', 'O']}\n",
      "{'input': ['In', 'full', 'sun', ',', 'the', 'two', 'Road', 'Chiefs', 'virtually', 'disappeared', ',', 'in', 'a', 'panoptic', 'camouflage', 'of', 'the', 'mirrored', 'landscape', '.'], 'output': ['O', 'O', 'O', 'O', 'O', 'O', 'O', 'O', 'O', 'O', 'O', 'O', 'O', 'O', 'O', 'O', 'O', 'O', 'O', 'O']}\n",
      "{'input': ['That', 'can', 'cause', 'serious', 'complications', '.'], 'output': ['O', 'O', 'O', 'O', 'O', 'O']}\n",
      "{'input': ['Empowering', 'women', 'to', 'lead', 'more', 'of', 'global', 'business', ',', 'especially', 'at', 'the', 'SME', 'level', ',', 'is', 'necessary', 'for', 'whole', '-', 'of', '-', 'society', 'development', 'progress', '.', '\"'], 'output': ['O', 'O', 'O', 'O', 'O', 'O', 'O', 'O', 'O', 'O', 'O', 'O', 'B-ORG', 'O', 'O', 'O', 'O', 'O', 'O', 'O', 'O', 'O', 'O', 'O', 'O', 'O', 'O']}\n",
      "{'input': ['Nikkei', 'staff', 'can', 'remain', 'shareholders', 'after', 'retirement', ',', 'but', 'cannot', 'pass', 'their', 'equity', 'on', 'to', 'relatives', 'or', 'trade', 'their', 'shares', ',', 'other', 'than', 'by', 'cashing', 'them', 'in', 'with', 'Nikkei', 'Kyoeikai', ',', 'a', 'mutual', 'fund', 'that', 'is', 'one', 'of', 'the', 'company', '’s', 'two', 'big', 'shareholders', '.'], 'output': ['B-ORG', 'O', 'O', 'O', 'O', 'O', 'O', 'O', 'O', 'O', 'O', 'O', 'O', 'O', 'O', 'O', 'O', 'O', 'O', 'O', 'O', 'O', 'O', 'O', 'O', 'O', 'O', 'O', 'B-ORG', 'I-ORG', 'O', 'O', 'O', 'O', 'O', 'O', 'O', 'O', 'O', 'O', 'O', 'O', 'O', 'O', 'O']}\n",
      "{'input': ['These', 'stocks', 'represent', 'eight', 'unique', 'takes', 'on', 'incredible', 'long', '-', 'term', 'value', '.'], 'output': ['O', 'O', 'O', 'O', 'O', 'O', 'O', 'O', 'O', 'O', 'O', 'O', 'O']}\n",
      "{'input': ['He', 'believed', 'that', 'Greece', \"'s\", 'shattered', 'economy', 'could', 'only', 'recover', 'once', 'the', 'terms', 'of', 'its', 'bailout', 'are', 'drastically', 'revised', '--', 'and', 'that', 'creditors', 'must', 'write', 'off', 'some', 'of', 'its', 'massive', '320', 'billion', 'euros', '(', '$', '353', 'billion', ')', 'of', 'debt', '.'], 'output': ['O', 'O', 'O', 'B-LOC', 'O', 'O', 'O', 'O', 'O', 'O', 'O', 'O', 'O', 'O', 'O', 'O', 'O', 'O', 'O', 'O', 'O', 'O', 'O', 'O', 'O', 'O', 'O', 'O', 'O', 'O', 'O', 'O', 'O', 'O', 'O', 'O', 'O', 'O', 'O', 'O', 'O']}\n",
      "{'input': ['While', 'the', 'security', 'firm', 'estimates', 'around', '39', 'infected', 'apps', ',', 'another', 'Chinese', 'security', 'research', 'company', 'claims', 'that', 'this', 'figure', 'may', 'be', 'much', 'greater', 'than', '300', '.'], 'output': ['O', 'O', 'O', 'O', 'O', 'O', 'O', 'O', 'O', 'O', 'O', 'O', 'O', 'O', 'O', 'O', 'O', 'O', 'O', 'O', 'O', 'O', 'O', 'O', 'O', 'O']}\n",
      "{'input': ['He', 'said', 'it', '’s', '“', 'well', 'positioned', 'to', 'benefit', 'from', 'any', 'improvement', 'in', 'pricing', 'when', 'it', 'finally', 'and', 'inevitably', 'materialises', '”', '.'], 'output': ['O', 'O', 'O', 'O', 'O', 'O', 'O', 'O', 'O', 'O', 'O', 'O', 'O', 'O', 'O', 'O', 'O', 'O', 'O', 'O', 'O', 'O']}\n",
      "{'input': ['\"', 'Incomes', ',', 'which', 'include', 'profits', 'and', 'wages', ',', 'were', 'weak', 'in', 'the', 'June', 'quarter', ',', '\"', 'St', 'George', 'senior', 'economist', 'Jo', 'Horton', 'said', '.'], 'output': ['O', 'O', 'O', 'O', 'O', 'O', 'O', 'O', 'O', 'O', 'O', 'O', 'O', 'O', 'O', 'O', 'O', 'B-ORG', 'I-ORG', 'O', 'O', 'B-PER', 'I-PER', 'O', 'O']}\n",
      "{'input': ['In', 'Athens', ',', 'opposition', 'leaders', '-', 'echoing', 'EU', 'officials', '-', 'hammered', 'home', 'on', 'Tuesday', 'that', 'the', 'choice', 'facing', 'Greeks', 'in', 'the', 'referendum', 'is', 'whether', 'to', 'stay', 'in', 'the', 'euro', 'zone', 'or', 'return', 'to', 'the', 'drachma', ',', 'even', 'though', 'the', 'EU', 'has', 'no', 'legal', 'way', 'of', 'forcing', 'a', 'member', 'state', 'to', 'give', 'up', 'the', 'single', 'currency', '.'], 'output': ['O', 'B-LOC', 'O', 'O', 'O', 'O', 'O', 'B-ORG', 'O', 'O', 'O', 'O', 'O', 'O', 'O', 'O', 'O', 'O', 'O', 'O', 'O', 'O', 'O', 'O', 'O', 'O', 'O', 'O', 'O', 'O', 'O', 'O', 'O', 'O', 'O', 'O', 'O', 'O', 'O', 'B-ORG', 'O', 'O', 'O', 'O', 'O', 'O', 'O', 'O', 'O', 'O', 'O', 'O', 'O', 'O', 'O', 'O']}\n",
      "{'input': ['Platypus', 'Asset', 'Management', 'senior', 'resources', 'analyst', 'Anna', 'Kassianos', 'told', 'The', 'Australian', 'Financial', 'Review', 'last', 'week', 'investor', 'support', 'was', 'unlikely', 'to', 'improve', 'unless', 'iron', 'ore', 'prices', 'picked', 'up', '.'], 'output': ['B-ORG', 'I-ORG', 'I-ORG', 'O', 'O', 'O', 'B-PER', 'I-PER', 'O', 'O', 'B-ORG', 'I-ORG', 'I-ORG', 'O', 'O', 'O', 'O', 'O', 'O', 'O', 'O', 'O', 'O', 'O', 'O', 'O', 'O', 'O']}\n",
      "{'input': ['Why', 'should', 'we', 'not', 'appoint', 'a', 'receiver', 'to', 'auction', 'your', 'properties', ',', 'SC', 'asks', 'Sahara', 'The', 'Reserve', 'Bank', 'of', 'India', '(', 'RBI', ')', 'has', 'written', 'to', 'state', 'governments', 'of', 'stressed', 'power', 'distribution', 'companies', ',', 'and', 'asking', 'them', 'to', 'levy', 'appropriate', 'charges', 'from', 'customers', 'as', 'the', 'banking', 'system', 'would', 'not', 'continue', 'to', 'support', 'them', ',', 'Finance', 'Minister', 'Arun', 'Jaitley', 'said', 'on', 'Monday', '.'], 'output': ['O', 'O', 'O', 'O', 'O', 'O', 'O', 'O', 'O', 'O', 'O', 'O', 'B-ORG', 'O', 'B-LOC', 'O', 'B-ORG', 'I-ORG', 'I-ORG', 'I-ORG', 'O', 'B-ORG', 'O', 'O', 'O', 'O', 'O', 'O', 'O', 'O', 'O', 'O', 'O', 'O', 'O', 'O', 'O', 'O', 'O', 'O', 'O', 'O', 'O', 'O', 'O', 'O', 'O', 'O', 'O', 'O', 'O', 'O', 'O', 'O', 'O', 'O', 'B-PER', 'I-PER', 'O', 'O', 'O', 'O']}\n",
      "{'input': ['Abbott', 'is', 'on', 'the', 'nose', 'with', 'his', 'friends', 'and', 'customers', '.'], 'output': ['B-PER', 'O', 'O', 'O', 'O', 'O', 'O', 'O', 'O', 'O', 'O']}\n",
      "{'input': ['We', 'think', 'this', 'byelection', 'is', 'tremendously', 'important', '.'], 'output': ['O', 'O', 'O', 'O', 'O', 'O', 'O', 'O']}\n",
      "{'input': ['Industry', 'groups', 'warn', 'the', 'NLRB', 'decision', 'would', 'change', 'the', 'definition', 'of', 'an', '“', '...'], 'output': ['O', 'O', 'O', 'O', 'B-ORG', 'O', 'O', 'O', 'O', 'O', 'O', 'O', 'O', 'O']}\n",
      "{'input': ['\"', 'It', 'really', 'is', 'a', 'non-Labor', 'electorate', 'in', 'its', 'present', 'structure', ',', '\"', 'says', 'political', 'analyst', 'professor', 'David', 'Black', '.'], 'output': ['O', 'O', 'O', 'O', 'O', 'O', 'O', 'O', 'O', 'O', 'O', 'O', 'O', 'O', 'O', 'O', 'O', 'B-PER', 'I-PER', 'O']}\n",
      "{'input': ['Copper', 'was', 'down', '1.2', 'percent', ',', 'alongside', 'Chinese', 'equities', ',', 'after', 'data', 'showed', 'a', 'lower', '-', 'than', '-', 'expected', 'rise', 'in', 'China', \"'s\", 'factory', 'output', ',', 'reinforcing', 'worries', 'about', 'demand', 'for', 'the', 'metal', '.'], 'output': ['O', 'O', 'O', 'O', 'O', 'O', 'O', 'O', 'O', 'O', 'O', 'O', 'O', 'O', 'O', 'O', 'O', 'O', 'O', 'O', 'O', 'B-LOC', 'O', 'O', 'O', 'O', 'O', 'O', 'O', 'O', 'O', 'O', 'O', 'O']}\n",
      "{'input': ['Vauramo', 'said', 'the', 'long', '-', 'haul', 'fleet', 'renewal', ',', 'which', 'starts', 'this', 'fall', ',', 'would', 'enable', 'gradual', 'capacity', 'growth', 'and', 'generate', 'fuel', 'cost', 'savings', '.'], 'output': ['B-PER', 'O', 'O', 'O', 'O', 'O', 'O', 'O', 'O', 'O', 'O', 'O', 'O', 'O', 'O', 'O', 'O', 'O', 'O', 'O', 'O', 'O', 'O', 'O', 'O']}\n",
      "{'input': ['Sales', 'are', 'slowing', 'in', 'the', 'world', \"'s\", 'largest', 'auto', 'market', '.'], 'output': ['O', 'O', 'O', 'O', 'O', 'O', 'O', 'O', 'O', 'O', 'O']}\n",
      "{'input': ['\"', 'The', 'gentrification', 'of', 'industrial', 'estates', 'such', 'as', 'south', 'Sydney', 'and', 'the', 'central', 'west', 'is', 'an', 'inevitable', 'evolution', 'for', 'major', 'cities', ',', 'and', 'one', 'which', 'Sydney', 'is', 'currently', 'experiencing', ',', '\"', 'Mr', 'Tan', 'said', '.'], 'output': ['O', 'O', 'O', 'O', 'O', 'O', 'O', 'O', 'O', 'B-LOC', 'O', 'O', 'O', 'O', 'O', 'O', 'O', 'O', 'O', 'O', 'O', 'O', 'O', 'O', 'O', 'B-LOC', 'O', 'O', 'O', 'O', 'O', 'O', 'B-PER', 'O', 'O']}\n",
      "{'input': ['Moment', 'Scoring', 'goes', 'beyond', '1:1', 'marketing', 'by', 'learning', 'to', 'predict', 'what', 'marketing', 'actions', 'to', 'take', 'with', 'a', 'campaign', 'at', 'a', 'precise', 'moment', 'in', 'time', ',', 'which', 'results', 'in', 'a', 'much', 'more', 'efficient', 'use', 'of', 'marketing', 'dollars', '.'], 'output': ['O', 'O', 'O', 'O', 'O', 'O', 'O', 'O', 'O', 'O', 'O', 'O', 'O', 'O', 'O', 'O', 'O', 'O', 'O', 'O', 'O', 'O', 'O', 'O', 'O', 'O', 'O', 'O', 'O', 'O', 'O', 'O', 'O', 'O', 'O', 'O', 'O']}\n",
      "{'input': ['With', 'Greece', 'due', 'to', 'pay', 'the', 'European', 'Central', 'Bank', '3.5', 'billion', 'euros', '(', '$', '3.9', 'billion', ')', 'next', 'Monday', ',', 'ministers', 'are', 'looking', 'at', 'whether', 'they', 'could', 'recycle', 'interest', 'payments', 'already', 'made', 'by', 'Greece', 'to', 'euro', '-', 'zone', 'central', 'banks', ',', 'tap', 'a', 'fund', 'managed', 'by', 'all', '28', 'European', 'Union', 'governments', ',', 'give', 'Greece', 'more', 'time', 'to', 'pay', ',', 'or', 'organize', 'bilateral', 'loans', 'from', 'individual', 'EU', 'governments', '.'], 'output': ['O', 'B-LOC', 'O', 'O', 'O', 'O', 'B-ORG', 'I-ORG', 'I-ORG', 'O', 'O', 'O', 'O', 'O', 'O', 'O', 'O', 'O', 'O', 'O', 'O', 'O', 'O', 'O', 'O', 'O', 'O', 'O', 'O', 'O', 'O', 'O', 'O', 'B-LOC', 'O', 'O', 'O', 'O', 'O', 'O', 'O', 'O', 'O', 'O', 'O', 'O', 'O', 'O', 'O', 'O', 'O', 'O', 'O', 'B-LOC', 'O', 'O', 'O', 'O', 'O', 'O', 'O', 'O', 'O', 'O', 'O', 'O', 'O', 'O']}\n",
      "{'input': ['Effects', 'test', '\"', 'If', 'an', 'effects', 'test', 'were', 'to', 'be', 'introduced', ',', 'and', 'you', 'were', 'unable', 'to', 'convince', 'the', 'Australian', 'Competition', 'and', 'Consumer', 'Commission', 'to', 'take', 'your', 'case', ',', 'be', 'prepared', 'to', 'be', 'facing', 'a', 'conga', 'line', 'of', 'silks', 'and', 'consultants', ',', 'with', 'a', 'potential', 'legal', 'bill', 'that', 'could', 'be', 'multiples', 'of', 'a', 'small', 'firms', \"'\", 'turnover', ',', '\"', 'he', 'said', '.'], 'output': ['O', 'O', 'O', 'O', 'O', 'O', 'O', 'O', 'O', 'O', 'O', 'O', 'O', 'O', 'O', 'O', 'O', 'O', 'O', 'B-ORG', 'I-ORG', 'I-ORG', 'I-ORG', 'I-ORG', 'O', 'O', 'O', 'O', 'O', 'O', 'O', 'O', 'O', 'O', 'O', 'O', 'O', 'O', 'O', 'O', 'O', 'O', 'O', 'O', 'O', 'O', 'O', 'O', 'O', 'O', 'O', 'O', 'O', 'O', 'O', 'O', 'O', 'O', 'O', 'O', 'O', 'O']}\n",
      "{'input': ['I', 'will', 'be', 'writing', 'about', 'new', 'and', 'innovative', 'ways', 'to', 'save', 'money', '.'], 'output': ['O', 'O', 'O', 'O', 'O', 'O', 'O', 'O', 'O', 'O', 'O', 'O', 'O']}\n",
      "{'input': ['In', 'a', 'his', 'behalf', ',', 'the', 'Minister', 'of', 'Trade', 'and', 'Industry', ',', 'Dr', 'Ekwow', 'Spio-', 'Garbrah', ',', 'urged', 'members', 'of', 'SMEGA', 'to', 'continue', 'their', 'contribution', 'to', 'the', 'country', '’s', 'economy', 'through', 'national', 'output', ',', 'export', 'and', 'also', 'by', 'achieving', 'diverse', 'socio-economic', 'objectives', 'for', 'employment', 'and', 'enhancing', 'the', 'entrepreneurship', 'provided', 'by', 'the'], 'output': ['O', 'O', 'O', 'O', 'O', 'O', 'O', 'O', 'O', 'O', 'O', 'O', 'O', 'B-PER', 'I-PER', 'I-PER', 'O', 'O', 'O', 'O', 'O', 'O', 'O', 'O', 'O', 'O', 'O', 'O', 'O', 'O', 'O', 'O', 'O', 'O', 'O', 'O', 'O', 'O', 'O', 'O', 'O', 'O', 'O', 'O', 'O', 'O', 'O', 'O', 'O', 'O', 'O']}\n",
      "{'input': ['Mrs', 'Botchway', 'said', 'the', 'tax', 'education', 'was', 'to', 'enable', 'the', 'businesses', 'assist', 'taxpayers', 'to', 'appreciate', 'their', 'rights', 'and', 'obligations', 'under', 'the', 'law', '.'], 'output': ['O', 'B-PER', 'O', 'O', 'O', 'O', 'O', 'O', 'O', 'O', 'O', 'O', 'O', 'O', 'O', 'O', 'O', 'O', 'O', 'O', 'O', 'O', 'O']}\n",
      "{'input': ['CMOs', ',', 'senior', 'brand', 'and', 'digital', 'marketing', 'executives', ',', 'and', 'agencies', 'will', 'all', 'benefit', 'from', 'a', 'day', 'of', 'discussion', 'and', 'insight', 'as', 'to', 'what', 'this', 'new', 'era', 'of', 'marketing', 'will', 'demand', '.'], 'output': ['O', 'O', 'O', 'O', 'O', 'O', 'O', 'O', 'O', 'O', 'O', 'O', 'O', 'O', 'O', 'O', 'O', 'O', 'O', 'O', 'O', 'O', 'O', 'O', 'O', 'O', 'O', 'O', 'O', 'O', 'O', 'O']}\n",
      "{'input': ['Bruce', 'Frankel', 'is', 'a', 'registered', 'representatives', 'with', ',', 'and', 'securities', 'offered', 'through', ',', 'LPL', 'Financial', ',', 'Member', 'FINRA', '/', 'SIPC', '.'], 'output': ['B-PER', 'I-PER', 'O', 'O', 'O', 'O', 'O', 'O', 'O', 'O', 'O', 'O', 'O', 'B-ORG', 'I-ORG', 'O', 'O', 'B-ORG', 'I-ORG', 'I-ORG', 'O']}\n",
      "{'input': ['The', 'growth', 'in', 'B2B', 'advertising', 'is', 'a', 'further', 'sign', 'of', 'why', 'Facebook', \"'s\", 'platform', 'has', 'been', 'able', 'to', 'build', 'such', 'a', 'commanding', 'position', 'in', 'the', 'digital', 'and', 'mobile', 'ad', 'markets', '.'], 'output': ['O', 'O', 'O', 'O', 'O', 'O', 'O', 'O', 'O', 'O', 'O', 'B-ORG', 'O', 'O', 'O', 'O', 'O', 'O', 'O', 'O', 'O', 'O', 'O', 'O', 'O', 'O', 'O', 'O', 'O', 'O', 'O']}\n",
      "{'input': ['It', 'came', 'as', 'tens', 'of', 'thousands', 'of', 'people', 'descended', 'on', 'Athens', \"'\", 'central', 'Syntagma', 'square', 'over', 'the', 'past', '24', 'hours', 'in', 'two', 'different', 'rallies', '-', 'one', 'to', 'support', 'the', 'government', 'and', 'the', 'other', 'to', 'push', 'for', 'Greece', 'to', 'remain', 'in', 'the', 'euro', '.'], 'output': ['O', 'O', 'O', 'O', 'O', 'O', 'O', 'O', 'O', 'O', 'B-LOC', 'O', 'O', 'B-LOC', 'I-LOC', 'O', 'O', 'O', 'O', 'O', 'O', 'O', 'O', 'O', 'O', 'O', 'O', 'O', 'O', 'O', 'O', 'O', 'O', 'O', 'O', 'O', 'B-LOC', 'O', 'O', 'O', 'O', 'O', 'O']}\n",
      "{'input': ['Asked', 'about', 'his', 'top', 'priorities', 'as', 'Communications', 'Minister', ',', 'he', 'said', ':', '\"', 'The', 'way', 'I', 'frame', 'the', 'gig', 'is', 'that', 'I', 'am', 'to', 'some', 'extent', 'responsible', 'for', 'some', 'of', 'the', 'sinews', 'of', 'the', 'economy', ':', 'communications', ',', 'how', 'we', 'interact', 'with', 'each', 'other', 'in', 'business', 'and', 'individually', 'is', 'a', 'big', 'chunk', 'of', 'this', 'portfolio', 'so', 'I', 'see', 'it', 'very', 'much', 'as', 'an', 'economic', 'portfolio', ',', '\"', 'he', 'said', '.'], 'output': ['O', 'O', 'O', 'O', 'O', 'O', 'O', 'O', 'O', 'O', 'O', 'O', 'O', 'O', 'O', 'O', 'O', 'O', 'O', 'O', 'O', 'O', 'O', 'O', 'O', 'O', 'O', 'O', 'O', 'O', 'O', 'O', 'O', 'O', 'O', 'O', 'O', 'O', 'O', 'O', 'O', 'O', 'O', 'O', 'O', 'O', 'O', 'O', 'O', 'O', 'O', 'O', 'O', 'O', 'O', 'O', 'O', 'O', 'O', 'O', 'O', 'O', 'O', 'O', 'O', 'O', 'O', 'O', 'O', 'O']}\n",
      "{'input': ['I', 'do', \"n't\", 'think', 'that', 'is', 'a', 'genie', 'we', 'should', 'have', 'let', 'out', 'of', 'the', 'bottle', 'where', 'a', 'whole', 'lot', 'of', 'people', 'are', 'able', 'to', 'stigmatise', 'each', 'other', '.', '\"'], 'output': ['O', 'O', 'O', 'O', 'O', 'O', 'O', 'O', 'O', 'O', 'O', 'O', 'O', 'O', 'O', 'O', 'O', 'O', 'O', 'O', 'O', 'O', 'O', 'O', 'O', 'O', 'O', 'O', 'O', 'O']}\n",
      "{'input': ['It', \"'s\", 'a', 'circus', '.'], 'output': ['O', 'O', 'O', 'O', 'O']}\n",
      "{'input': ['Bank', \"'s\", 'shares', 'have', 'gained', 'almost', '30', 'per', 'cent', 'in', 'the', 'past', 'five', 'days', 'alone', ',', 'followed', 'by', 'the', 'Bank', 'of', 'China', ',', 'China', 'Life', 'Insurance', 'and', 'Petrochina', ',', 'which', 'have', 'all', 'recorded', 'double', '-', 'digit', 'percentage', 'growth', '.'], 'output': ['I-ORG', 'O', 'O', 'O', 'O', 'O', 'O', 'O', 'O', 'O', 'O', 'O', 'O', 'O', 'O', 'O', 'O', 'O', 'O', 'B-ORG', 'I-ORG', 'I-ORG', 'O', 'B-ORG', 'I-ORG', 'I-ORG', 'O', 'B-ORG', 'O', 'O', 'O', 'O', 'O', 'O', 'O', 'O', 'O', 'O', 'O']}\n",
      "{'input': ['Fri', ',', 'Aug', '14', ',', '2015', ',', '23:18', 'BST', '-', 'UK', 'Markets', 'closed', '5', 'Charts', 'From', 'the', 'Week', 'in', 'Markets', 'The', 'Wall', 'Street', 'Journal', '–', '29', 'minutes', 'ago', 'China', '’s', 'abrupt', 'devaluation', 'of', 'the', 'yuan', 'jolts', 'markets', 'world', '-', 'wide', ',', 'traders', 'see', 'a', 'bleak', 'outlook', 'for', 'oil', ',', 'and', 'global', 'property', 'prices', 'hit', 'heady', 'highs', '.'], 'output': ['O', 'O', 'O', 'O', 'O', 'O', 'O', 'O', 'O', 'O', 'B-ORG', 'I-ORG', 'O', 'O', 'O', 'O', 'O', 'O', 'O', 'O', 'O', 'B-ORG', 'I-ORG', 'I-ORG', 'O', 'O', 'O', 'O', 'B-LOC', 'O', 'O', 'O', 'O', 'O', 'O', 'O', 'O', 'O', 'O', 'O', 'O', 'O', 'O', 'O', 'O', 'O', 'O', 'O', 'O', 'O', 'O', 'O', 'O', 'O', 'O', 'O', 'O']}\n",
      "{'input': ['Euro', '-', 'area', 'ministers', 'will', 'discuss', 'Greece', '’s', 'short', '-', 'term', 'financing', 'on', 'a', 'conference', 'call', 'later', 'Tuesday', 'or', 'Wednesday', '.'], 'output': ['O', 'O', 'O', 'O', 'O', 'O', 'B-LOC', 'O', 'O', 'O', 'O', 'O', 'O', 'O', 'O', 'O', 'O', 'O', 'O', 'O', 'O']}\n",
      "{'input': ['4', 'October', '2015', '23:50', 'CET'], 'output': ['O', 'O', 'O', 'O', 'O']}\n",
      "{'input': ['A', 'start', 'investing', 'a', 'minimum', '5000', 'per', 'month', 'in', 'mutual', 'fund', 'and', 'increase', '10', '%', 'to', '20', '%', 'every', 'year', '....', 'Q', 'I', 'want', 'to', 'save', 'on', 'my', 'utility', 'bills', 'and', 'fuel', 'expenses', '.'], 'output': ['O', 'O', 'O', 'O', 'O', 'O', 'O', 'O', 'O', 'O', 'O', 'O', 'O', 'O', 'O', 'O', 'O', 'O', 'O', 'O', 'O', 'O', 'O', 'O', 'O', 'O', 'O', 'O', 'O', 'O', 'O', 'O', 'O', 'O']}\n",
      "{'input': ['Amarone', 'is', 'unique', 'in', 'that', 'it', 'is', 'produced', 'using', 'the', '‘', 'appassimento', '’', 'drying', 'technique', '.'], 'output': ['O', 'O', 'O', 'O', 'O', 'O', 'O', 'O', 'O', 'O', 'O', 'O', 'O', 'O', 'O', 'O']}\n",
      "{'input': ['Obviously', 'this', 'will', 'have', 'a', 'negative', 'impact', 'on', 'production', ',', '\"', 'Zambia', 'Chamber', 'of', 'Mines', 'President', 'Jackson', 'Sikamo', 'told', 'Reuters', '.'], 'output': ['O', 'O', 'O', 'O', 'O', 'O', 'O', 'O', 'O', 'O', 'O', 'B-ORG', 'I-ORG', 'I-ORG', 'I-ORG', 'O', 'B-PER', 'I-PER', 'O', 'B-ORG', 'O']}\n",
      "{'input': ['I', \"'ve\", 'been', 'waiting', 'six', 'months', 'for', 'that', 'answer', '.'], 'output': ['O', 'O', 'O', 'O', 'O', 'O', 'O', 'O', 'O', 'O']}\n",
      "{'input': ['On', 'one', 'hand', ',', 'affordability', 'issues', 'have', 'potential', 'for', 'tempering', 'market', 'growth', 'rates', '.'], 'output': ['O', 'O', 'O', 'O', 'O', 'O', 'O', 'O', 'O', 'O', 'O', 'O', 'O', 'O']}\n",
      "{'input': ['PACCAR', 'Inc', '.', 'PCAR', 'has', 'an', 'Earnings', 'ESP', 'of', '+1.72', '%', 'and', 'a', 'Zacks', 'Rank', '#', '2', '(', 'Buy', ')', '.'], 'output': ['B-ORG', 'I-ORG', 'O', 'B-ORG', 'O', 'O', 'O', 'O', 'O', 'O', 'O', 'O', 'O', 'O', 'O', 'O', 'O', 'O', 'O', 'O', 'O']}\n",
      "{'input': ['--', \"OVERNIGHT'S\", 'BOTTOM', 'LINE', ':'], 'output': ['O', 'O', 'O', 'O', 'O']}\n",
      "{'input': ['Facebook', ',', 'with', 'annual', 'revenue', 'of', 'about', '$', '12', 'billion', ',', 'will', 'surely', 'want', 'to', 'continue', 'growing', 'its', 'share', 'of', 'that', 'market', '.'], 'output': ['B-ORG', 'O', 'O', 'O', 'O', 'O', 'O', 'O', 'O', 'O', 'O', 'O', 'O', 'O', 'O', 'O', 'O', 'O', 'O', 'O', 'O', 'O', 'O']}\n",
      "{'input': ['Follow', 'the', 'journey', 'of', 'iron', ',', 'from', 'where', 'it', 'is', 'mined', 'from', 'to', 'the', 'plants', 'where', 'the', 'hard', 'work', 'continues', 'as', 'the', 'raw', 'metals', 'are', 'refined', 'and', 'processed', '.'], 'output': ['O', 'O', 'O', 'O', 'O', 'O', 'O', 'O', 'O', 'O', 'O', 'O', 'O', 'O', 'O', 'O', 'O', 'O', 'O', 'O', 'O', 'O', 'O', 'O', 'O', 'O', 'O', 'O', 'O']}\n",
      "{'input': ['Fundamentally', 'he', 'believes', 'in', 'China', 'and', 'he', 'believes', 'that', 'the', 'long', '-', 'term', 'demand', 'for', 'commodities', 'mean', 'prices', 'will', 'recover', '.'], 'output': ['O', 'O', 'O', 'O', 'B-LOC', 'O', 'O', 'O', 'O', 'O', 'O', 'O', 'O', 'O', 'O', 'O', 'O', 'O', 'O', 'O', 'O']}\n",
      "{'input': ['Notably', ',', 'House', 'Minority', 'leader', 'Nancy', 'Pelosi', '(', 'D', '-', 'Calif', '.', ')', ',', 'Democratic', 'Whip', 'Steny', 'Hoyer', '(', 'D', '-', 'Md', '.', ')', 'and', 'House', 'Financial', 'Services', 'Committee', 'ranking', 'member', 'Maxine', 'Waters', '(', 'D', '-', 'Calif', '.', ')', 'did', 'not', 'sign', 'the', 'letter', '.'], 'output': ['O', 'O', 'B-ORG', 'O', 'O', 'B-PER', 'I-PER', 'O', 'O', 'O', 'B-LOC', 'I-LOC', 'O', 'O', 'O', 'O', 'B-PER', 'I-PER', 'O', 'O', 'O', 'B-LOC', 'I-LOC', 'O', 'O', 'B-ORG', 'I-ORG', 'I-ORG', 'I-ORG', 'O', 'O', 'B-PER', 'I-PER', 'O', 'O', 'O', 'B-LOC', 'I-LOC', 'O', 'O', 'O', 'O', 'O', 'O', 'O']}\n",
      "{'input': ['While', 'men', '’s', 'feelings', 'remain', 'positive', ',', 'they', 'tied', 'the', 'lowest', 'reading', 'of', 'the', 'year', '.'], 'output': ['O', 'O', 'O', 'O', 'O', 'O', 'O', 'O', 'O', 'O', 'O', 'O', 'O', 'O', 'O', 'O']}\n",
      "{'input': ['Birmingham', 'has', 'met', 'Hastie', 'and', 'describes', 'him', 'as', '\"', 'exceptional', '\"', '.'], 'output': ['B-PER', 'O', 'O', 'B-PER', 'O', 'O', 'O', 'O', 'O', 'O', 'O', 'O']}\n",
      "{'input': ['Through', 'the', 'Financial', 'Restructuring', 'Package', '(', 'FRP', ')', ',', 'discoms', '’', 'short', '-', 'term', 'liabilities', 'amounting', 'to', 'Rs', '51,200', 'crore', 'were', 'restructured', 'by', 'the', 'lenders', 'in', '2012', 'with', 'the', 'comfort', 'of', 'state', 'government', 'guarantees', '.'], 'output': ['O', 'O', 'O', 'O', 'O', 'O', 'B-ORG', 'O', 'O', 'O', 'O', 'O', 'O', 'O', 'O', 'O', 'O', 'O', 'O', 'O', 'O', 'O', 'O', 'O', 'O', 'O', 'O', 'O', 'O', 'O', 'O', 'O', 'O', 'O', 'O']}\n",
      "{'input': ['Growth', 'would', 'ease', 'further', 'to', '6.8', 'per', 'cent', 'next', 'year', ',', 'the', 'report', 'said', '.'], 'output': ['O', 'O', 'O', 'O', 'O', 'O', 'O', 'O', 'O', 'O', 'O', 'O', 'O', 'O', 'O']}\n",
      "{'input': ['-', 'Individuals', 'can', 'easily', 'check', 'to', 'see', 'which', 'type', 'of', 'consumer', '-', 'driven', 'account', 'would', 'make', 'the', 'most', 'sense', 'for', 'them', 'before', 'they', 'enroll', 'and', 'they', 'can', 'return', 'to', 'use', 'it', 'as', 'a', 'day', '-', 'to', '-', 'day', 'reference', 'when', 'their', 'account', 'is', 'active', '.'], 'output': ['O', 'O', 'O', 'O', 'O', 'O', 'O', 'O', 'O', 'O', 'O', 'O', 'O', 'O', 'O', 'O', 'O', 'O', 'O', 'O', 'O', 'O', 'O', 'O', 'O', 'O', 'O', 'O', 'O', 'O', 'O', 'O', 'O', 'O', 'O', 'O', 'O', 'O', 'O', 'O', 'O', 'O', 'O', 'O', 'O']}\n",
      "{'input': ['In', '2016', ',', 'GDP', 'was', 'projected', 'to', 'expand', 'by', '6.2', 'per', 'cent', ',', 'down', 'from', 'the', 'initial', 'projection', 'of', '6.3', 'per', 'cent', ',', 'according', 'to', 'a', 'supplement', 'report', 'to', 'the', 'Outlook', '.'], 'output': ['O', 'O', 'O', 'O', 'O', 'O', 'O', 'O', 'O', 'O', 'O', 'O', 'O', 'O', 'O', 'O', 'O', 'O', 'O', 'O', 'O', 'O', 'O', 'O', 'O', 'O', 'O', 'O', 'O', 'O', 'B-ORG', 'O']}\n",
      "{'input': ['Eric', 'Glatt', ',', 'a', 'former', 'unpaid', 'intern', 'on', 'the', 'film', '\"', 'Black', 'Swan', ',', '\"', 'brought', 'a', 'lawsuit', 'against', 'Fox', 'Searchlight', 'Pictures', 'in', '2011', '.'], 'output': ['B-PER', 'I-PER', 'O', 'O', 'O', 'O', 'O', 'O', 'O', 'O', 'O', 'O', 'O', 'O', 'O', 'O', 'O', 'O', 'O', 'B-ORG', 'I-ORG', 'I-ORG', 'O', 'O', 'O']}\n",
      "{'input': ['\"', 'After', 'this', '(', 'measures', ')', 'if', 'there', 'is', 'a', 'fragile', 'bank', 'we', 'are', 'looking', 'at', 'consolidation', 'with', 'stronger', 'banks', '.'], 'output': ['O', 'O', 'O', 'O', 'O', 'O', 'O', 'O', 'O', 'O', 'O', 'O', 'O', 'O', 'O', 'O', 'O', 'O', 'O', 'O', 'O']}\n",
      "{'input': ['Moneylife', '»', 'Anshu', 'Gupta', ',', 'Sanjiv', 'Chaturvedi', 'win', 'Magsaysay', 'awards', '42926', 'Anshu', 'Gupta', ',', 'Sanjiv', 'Chaturvedi', 'win', 'Magsaysay', 'awards', '0', 'Comments', ','], 'output': ['B-ORG', 'O', 'B-PER', 'I-PER', 'O', 'B-PER', 'I-PER', 'O', 'O', 'O', 'O', 'B-PER', 'I-PER', 'O', 'B-PER', 'I-PER', 'O', 'O', 'O', 'O', 'O', 'O']}\n",
      "{'input': ['Com', \"'s\", 'listed', 'peers', '.'], 'output': ['I-ORG', 'O', 'O', 'O', 'O']}\n",
      "{'input': ['A', 'federal', 'appeals', 'court', 'temporarily', 'blocked', 'the', 'SEC', 'fraud', 'case', 'against', 'New', 'York', 'hedge', 'fund', 'manager', 'Lynn', 'Tilton', ',', 'Reuters', 'reported', 'last', 'Thursday', '.'], 'output': ['O', 'O', 'O', 'O', 'O', 'O', 'O', 'B-ORG', 'O', 'O', 'O', 'B-LOC', 'I-LOC', 'O', 'O', 'O', 'B-PER', 'I-PER', 'O', 'B-ORG', 'O', 'O', 'O', 'O']}\n",
      "{'input': ['EDT', 'NEW', 'YORK', '(', 'MainStreet', ')'], 'output': ['O', 'B-LOC', 'I-LOC', 'O', 'B-LOC', 'O']}\n",
      "{'input': ['He', 'added', 'that', 'governments', 'should', 'encourage', 'large', 'multinational', 'companies', 'like', 'Google', 'to', 'set', 'up', 'research', 'and', 'development', 'centres', 'to', 'attract', 'industry', 'players', '.'], 'output': ['O', 'O', 'O', 'O', 'O', 'O', 'O', 'O', 'O', 'O', 'B-ORG', 'O', 'O', 'O', 'O', 'O', 'O', 'O', 'O', 'O', 'O', 'O', 'O']}\n",
      "{'input': ['Overseas', ',', 'markets', 'were', 'higher', ':', 'The', 'Euro', 'Stoxx', '50', ',', 'which', 'tracks', 'large', '-', 'cap', 'companies', 'in', 'the', 'eurozone', 'gained', '0.47', '%', '.'], 'output': ['O', 'O', 'O', 'O', 'O', 'O', 'O', 'O', 'O', 'O', 'O', 'O', 'O', 'O', 'O', 'O', 'O', 'O', 'O', 'O', 'O', 'O', 'O', 'O']}\n"
     ]
    }
   ],
   "source": [
    "# Set number of examples\n",
    "k = 64\n",
    "\n",
    "# Retrieve examples with text labels\n",
    "examples = []\n",
    "\n",
    "for i in range(0,k):\n",
    "    select_example = {}\n",
    "    select_example[\"input\"] = finer[\"train\"][i]['tokens']\n",
    "    text_labels = finer[\"train\"][i]['ner_tags']\n",
    "    select_example[\"output\"] = convert_id2label(text_labels)\n",
    "    examples.append(select_example)\n",
    "\n",
    "for i in examples:\n",
    "    print(i)"
   ]
  },
  {
   "cell_type": "code",
   "execution_count": 311,
   "metadata": {},
   "outputs": [],
   "source": [
    "from langchain_core.prompts import (ChatPromptTemplate,FewShotChatMessagePromptTemplate)\n",
    "\n",
    "# Formatting each example as a prompt\n",
    "example_prompt = ChatPromptTemplate.from_messages(\n",
    "    [\n",
    "        (\"human\", \"{input}\"),\n",
    "        (\"ai\", \"{output}\"),\n",
    "    ]\n",
    ")\n",
    "few_shot_prompt = FewShotChatMessagePromptTemplate(\n",
    "    example_prompt=example_prompt,\n",
    "    examples=examples,\n",
    ")"
   ]
  },
  {
   "cell_type": "code",
   "execution_count": 312,
   "metadata": {},
   "outputs": [],
   "source": [
    "final_prompt = ChatPromptTemplate.from_messages(\n",
    "    [\n",
    "        ('system', \"\"\"\n",
    "            You are an expert in Natural Language Processing. \n",
    "            Your task is to identify common Named Entities (NER) for each token in a given list.\n",
    "            Each token can be one of the following labels: ['O', 'B-PER', 'I-PER', 'B-LOC', 'I-LOC', 'B-ORG', 'I-ORG'].\n",
    "            Return your answer in the format of a list of labels, where each label corresponds to a token in the input list.\n",
    "            The number of labels in output sequence should be equal to the number of tokens in the input list.\n",
    "            Print output list only\"\"\"),\n",
    "        few_shot_prompt,\n",
    "        (\"human\", \"{input}\")\n",
    "    ]\n",
    ")"
   ]
  },
  {
   "cell_type": "code",
   "execution_count": 313,
   "metadata": {},
   "outputs": [],
   "source": [
    "import ast\n",
    "\n",
    "# Retrieve list of labels from LLM output\n",
    "def retrieve_labels(output_result):\n",
    "    res_content = output_result.content\n",
    "    output_list = ast.literal_eval(res_content)\n",
    "    return output_list"
   ]
  },
  {
   "cell_type": "code",
   "execution_count": 325,
   "metadata": {},
   "outputs": [
    {
     "name": "stdout",
     "output_type": "stream",
     "text": [
      "Predicting 0\n"
     ]
    },
    {
     "name": "stderr",
     "output_type": "stream",
     "text": [
      " 2024-09-21 10:45:29,080 - INFO - HTTP Request: POST https://api.openai.com/v1/chat/completions \"HTTP/1.1 429 Too Many Requests\"\n",
      " 2024-09-21 10:45:29,092 - INFO - Retrying request to /chat/completions in 0.811299 seconds\n",
      " 2024-09-21 10:45:33,881 - INFO - HTTP Request: POST https://api.openai.com/v1/chat/completions \"HTTP/1.1 200 OK\"\n"
     ]
    },
    {
     "name": "stdout",
     "output_type": "stream",
     "text": [
      "Predicting 1\n"
     ]
    },
    {
     "name": "stderr",
     "output_type": "stream",
     "text": [
      " 2024-09-21 10:45:51,887 - INFO - HTTP Request: POST https://api.openai.com/v1/chat/completions \"HTTP/1.1 200 OK\"\n"
     ]
    },
    {
     "name": "stdout",
     "output_type": "stream",
     "text": [
      "Predicting 2\n"
     ]
    },
    {
     "name": "stderr",
     "output_type": "stream",
     "text": [
      " 2024-09-21 10:46:08,413 - INFO - HTTP Request: POST https://api.openai.com/v1/chat/completions \"HTTP/1.1 200 OK\"\n"
     ]
    },
    {
     "name": "stdout",
     "output_type": "stream",
     "text": [
      "Predicting 3\n"
     ]
    },
    {
     "name": "stderr",
     "output_type": "stream",
     "text": [
      " 2024-09-21 10:46:23,828 - INFO - HTTP Request: POST https://api.openai.com/v1/chat/completions \"HTTP/1.1 429 Too Many Requests\"\n",
      " 2024-09-21 10:46:23,830 - INFO - Retrying request to /chat/completions in 1.090000 seconds\n",
      " 2024-09-21 10:46:27,282 - INFO - HTTP Request: POST https://api.openai.com/v1/chat/completions \"HTTP/1.1 200 OK\"\n"
     ]
    },
    {
     "name": "stdout",
     "output_type": "stream",
     "text": [
      "Predicting 4\n"
     ]
    },
    {
     "name": "stderr",
     "output_type": "stream",
     "text": [
      " 2024-09-21 10:46:42,868 - INFO - HTTP Request: POST https://api.openai.com/v1/chat/completions \"HTTP/1.1 429 Too Many Requests\"\n",
      " 2024-09-21 10:46:42,874 - INFO - Retrying request to /chat/completions in 5.602000 seconds\n",
      " 2024-09-21 10:46:50,371 - INFO - HTTP Request: POST https://api.openai.com/v1/chat/completions \"HTTP/1.1 200 OK\"\n"
     ]
    },
    {
     "name": "stdout",
     "output_type": "stream",
     "text": [
      "Predicting 5\n"
     ]
    },
    {
     "name": "stderr",
     "output_type": "stream",
     "text": [
      " 2024-09-21 10:47:05,848 - INFO - HTTP Request: POST https://api.openai.com/v1/chat/completions \"HTTP/1.1 429 Too Many Requests\"\n",
      " 2024-09-21 10:47:05,849 - INFO - Retrying request to /chat/completions in 6.196000 seconds\n",
      " 2024-09-21 10:47:14,207 - INFO - HTTP Request: POST https://api.openai.com/v1/chat/completions \"HTTP/1.1 200 OK\"\n"
     ]
    },
    {
     "name": "stdout",
     "output_type": "stream",
     "text": [
      "Predicting 6\n"
     ]
    },
    {
     "name": "stderr",
     "output_type": "stream",
     "text": [
      " 2024-09-21 10:47:29,695 - INFO - HTTP Request: POST https://api.openai.com/v1/chat/completions \"HTTP/1.1 429 Too Many Requests\"\n",
      " 2024-09-21 10:47:29,702 - INFO - Retrying request to /chat/completions in 5.964000 seconds\n",
      " 2024-09-21 10:47:37,947 - INFO - HTTP Request: POST https://api.openai.com/v1/chat/completions \"HTTP/1.1 200 OK\"\n"
     ]
    },
    {
     "name": "stdout",
     "output_type": "stream",
     "text": [
      "Predicting 7\n"
     ]
    },
    {
     "name": "stderr",
     "output_type": "stream",
     "text": [
      " 2024-09-21 10:47:53,757 - INFO - HTTP Request: POST https://api.openai.com/v1/chat/completions \"HTTP/1.1 429 Too Many Requests\"\n",
      " 2024-09-21 10:47:53,758 - INFO - Retrying request to /chat/completions in 5.482000 seconds\n",
      " 2024-09-21 10:48:01,181 - INFO - HTTP Request: POST https://api.openai.com/v1/chat/completions \"HTTP/1.1 200 OK\"\n"
     ]
    },
    {
     "name": "stdout",
     "output_type": "stream",
     "text": [
      "Predicting 8\n"
     ]
    },
    {
     "name": "stderr",
     "output_type": "stream",
     "text": [
      " 2024-09-21 10:48:16,638 - INFO - HTTP Request: POST https://api.openai.com/v1/chat/completions \"HTTP/1.1 429 Too Many Requests\"\n",
      " 2024-09-21 10:48:16,639 - INFO - Retrying request to /chat/completions in 6.172000 seconds\n",
      " 2024-09-21 10:48:28,197 - INFO - HTTP Request: POST https://api.openai.com/v1/chat/completions \"HTTP/1.1 200 OK\"\n"
     ]
    },
    {
     "name": "stdout",
     "output_type": "stream",
     "text": [
      "Predicting 9\n"
     ]
    },
    {
     "name": "stderr",
     "output_type": "stream",
     "text": [
      " 2024-09-21 10:48:43,623 - INFO - HTTP Request: POST https://api.openai.com/v1/chat/completions \"HTTP/1.1 429 Too Many Requests\"\n",
      " 2024-09-21 10:48:43,625 - INFO - Retrying request to /chat/completions in 2.662000 seconds\n",
      " 2024-09-21 10:48:47,591 - INFO - HTTP Request: POST https://api.openai.com/v1/chat/completions \"HTTP/1.1 200 OK\"\n"
     ]
    },
    {
     "name": "stdout",
     "output_type": "stream",
     "text": [
      "Predicting 10\n"
     ]
    },
    {
     "name": "stderr",
     "output_type": "stream",
     "text": [
      " 2024-09-21 10:49:03,683 - INFO - HTTP Request: POST https://api.openai.com/v1/chat/completions \"HTTP/1.1 429 Too Many Requests\"\n",
      " 2024-09-21 10:49:03,689 - INFO - Retrying request to /chat/completions in 6.248000 seconds\n",
      " 2024-09-21 10:49:11,796 - INFO - HTTP Request: POST https://api.openai.com/v1/chat/completions \"HTTP/1.1 200 OK\"\n"
     ]
    },
    {
     "name": "stdout",
     "output_type": "stream",
     "text": [
      "Predicting 11\n"
     ]
    },
    {
     "name": "stderr",
     "output_type": "stream",
     "text": [
      " 2024-09-21 10:49:27,244 - INFO - HTTP Request: POST https://api.openai.com/v1/chat/completions \"HTTP/1.1 429 Too Many Requests\"\n",
      " 2024-09-21 10:49:27,245 - INFO - Retrying request to /chat/completions in 6.132000 seconds\n",
      " 2024-09-21 10:49:35,393 - INFO - HTTP Request: POST https://api.openai.com/v1/chat/completions \"HTTP/1.1 200 OK\"\n"
     ]
    },
    {
     "name": "stdout",
     "output_type": "stream",
     "text": [
      "Predicting 12\n"
     ]
    },
    {
     "name": "stderr",
     "output_type": "stream",
     "text": [
      " 2024-09-21 10:49:50,778 - INFO - HTTP Request: POST https://api.openai.com/v1/chat/completions \"HTTP/1.1 429 Too Many Requests\"\n",
      " 2024-09-21 10:49:50,780 - INFO - Retrying request to /chat/completions in 6.136000 seconds\n",
      " 2024-09-21 10:49:58,742 - INFO - HTTP Request: POST https://api.openai.com/v1/chat/completions \"HTTP/1.1 200 OK\"\n"
     ]
    },
    {
     "name": "stdout",
     "output_type": "stream",
     "text": [
      "Predicting 13\n"
     ]
    },
    {
     "name": "stderr",
     "output_type": "stream",
     "text": [
      " 2024-09-21 10:50:17,812 - INFO - HTTP Request: POST https://api.openai.com/v1/chat/completions \"HTTP/1.1 429 Too Many Requests\"\n",
      " 2024-09-21 10:50:17,817 - INFO - Retrying request to /chat/completions in 2.698000 seconds\n",
      " 2024-09-21 10:50:22,803 - INFO - HTTP Request: POST https://api.openai.com/v1/chat/completions \"HTTP/1.1 200 OK\"\n"
     ]
    },
    {
     "name": "stdout",
     "output_type": "stream",
     "text": [
      "Predicting 14\n"
     ]
    },
    {
     "name": "stderr",
     "output_type": "stream",
     "text": [
      " 2024-09-21 10:50:38,364 - INFO - HTTP Request: POST https://api.openai.com/v1/chat/completions \"HTTP/1.1 429 Too Many Requests\"\n",
      " 2024-09-21 10:50:38,417 - INFO - Retrying request to /chat/completions in 5.782000 seconds\n",
      " 2024-09-21 10:50:46,732 - INFO - HTTP Request: POST https://api.openai.com/v1/chat/completions \"HTTP/1.1 200 OK\"\n"
     ]
    },
    {
     "name": "stdout",
     "output_type": "stream",
     "text": [
      "Predicting 15\n"
     ]
    },
    {
     "name": "stderr",
     "output_type": "stream",
     "text": [
      " 2024-09-21 10:51:02,193 - INFO - HTTP Request: POST https://api.openai.com/v1/chat/completions \"HTTP/1.1 429 Too Many Requests\"\n",
      " 2024-09-21 10:51:02,195 - INFO - Retrying request to /chat/completions in 5.436000 seconds\n",
      " 2024-09-21 10:51:09,396 - INFO - HTTP Request: POST https://api.openai.com/v1/chat/completions \"HTTP/1.1 200 OK\"\n"
     ]
    },
    {
     "name": "stdout",
     "output_type": "stream",
     "text": [
      "Predicting 16\n"
     ]
    },
    {
     "name": "stderr",
     "output_type": "stream",
     "text": [
      " 2024-09-21 10:51:25,008 - INFO - HTTP Request: POST https://api.openai.com/v1/chat/completions \"HTTP/1.1 429 Too Many Requests\"\n",
      " 2024-09-21 10:51:25,009 - INFO - Retrying request to /chat/completions in 6.252000 seconds\n",
      " 2024-09-21 10:51:32,950 - INFO - HTTP Request: POST https://api.openai.com/v1/chat/completions \"HTTP/1.1 200 OK\"\n"
     ]
    },
    {
     "name": "stdout",
     "output_type": "stream",
     "text": [
      "Predicting 17\n"
     ]
    },
    {
     "name": "stderr",
     "output_type": "stream",
     "text": [
      " 2024-09-21 10:51:48,425 - INFO - HTTP Request: POST https://api.openai.com/v1/chat/completions \"HTTP/1.1 429 Too Many Requests\"\n",
      " 2024-09-21 10:51:48,428 - INFO - Retrying request to /chat/completions in 6.220000 seconds\n",
      " 2024-09-21 10:51:56,356 - INFO - HTTP Request: POST https://api.openai.com/v1/chat/completions \"HTTP/1.1 200 OK\"\n"
     ]
    },
    {
     "name": "stdout",
     "output_type": "stream",
     "text": [
      "Predicting 18\n"
     ]
    },
    {
     "name": "stderr",
     "output_type": "stream",
     "text": [
      " 2024-09-21 10:52:11,798 - INFO - HTTP Request: POST https://api.openai.com/v1/chat/completions \"HTTP/1.1 429 Too Many Requests\"\n",
      " 2024-09-21 10:52:11,801 - INFO - Retrying request to /chat/completions in 6.386000 seconds\n",
      " 2024-09-21 10:52:19,846 - INFO - HTTP Request: POST https://api.openai.com/v1/chat/completions \"HTTP/1.1 200 OK\"\n"
     ]
    },
    {
     "name": "stdout",
     "output_type": "stream",
     "text": [
      "Predicting 19\n"
     ]
    },
    {
     "name": "stderr",
     "output_type": "stream",
     "text": [
      " 2024-09-21 10:52:35,367 - INFO - HTTP Request: POST https://api.openai.com/v1/chat/completions \"HTTP/1.1 429 Too Many Requests\"\n",
      " 2024-09-21 10:52:35,368 - INFO - Retrying request to /chat/completions in 6.420000 seconds\n",
      " 2024-09-21 10:52:43,936 - INFO - HTTP Request: POST https://api.openai.com/v1/chat/completions \"HTTP/1.1 200 OK\"\n"
     ]
    },
    {
     "name": "stdout",
     "output_type": "stream",
     "text": [
      "Predicting 20\n"
     ]
    },
    {
     "name": "stderr",
     "output_type": "stream",
     "text": [
      " 2024-09-21 10:52:59,436 - INFO - HTTP Request: POST https://api.openai.com/v1/chat/completions \"HTTP/1.1 429 Too Many Requests\"\n",
      " 2024-09-21 10:52:59,439 - INFO - Retrying request to /chat/completions in 5.892000 seconds\n",
      " 2024-09-21 10:53:08,540 - INFO - HTTP Request: POST https://api.openai.com/v1/chat/completions \"HTTP/1.1 200 OK\"\n"
     ]
    },
    {
     "name": "stdout",
     "output_type": "stream",
     "text": [
      "Predicting 21\n"
     ]
    },
    {
     "name": "stderr",
     "output_type": "stream",
     "text": [
      " 2024-09-21 10:53:23,971 - INFO - HTTP Request: POST https://api.openai.com/v1/chat/completions \"HTTP/1.1 429 Too Many Requests\"\n",
      " 2024-09-21 10:53:23,974 - INFO - Retrying request to /chat/completions in 5.004000 seconds\n",
      " 2024-09-21 10:53:31,379 - INFO - HTTP Request: POST https://api.openai.com/v1/chat/completions \"HTTP/1.1 200 OK\"\n"
     ]
    },
    {
     "name": "stdout",
     "output_type": "stream",
     "text": [
      "Predicting 22\n"
     ]
    },
    {
     "name": "stderr",
     "output_type": "stream",
     "text": [
      " 2024-09-21 10:53:46,855 - INFO - HTTP Request: POST https://api.openai.com/v1/chat/completions \"HTTP/1.1 429 Too Many Requests\"\n",
      " 2024-09-21 10:53:46,858 - INFO - Retrying request to /chat/completions in 5.720000 seconds\n",
      " 2024-09-21 10:53:54,992 - INFO - HTTP Request: POST https://api.openai.com/v1/chat/completions \"HTTP/1.1 200 OK\"\n"
     ]
    },
    {
     "name": "stdout",
     "output_type": "stream",
     "text": [
      "Predicting 23\n"
     ]
    },
    {
     "name": "stderr",
     "output_type": "stream",
     "text": [
      " 2024-09-21 10:54:10,596 - INFO - HTTP Request: POST https://api.openai.com/v1/chat/completions \"HTTP/1.1 429 Too Many Requests\"\n",
      " 2024-09-21 10:54:10,604 - INFO - Retrying request to /chat/completions in 5.554000 seconds\n",
      " 2024-09-21 10:54:18,626 - INFO - HTTP Request: POST https://api.openai.com/v1/chat/completions \"HTTP/1.1 200 OK\"\n"
     ]
    },
    {
     "name": "stdout",
     "output_type": "stream",
     "text": [
      "Predicting 24\n"
     ]
    },
    {
     "name": "stderr",
     "output_type": "stream",
     "text": [
      " 2024-09-21 10:54:34,094 - INFO - HTTP Request: POST https://api.openai.com/v1/chat/completions \"HTTP/1.1 429 Too Many Requests\"\n",
      " 2024-09-21 10:54:34,095 - INFO - Retrying request to /chat/completions in 5.564000 seconds\n",
      " 2024-09-21 10:54:41,342 - INFO - HTTP Request: POST https://api.openai.com/v1/chat/completions \"HTTP/1.1 200 OK\"\n"
     ]
    },
    {
     "name": "stdout",
     "output_type": "stream",
     "text": [
      "Predicting 25\n"
     ]
    },
    {
     "name": "stderr",
     "output_type": "stream",
     "text": [
      " 2024-09-21 10:54:56,773 - INFO - HTTP Request: POST https://api.openai.com/v1/chat/completions \"HTTP/1.1 429 Too Many Requests\"\n",
      " 2024-09-21 10:54:56,774 - INFO - Retrying request to /chat/completions in 6.408000 seconds\n",
      " 2024-09-21 10:55:04,988 - INFO - HTTP Request: POST https://api.openai.com/v1/chat/completions \"HTTP/1.1 200 OK\"\n"
     ]
    },
    {
     "name": "stdout",
     "output_type": "stream",
     "text": [
      "Predicting 26\n"
     ]
    },
    {
     "name": "stderr",
     "output_type": "stream",
     "text": [
      " 2024-09-21 10:55:20,482 - INFO - HTTP Request: POST https://api.openai.com/v1/chat/completions \"HTTP/1.1 429 Too Many Requests\"\n",
      " 2024-09-21 10:55:20,483 - INFO - Retrying request to /chat/completions in 6.230000 seconds\n",
      " 2024-09-21 10:55:29,754 - INFO - HTTP Request: POST https://api.openai.com/v1/chat/completions \"HTTP/1.1 200 OK\"\n"
     ]
    },
    {
     "name": "stdout",
     "output_type": "stream",
     "text": [
      "Predicting 27\n"
     ]
    },
    {
     "name": "stderr",
     "output_type": "stream",
     "text": [
      " 2024-09-21 10:55:45,215 - INFO - HTTP Request: POST https://api.openai.com/v1/chat/completions \"HTTP/1.1 429 Too Many Requests\"\n",
      " 2024-09-21 10:55:45,216 - INFO - Retrying request to /chat/completions in 4.980000 seconds\n",
      " 2024-09-21 10:55:51,810 - INFO - HTTP Request: POST https://api.openai.com/v1/chat/completions \"HTTP/1.1 200 OK\"\n"
     ]
    },
    {
     "name": "stdout",
     "output_type": "stream",
     "text": [
      "Predicting 28\n"
     ]
    },
    {
     "name": "stderr",
     "output_type": "stream",
     "text": [
      " 2024-09-21 10:56:07,276 - INFO - HTTP Request: POST https://api.openai.com/v1/chat/completions \"HTTP/1.1 429 Too Many Requests\"\n",
      " 2024-09-21 10:56:07,277 - INFO - Retrying request to /chat/completions in 6.486000 seconds\n",
      " 2024-09-21 10:56:15,468 - INFO - HTTP Request: POST https://api.openai.com/v1/chat/completions \"HTTP/1.1 200 OK\"\n"
     ]
    },
    {
     "name": "stdout",
     "output_type": "stream",
     "text": [
      "Predicting 29\n"
     ]
    },
    {
     "name": "stderr",
     "output_type": "stream",
     "text": [
      " 2024-09-21 10:56:30,932 - INFO - HTTP Request: POST https://api.openai.com/v1/chat/completions \"HTTP/1.1 429 Too Many Requests\"\n",
      " 2024-09-21 10:56:30,935 - INFO - Retrying request to /chat/completions in 6.348000 seconds\n",
      " 2024-09-21 10:56:39,280 - INFO - HTTP Request: POST https://api.openai.com/v1/chat/completions \"HTTP/1.1 200 OK\"\n"
     ]
    },
    {
     "name": "stdout",
     "output_type": "stream",
     "text": [
      "Predicting 30\n"
     ]
    },
    {
     "name": "stderr",
     "output_type": "stream",
     "text": [
      " 2024-09-21 10:56:55,745 - INFO - HTTP Request: POST https://api.openai.com/v1/chat/completions \"HTTP/1.1 429 Too Many Requests\"\n",
      " 2024-09-21 10:56:55,747 - INFO - Retrying request to /chat/completions in 5.006000 seconds\n",
      " 2024-09-21 10:57:02,671 - INFO - HTTP Request: POST https://api.openai.com/v1/chat/completions \"HTTP/1.1 200 OK\"\n"
     ]
    },
    {
     "name": "stdout",
     "output_type": "stream",
     "text": [
      "Predicting 31\n"
     ]
    },
    {
     "name": "stderr",
     "output_type": "stream",
     "text": [
      " 2024-09-21 10:57:18,205 - INFO - HTTP Request: POST https://api.openai.com/v1/chat/completions \"HTTP/1.1 429 Too Many Requests\"\n",
      " 2024-09-21 10:57:18,206 - INFO - Retrying request to /chat/completions in 6.130000 seconds\n",
      " 2024-09-21 10:57:26,349 - INFO - HTTP Request: POST https://api.openai.com/v1/chat/completions \"HTTP/1.1 200 OK\"\n"
     ]
    },
    {
     "name": "stdout",
     "output_type": "stream",
     "text": [
      "Predicting 32\n"
     ]
    },
    {
     "name": "stderr",
     "output_type": "stream",
     "text": [
      " 2024-09-21 10:57:41,889 - INFO - HTTP Request: POST https://api.openai.com/v1/chat/completions \"HTTP/1.1 429 Too Many Requests\"\n",
      " 2024-09-21 10:57:41,892 - INFO - Retrying request to /chat/completions in 6.052000 seconds\n",
      " 2024-09-21 10:57:50,208 - INFO - HTTP Request: POST https://api.openai.com/v1/chat/completions \"HTTP/1.1 200 OK\"\n"
     ]
    },
    {
     "name": "stdout",
     "output_type": "stream",
     "text": [
      "Predicting 33\n"
     ]
    },
    {
     "name": "stderr",
     "output_type": "stream",
     "text": [
      " 2024-09-21 10:58:06,202 - INFO - HTTP Request: POST https://api.openai.com/v1/chat/completions \"HTTP/1.1 429 Too Many Requests\"\n",
      " 2024-09-21 10:58:06,204 - INFO - Retrying request to /chat/completions in 5.276000 seconds\n",
      " 2024-09-21 10:58:13,846 - INFO - HTTP Request: POST https://api.openai.com/v1/chat/completions \"HTTP/1.1 200 OK\"\n"
     ]
    },
    {
     "name": "stdout",
     "output_type": "stream",
     "text": [
      "Predicting 34\n"
     ]
    },
    {
     "name": "stderr",
     "output_type": "stream",
     "text": [
      " 2024-09-21 10:58:29,385 - INFO - HTTP Request: POST https://api.openai.com/v1/chat/completions \"HTTP/1.1 429 Too Many Requests\"\n",
      " 2024-09-21 10:58:29,387 - INFO - Retrying request to /chat/completions in 5.606000 seconds\n",
      " 2024-09-21 10:58:36,468 - INFO - HTTP Request: POST https://api.openai.com/v1/chat/completions \"HTTP/1.1 200 OK\"\n"
     ]
    },
    {
     "name": "stdout",
     "output_type": "stream",
     "text": [
      "Predicting 35\n"
     ]
    },
    {
     "name": "stderr",
     "output_type": "stream",
     "text": [
      " 2024-09-21 10:58:51,915 - INFO - HTTP Request: POST https://api.openai.com/v1/chat/completions \"HTTP/1.1 429 Too Many Requests\"\n",
      " 2024-09-21 10:58:51,921 - INFO - Retrying request to /chat/completions in 6.588000 seconds\n",
      " 2024-09-21 10:59:00,121 - INFO - HTTP Request: POST https://api.openai.com/v1/chat/completions \"HTTP/1.1 200 OK\"\n"
     ]
    },
    {
     "name": "stdout",
     "output_type": "stream",
     "text": [
      "Predicting 36\n"
     ]
    },
    {
     "name": "stderr",
     "output_type": "stream",
     "text": [
      " 2024-09-21 10:59:19,440 - INFO - HTTP Request: POST https://api.openai.com/v1/chat/completions \"HTTP/1.1 429 Too Many Requests\"\n",
      " 2024-09-21 10:59:19,443 - INFO - Retrying request to /chat/completions in 2.552000 seconds\n",
      " 2024-09-21 10:59:23,626 - INFO - HTTP Request: POST https://api.openai.com/v1/chat/completions \"HTTP/1.1 200 OK\"\n"
     ]
    },
    {
     "name": "stdout",
     "output_type": "stream",
     "text": [
      "Predicting 37\n"
     ]
    },
    {
     "name": "stderr",
     "output_type": "stream",
     "text": [
      " 2024-09-21 10:59:39,303 - INFO - HTTP Request: POST https://api.openai.com/v1/chat/completions \"HTTP/1.1 429 Too Many Requests\"\n",
      " 2024-09-21 10:59:39,306 - INFO - Retrying request to /chat/completions in 6.264000 seconds\n",
      " 2024-09-21 10:59:47,724 - INFO - HTTP Request: POST https://api.openai.com/v1/chat/completions \"HTTP/1.1 200 OK\"\n"
     ]
    },
    {
     "name": "stdout",
     "output_type": "stream",
     "text": [
      "Predicting 38\n"
     ]
    },
    {
     "name": "stderr",
     "output_type": "stream",
     "text": [
      " 2024-09-21 11:00:03,202 - INFO - HTTP Request: POST https://api.openai.com/v1/chat/completions \"HTTP/1.1 429 Too Many Requests\"\n",
      " 2024-09-21 11:00:03,204 - INFO - Retrying request to /chat/completions in 5.858000 seconds\n",
      " 2024-09-21 11:00:10,577 - INFO - HTTP Request: POST https://api.openai.com/v1/chat/completions \"HTTP/1.1 200 OK\"\n"
     ]
    },
    {
     "name": "stdout",
     "output_type": "stream",
     "text": [
      "Predicting 39\n"
     ]
    },
    {
     "name": "stderr",
     "output_type": "stream",
     "text": [
      " 2024-09-21 11:00:26,614 - INFO - HTTP Request: POST https://api.openai.com/v1/chat/completions \"HTTP/1.1 429 Too Many Requests\"\n",
      " 2024-09-21 11:00:26,621 - INFO - Retrying request to /chat/completions in 5.978000 seconds\n",
      " 2024-09-21 11:00:34,428 - INFO - HTTP Request: POST https://api.openai.com/v1/chat/completions \"HTTP/1.1 200 OK\"\n"
     ]
    },
    {
     "name": "stdout",
     "output_type": "stream",
     "text": [
      "Predicting 40\n"
     ]
    },
    {
     "name": "stderr",
     "output_type": "stream",
     "text": [
      " 2024-09-21 11:00:49,880 - INFO - HTTP Request: POST https://api.openai.com/v1/chat/completions \"HTTP/1.1 429 Too Many Requests\"\n",
      " 2024-09-21 11:00:49,882 - INFO - Retrying request to /chat/completions in 6.262000 seconds\n",
      " 2024-09-21 11:01:02,004 - INFO - HTTP Request: POST https://api.openai.com/v1/chat/completions \"HTTP/1.1 200 OK\"\n"
     ]
    },
    {
     "name": "stdout",
     "output_type": "stream",
     "text": [
      "Predicting 41\n"
     ]
    },
    {
     "name": "stderr",
     "output_type": "stream",
     "text": [
      " 2024-09-21 11:01:17,728 - INFO - HTTP Request: POST https://api.openai.com/v1/chat/completions \"HTTP/1.1 429 Too Many Requests\"\n",
      " 2024-09-21 11:01:17,734 - INFO - Retrying request to /chat/completions in 1.966000 seconds\n",
      " 2024-09-21 11:01:21,643 - INFO - HTTP Request: POST https://api.openai.com/v1/chat/completions \"HTTP/1.1 200 OK\"\n"
     ]
    },
    {
     "name": "stdout",
     "output_type": "stream",
     "text": [
      "Predicting 42\n"
     ]
    },
    {
     "name": "stderr",
     "output_type": "stream",
     "text": [
      " 2024-09-21 11:01:37,182 - INFO - HTTP Request: POST https://api.openai.com/v1/chat/completions \"HTTP/1.1 429 Too Many Requests\"\n",
      " 2024-09-21 11:01:37,184 - INFO - Retrying request to /chat/completions in 6.112000 seconds\n",
      " 2024-09-21 11:01:46,834 - INFO - HTTP Request: POST https://api.openai.com/v1/chat/completions \"HTTP/1.1 200 OK\"\n"
     ]
    },
    {
     "name": "stdout",
     "output_type": "stream",
     "text": [
      "Predicting 43\n"
     ]
    },
    {
     "name": "stderr",
     "output_type": "stream",
     "text": [
      " 2024-09-21 11:02:02,345 - INFO - HTTP Request: POST https://api.openai.com/v1/chat/completions \"HTTP/1.1 429 Too Many Requests\"\n",
      " 2024-09-21 11:02:02,346 - INFO - Retrying request to /chat/completions in 4.520000 seconds\n",
      " 2024-09-21 11:02:08,760 - INFO - HTTP Request: POST https://api.openai.com/v1/chat/completions \"HTTP/1.1 200 OK\"\n"
     ]
    },
    {
     "name": "stdout",
     "output_type": "stream",
     "text": [
      "Predicting 44\n"
     ]
    },
    {
     "name": "stderr",
     "output_type": "stream",
     "text": [
      " 2024-09-21 11:02:24,653 - INFO - HTTP Request: POST https://api.openai.com/v1/chat/completions \"HTTP/1.1 429 Too Many Requests\"\n",
      " 2024-09-21 11:02:24,657 - INFO - Retrying request to /chat/completions in 5.918000 seconds\n",
      " 2024-09-21 11:02:32,803 - INFO - HTTP Request: POST https://api.openai.com/v1/chat/completions \"HTTP/1.1 200 OK\"\n"
     ]
    },
    {
     "name": "stdout",
     "output_type": "stream",
     "text": [
      "Predicting 45\n"
     ]
    },
    {
     "name": "stderr",
     "output_type": "stream",
     "text": [
      " 2024-09-21 11:02:48,260 - INFO - HTTP Request: POST https://api.openai.com/v1/chat/completions \"HTTP/1.1 429 Too Many Requests\"\n",
      " 2024-09-21 11:02:48,261 - INFO - Retrying request to /chat/completions in 5.732000 seconds\n",
      " 2024-09-21 11:02:55,877 - INFO - HTTP Request: POST https://api.openai.com/v1/chat/completions \"HTTP/1.1 200 OK\"\n"
     ]
    },
    {
     "name": "stdout",
     "output_type": "stream",
     "text": [
      "Predicting 46\n"
     ]
    },
    {
     "name": "stderr",
     "output_type": "stream",
     "text": [
      " 2024-09-21 11:03:11,804 - INFO - HTTP Request: POST https://api.openai.com/v1/chat/completions \"HTTP/1.1 429 Too Many Requests\"\n",
      " 2024-09-21 11:03:11,808 - INFO - Retrying request to /chat/completions in 5.692000 seconds\n",
      " 2024-09-21 11:03:19,605 - INFO - HTTP Request: POST https://api.openai.com/v1/chat/completions \"HTTP/1.1 200 OK\"\n"
     ]
    },
    {
     "name": "stdout",
     "output_type": "stream",
     "text": [
      "Predicting 47\n"
     ]
    },
    {
     "name": "stderr",
     "output_type": "stream",
     "text": [
      " 2024-09-21 11:03:35,364 - INFO - HTTP Request: POST https://api.openai.com/v1/chat/completions \"HTTP/1.1 429 Too Many Requests\"\n",
      " 2024-09-21 11:03:35,367 - INFO - Retrying request to /chat/completions in 5.836000 seconds\n",
      " 2024-09-21 11:03:44,090 - INFO - HTTP Request: POST https://api.openai.com/v1/chat/completions \"HTTP/1.1 200 OK\"\n"
     ]
    },
    {
     "name": "stdout",
     "output_type": "stream",
     "text": [
      "Predicting 48\n"
     ]
    },
    {
     "name": "stderr",
     "output_type": "stream",
     "text": [
      " 2024-09-21 11:03:59,592 - INFO - HTTP Request: POST https://api.openai.com/v1/chat/completions \"HTTP/1.1 429 Too Many Requests\"\n",
      " 2024-09-21 11:03:59,594 - INFO - Retrying request to /chat/completions in 5.102000 seconds\n",
      " 2024-09-21 11:04:10,170 - INFO - HTTP Request: POST https://api.openai.com/v1/chat/completions \"HTTP/1.1 200 OK\"\n"
     ]
    },
    {
     "name": "stdout",
     "output_type": "stream",
     "text": [
      "Predicting 49\n"
     ]
    },
    {
     "name": "stderr",
     "output_type": "stream",
     "text": [
      " 2024-09-21 11:04:25,782 - INFO - HTTP Request: POST https://api.openai.com/v1/chat/completions \"HTTP/1.1 429 Too Many Requests\"\n",
      " 2024-09-21 11:04:25,783 - INFO - Retrying request to /chat/completions in 2.560000 seconds\n",
      " 2024-09-21 11:04:31,169 - INFO - HTTP Request: POST https://api.openai.com/v1/chat/completions \"HTTP/1.1 200 OK\"\n"
     ]
    },
    {
     "name": "stdout",
     "output_type": "stream",
     "text": [
      "Predicting 50\n"
     ]
    },
    {
     "name": "stderr",
     "output_type": "stream",
     "text": [
      " 2024-09-21 11:04:47,176 - INFO - HTTP Request: POST https://api.openai.com/v1/chat/completions \"HTTP/1.1 429 Too Many Requests\"\n",
      " 2024-09-21 11:04:47,180 - INFO - Retrying request to /chat/completions in 4.862000 seconds\n",
      " 2024-09-21 11:04:54,732 - INFO - HTTP Request: POST https://api.openai.com/v1/chat/completions \"HTTP/1.1 200 OK\"\n"
     ]
    },
    {
     "name": "stdout",
     "output_type": "stream",
     "text": [
      "Predicting 51\n"
     ]
    },
    {
     "name": "stderr",
     "output_type": "stream",
     "text": [
      " 2024-09-21 11:05:10,223 - INFO - HTTP Request: POST https://api.openai.com/v1/chat/completions \"HTTP/1.1 429 Too Many Requests\"\n",
      " 2024-09-21 11:05:10,227 - INFO - Retrying request to /chat/completions in 5.364000 seconds\n",
      " 2024-09-21 11:05:17,578 - INFO - HTTP Request: POST https://api.openai.com/v1/chat/completions \"HTTP/1.1 200 OK\"\n"
     ]
    },
    {
     "name": "stdout",
     "output_type": "stream",
     "text": [
      "Predicting 52\n"
     ]
    },
    {
     "name": "stderr",
     "output_type": "stream",
     "text": [
      " 2024-09-21 11:05:33,124 - INFO - HTTP Request: POST https://api.openai.com/v1/chat/completions \"HTTP/1.1 429 Too Many Requests\"\n",
      " 2024-09-21 11:05:33,128 - INFO - Retrying request to /chat/completions in 6.000000 seconds\n",
      " 2024-09-21 11:05:41,160 - INFO - HTTP Request: POST https://api.openai.com/v1/chat/completions \"HTTP/1.1 200 OK\"\n"
     ]
    },
    {
     "name": "stdout",
     "output_type": "stream",
     "text": [
      "Predicting 53\n"
     ]
    },
    {
     "name": "stderr",
     "output_type": "stream",
     "text": [
      " 2024-09-21 11:05:56,712 - INFO - HTTP Request: POST https://api.openai.com/v1/chat/completions \"HTTP/1.1 429 Too Many Requests\"\n",
      " 2024-09-21 11:05:56,714 - INFO - Retrying request to /chat/completions in 5.966000 seconds\n",
      " 2024-09-21 11:06:04,497 - INFO - HTTP Request: POST https://api.openai.com/v1/chat/completions \"HTTP/1.1 200 OK\"\n"
     ]
    },
    {
     "name": "stdout",
     "output_type": "stream",
     "text": [
      "Predicting 54\n"
     ]
    },
    {
     "name": "stderr",
     "output_type": "stream",
     "text": [
      " 2024-09-21 11:06:20,303 - INFO - HTTP Request: POST https://api.openai.com/v1/chat/completions \"HTTP/1.1 429 Too Many Requests\"\n",
      " 2024-09-21 11:06:20,309 - INFO - Retrying request to /chat/completions in 6.014000 seconds\n",
      " 2024-09-21 11:06:29,453 - INFO - HTTP Request: POST https://api.openai.com/v1/chat/completions \"HTTP/1.1 200 OK\"\n"
     ]
    },
    {
     "name": "stdout",
     "output_type": "stream",
     "text": [
      "Predicting 55\n"
     ]
    },
    {
     "name": "stderr",
     "output_type": "stream",
     "text": [
      " 2024-09-21 11:06:44,900 - INFO - HTTP Request: POST https://api.openai.com/v1/chat/completions \"HTTP/1.1 429 Too Many Requests\"\n",
      " 2024-09-21 11:06:44,902 - INFO - Retrying request to /chat/completions in 4.884000 seconds\n",
      " 2024-09-21 11:06:51,056 - INFO - HTTP Request: POST https://api.openai.com/v1/chat/completions \"HTTP/1.1 200 OK\"\n"
     ]
    },
    {
     "name": "stdout",
     "output_type": "stream",
     "text": [
      "Predicting 56\n"
     ]
    },
    {
     "name": "stderr",
     "output_type": "stream",
     "text": [
      " 2024-09-21 11:07:06,545 - INFO - HTTP Request: POST https://api.openai.com/v1/chat/completions \"HTTP/1.1 429 Too Many Requests\"\n",
      " 2024-09-21 11:07:06,546 - INFO - Retrying request to /chat/completions in 6.828000 seconds\n",
      " 2024-09-21 11:07:15,356 - INFO - HTTP Request: POST https://api.openai.com/v1/chat/completions \"HTTP/1.1 200 OK\"\n"
     ]
    },
    {
     "name": "stdout",
     "output_type": "stream",
     "text": [
      "Predicting 57\n"
     ]
    },
    {
     "name": "stderr",
     "output_type": "stream",
     "text": [
      " 2024-09-21 11:07:30,832 - INFO - HTTP Request: POST https://api.openai.com/v1/chat/completions \"HTTP/1.1 429 Too Many Requests\"\n",
      " 2024-09-21 11:07:30,833 - INFO - Retrying request to /chat/completions in 6.134000 seconds\n",
      " 2024-09-21 11:07:39,400 - INFO - HTTP Request: POST https://api.openai.com/v1/chat/completions \"HTTP/1.1 200 OK\"\n"
     ]
    },
    {
     "name": "stdout",
     "output_type": "stream",
     "text": [
      "Predicting 58\n"
     ]
    },
    {
     "name": "stderr",
     "output_type": "stream",
     "text": [
      " 2024-09-21 11:07:54,925 - INFO - HTTP Request: POST https://api.openai.com/v1/chat/completions \"HTTP/1.1 429 Too Many Requests\"\n",
      " 2024-09-21 11:07:54,927 - INFO - Retrying request to /chat/completions in 5.586000 seconds\n",
      " 2024-09-21 11:08:02,523 - INFO - HTTP Request: POST https://api.openai.com/v1/chat/completions \"HTTP/1.1 200 OK\"\n"
     ]
    },
    {
     "name": "stdout",
     "output_type": "stream",
     "text": [
      "Predicting 59\n"
     ]
    },
    {
     "name": "stderr",
     "output_type": "stream",
     "text": [
      " 2024-09-21 11:08:17,946 - INFO - HTTP Request: POST https://api.openai.com/v1/chat/completions \"HTTP/1.1 429 Too Many Requests\"\n",
      " 2024-09-21 11:08:17,947 - INFO - Retrying request to /chat/completions in 6.202000 seconds\n",
      " 2024-09-21 11:08:26,691 - INFO - HTTP Request: POST https://api.openai.com/v1/chat/completions \"HTTP/1.1 200 OK\"\n"
     ]
    },
    {
     "name": "stdout",
     "output_type": "stream",
     "text": [
      "Predicting 60\n"
     ]
    },
    {
     "name": "stderr",
     "output_type": "stream",
     "text": [
      " 2024-09-21 11:08:42,128 - INFO - HTTP Request: POST https://api.openai.com/v1/chat/completions \"HTTP/1.1 429 Too Many Requests\"\n",
      " 2024-09-21 11:08:42,129 - INFO - Retrying request to /chat/completions in 5.598000 seconds\n",
      " 2024-09-21 11:08:50,406 - INFO - HTTP Request: POST https://api.openai.com/v1/chat/completions \"HTTP/1.1 200 OK\"\n"
     ]
    },
    {
     "name": "stdout",
     "output_type": "stream",
     "text": [
      "Predicting 61\n"
     ]
    },
    {
     "name": "stderr",
     "output_type": "stream",
     "text": [
      " 2024-09-21 11:09:05,867 - INFO - HTTP Request: POST https://api.openai.com/v1/chat/completions \"HTTP/1.1 429 Too Many Requests\"\n",
      " 2024-09-21 11:09:05,868 - INFO - Retrying request to /chat/completions in 5.492000 seconds\n",
      " 2024-09-21 11:09:13,898 - INFO - HTTP Request: POST https://api.openai.com/v1/chat/completions \"HTTP/1.1 200 OK\"\n"
     ]
    },
    {
     "name": "stdout",
     "output_type": "stream",
     "text": [
      "Predicting 62\n"
     ]
    },
    {
     "name": "stderr",
     "output_type": "stream",
     "text": [
      " 2024-09-21 11:09:29,513 - INFO - HTTP Request: POST https://api.openai.com/v1/chat/completions \"HTTP/1.1 429 Too Many Requests\"\n",
      " 2024-09-21 11:09:29,514 - INFO - Retrying request to /chat/completions in 5.540000 seconds\n",
      " 2024-09-21 11:09:38,062 - INFO - HTTP Request: POST https://api.openai.com/v1/chat/completions \"HTTP/1.1 200 OK\"\n"
     ]
    },
    {
     "name": "stdout",
     "output_type": "stream",
     "text": [
      "Predicting 63\n"
     ]
    },
    {
     "name": "stderr",
     "output_type": "stream",
     "text": [
      " 2024-09-21 11:09:53,488 - INFO - HTTP Request: POST https://api.openai.com/v1/chat/completions \"HTTP/1.1 429 Too Many Requests\"\n",
      " 2024-09-21 11:09:53,489 - INFO - Retrying request to /chat/completions in 5.096000 seconds\n",
      " 2024-09-21 11:10:00,739 - INFO - HTTP Request: POST https://api.openai.com/v1/chat/completions \"HTTP/1.1 200 OK\"\n"
     ]
    },
    {
     "name": "stdout",
     "output_type": "stream",
     "text": [
      "Predicting 64\n"
     ]
    },
    {
     "name": "stderr",
     "output_type": "stream",
     "text": [
      " 2024-09-21 11:10:16,372 - INFO - HTTP Request: POST https://api.openai.com/v1/chat/completions \"HTTP/1.1 429 Too Many Requests\"\n",
      " 2024-09-21 11:10:16,376 - INFO - Retrying request to /chat/completions in 5.750000 seconds\n",
      " 2024-09-21 11:10:23,891 - INFO - HTTP Request: POST https://api.openai.com/v1/chat/completions \"HTTP/1.1 200 OK\"\n"
     ]
    },
    {
     "name": "stdout",
     "output_type": "stream",
     "text": [
      "Predicting 65\n"
     ]
    },
    {
     "name": "stderr",
     "output_type": "stream",
     "text": [
      " 2024-09-21 11:10:39,500 - INFO - HTTP Request: POST https://api.openai.com/v1/chat/completions \"HTTP/1.1 429 Too Many Requests\"\n",
      " 2024-09-21 11:10:39,502 - INFO - Retrying request to /chat/completions in 6.246000 seconds\n",
      " 2024-09-21 11:10:47,707 - INFO - HTTP Request: POST https://api.openai.com/v1/chat/completions \"HTTP/1.1 200 OK\"\n"
     ]
    },
    {
     "name": "stdout",
     "output_type": "stream",
     "text": [
      "Predicting 66\n"
     ]
    },
    {
     "name": "stderr",
     "output_type": "stream",
     "text": [
      " 2024-09-21 11:11:03,145 - INFO - HTTP Request: POST https://api.openai.com/v1/chat/completions \"HTTP/1.1 429 Too Many Requests\"\n",
      " 2024-09-21 11:11:03,146 - INFO - Retrying request to /chat/completions in 6.118000 seconds\n",
      " 2024-09-21 11:11:11,566 - INFO - HTTP Request: POST https://api.openai.com/v1/chat/completions \"HTTP/1.1 200 OK\"\n"
     ]
    },
    {
     "name": "stdout",
     "output_type": "stream",
     "text": [
      "Predicting 67\n"
     ]
    },
    {
     "name": "stderr",
     "output_type": "stream",
     "text": [
      " 2024-09-21 11:11:27,157 - INFO - HTTP Request: POST https://api.openai.com/v1/chat/completions \"HTTP/1.1 429 Too Many Requests\"\n",
      " 2024-09-21 11:11:27,158 - INFO - Retrying request to /chat/completions in 5.704000 seconds\n",
      " 2024-09-21 11:11:35,087 - INFO - HTTP Request: POST https://api.openai.com/v1/chat/completions \"HTTP/1.1 200 OK\"\n"
     ]
    },
    {
     "name": "stdout",
     "output_type": "stream",
     "text": [
      "Predicting 68\n"
     ]
    },
    {
     "name": "stderr",
     "output_type": "stream",
     "text": [
      " 2024-09-21 11:11:51,098 - INFO - HTTP Request: POST https://api.openai.com/v1/chat/completions \"HTTP/1.1 429 Too Many Requests\"\n",
      " 2024-09-21 11:11:51,110 - INFO - Retrying request to /chat/completions in 5.310000 seconds\n",
      " 2024-09-21 11:11:58,553 - INFO - HTTP Request: POST https://api.openai.com/v1/chat/completions \"HTTP/1.1 200 OK\"\n"
     ]
    },
    {
     "name": "stdout",
     "output_type": "stream",
     "text": [
      "Predicting 69\n"
     ]
    },
    {
     "name": "stderr",
     "output_type": "stream",
     "text": [
      " 2024-09-21 11:12:14,122 - INFO - HTTP Request: POST https://api.openai.com/v1/chat/completions \"HTTP/1.1 429 Too Many Requests\"\n",
      " 2024-09-21 11:12:14,124 - INFO - Retrying request to /chat/completions in 5.876000 seconds\n",
      " 2024-09-21 11:12:21,963 - INFO - HTTP Request: POST https://api.openai.com/v1/chat/completions \"HTTP/1.1 200 OK\"\n"
     ]
    },
    {
     "name": "stdout",
     "output_type": "stream",
     "text": [
      "Predicting 70\n"
     ]
    },
    {
     "name": "stderr",
     "output_type": "stream",
     "text": [
      " 2024-09-21 11:12:38,160 - INFO - HTTP Request: POST https://api.openai.com/v1/chat/completions \"HTTP/1.1 429 Too Many Requests\"\n",
      " 2024-09-21 11:12:38,164 - INFO - Retrying request to /chat/completions in 5.396000 seconds\n",
      " 2024-09-21 11:12:44,817 - INFO - HTTP Request: POST https://api.openai.com/v1/chat/completions \"HTTP/1.1 200 OK\"\n"
     ]
    },
    {
     "name": "stdout",
     "output_type": "stream",
     "text": [
      "Predicting 71\n"
     ]
    },
    {
     "name": "stderr",
     "output_type": "stream",
     "text": [
      " 2024-09-21 11:13:00,354 - INFO - HTTP Request: POST https://api.openai.com/v1/chat/completions \"HTTP/1.1 429 Too Many Requests\"\n",
      " 2024-09-21 11:13:00,355 - INFO - Retrying request to /chat/completions in 6.692000 seconds\n",
      " 2024-09-21 11:13:09,518 - INFO - HTTP Request: POST https://api.openai.com/v1/chat/completions \"HTTP/1.1 200 OK\"\n"
     ]
    },
    {
     "name": "stdout",
     "output_type": "stream",
     "text": [
      "Predicting 72\n"
     ]
    },
    {
     "name": "stderr",
     "output_type": "stream",
     "text": [
      " 2024-09-21 11:13:24,980 - INFO - HTTP Request: POST https://api.openai.com/v1/chat/completions \"HTTP/1.1 429 Too Many Requests\"\n",
      " 2024-09-21 11:13:24,982 - INFO - Retrying request to /chat/completions in 5.642000 seconds\n",
      " 2024-09-21 11:13:33,059 - INFO - HTTP Request: POST https://api.openai.com/v1/chat/completions \"HTTP/1.1 200 OK\"\n"
     ]
    },
    {
     "name": "stdout",
     "output_type": "stream",
     "text": [
      "Predicting 73\n"
     ]
    },
    {
     "name": "stderr",
     "output_type": "stream",
     "text": [
      " 2024-09-21 11:13:48,994 - INFO - HTTP Request: POST https://api.openai.com/v1/chat/completions \"HTTP/1.1 429 Too Many Requests\"\n",
      " 2024-09-21 11:13:48,996 - INFO - Retrying request to /chat/completions in 5.288000 seconds\n",
      " 2024-09-21 11:13:56,094 - INFO - HTTP Request: POST https://api.openai.com/v1/chat/completions \"HTTP/1.1 200 OK\"\n"
     ]
    },
    {
     "name": "stdout",
     "output_type": "stream",
     "text": [
      "Predicting 74\n"
     ]
    },
    {
     "name": "stderr",
     "output_type": "stream",
     "text": [
      " 2024-09-21 11:14:11,575 - INFO - HTTP Request: POST https://api.openai.com/v1/chat/completions \"HTTP/1.1 429 Too Many Requests\"\n",
      " 2024-09-21 11:14:11,576 - INFO - Retrying request to /chat/completions in 6.086000 seconds\n",
      " 2024-09-21 11:14:19,144 - INFO - HTTP Request: POST https://api.openai.com/v1/chat/completions \"HTTP/1.1 200 OK\"\n"
     ]
    },
    {
     "name": "stdout",
     "output_type": "stream",
     "text": [
      "Predicting 75\n"
     ]
    },
    {
     "name": "stderr",
     "output_type": "stream",
     "text": [
      " 2024-09-21 11:14:34,591 - INFO - HTTP Request: POST https://api.openai.com/v1/chat/completions \"HTTP/1.1 429 Too Many Requests\"\n",
      " 2024-09-21 11:14:34,592 - INFO - Retrying request to /chat/completions in 6.608000 seconds\n",
      " 2024-09-21 11:14:42,871 - INFO - HTTP Request: POST https://api.openai.com/v1/chat/completions \"HTTP/1.1 200 OK\"\n"
     ]
    },
    {
     "name": "stdout",
     "output_type": "stream",
     "text": [
      "Predicting 76\n"
     ]
    },
    {
     "name": "stderr",
     "output_type": "stream",
     "text": [
      " 2024-09-21 11:14:58,462 - INFO - HTTP Request: POST https://api.openai.com/v1/chat/completions \"HTTP/1.1 429 Too Many Requests\"\n",
      " 2024-09-21 11:14:58,467 - INFO - Retrying request to /chat/completions in 6.244000 seconds\n",
      " 2024-09-21 11:15:09,523 - INFO - HTTP Request: POST https://api.openai.com/v1/chat/completions \"HTTP/1.1 200 OK\"\n"
     ]
    },
    {
     "name": "stdout",
     "output_type": "stream",
     "text": [
      "Predicting 77\n"
     ]
    },
    {
     "name": "stderr",
     "output_type": "stream",
     "text": [
      " 2024-09-21 11:15:24,990 - INFO - HTTP Request: POST https://api.openai.com/v1/chat/completions \"HTTP/1.1 429 Too Many Requests\"\n",
      " 2024-09-21 11:15:24,991 - INFO - Retrying request to /chat/completions in 3.218000 seconds\n",
      " 2024-09-21 11:15:30,163 - INFO - HTTP Request: POST https://api.openai.com/v1/chat/completions \"HTTP/1.1 200 OK\"\n"
     ]
    },
    {
     "name": "stdout",
     "output_type": "stream",
     "text": [
      "Predicting 78\n"
     ]
    },
    {
     "name": "stderr",
     "output_type": "stream",
     "text": [
      " 2024-09-21 11:15:45,798 - INFO - HTTP Request: POST https://api.openai.com/v1/chat/completions \"HTTP/1.1 429 Too Many Requests\"\n",
      " 2024-09-21 11:15:45,809 - INFO - Retrying request to /chat/completions in 6.026000 seconds\n",
      " 2024-09-21 11:15:54,160 - INFO - HTTP Request: POST https://api.openai.com/v1/chat/completions \"HTTP/1.1 200 OK\"\n"
     ]
    },
    {
     "name": "stdout",
     "output_type": "stream",
     "text": [
      "Predicting 79\n"
     ]
    },
    {
     "name": "stderr",
     "output_type": "stream",
     "text": [
      " 2024-09-21 11:16:09,771 - INFO - HTTP Request: POST https://api.openai.com/v1/chat/completions \"HTTP/1.1 429 Too Many Requests\"\n",
      " 2024-09-21 11:16:09,779 - INFO - Retrying request to /chat/completions in 5.614000 seconds\n",
      " 2024-09-21 11:16:20,049 - INFO - HTTP Request: POST https://api.openai.com/v1/chat/completions \"HTTP/1.1 200 OK\"\n"
     ]
    },
    {
     "name": "stdout",
     "output_type": "stream",
     "text": [
      "Predicting 80\n"
     ]
    },
    {
     "name": "stderr",
     "output_type": "stream",
     "text": [
      " 2024-09-21 11:16:35,635 - INFO - HTTP Request: POST https://api.openai.com/v1/chat/completions \"HTTP/1.1 429 Too Many Requests\"\n",
      " 2024-09-21 11:16:35,640 - INFO - Retrying request to /chat/completions in 3.322000 seconds\n",
      " 2024-09-21 11:16:40,952 - INFO - HTTP Request: POST https://api.openai.com/v1/chat/completions \"HTTP/1.1 200 OK\"\n"
     ]
    },
    {
     "name": "stdout",
     "output_type": "stream",
     "text": [
      "Predicting 81\n"
     ]
    },
    {
     "name": "stderr",
     "output_type": "stream",
     "text": [
      " 2024-09-21 11:16:56,526 - INFO - HTTP Request: POST https://api.openai.com/v1/chat/completions \"HTTP/1.1 429 Too Many Requests\"\n",
      " 2024-09-21 11:16:56,528 - INFO - Retrying request to /chat/completions in 6.048000 seconds\n",
      " 2024-09-21 11:17:04,615 - INFO - HTTP Request: POST https://api.openai.com/v1/chat/completions \"HTTP/1.1 200 OK\"\n"
     ]
    },
    {
     "name": "stdout",
     "output_type": "stream",
     "text": [
      "Predicting 82\n"
     ]
    },
    {
     "name": "stderr",
     "output_type": "stream",
     "text": [
      " 2024-09-21 11:17:20,150 - INFO - HTTP Request: POST https://api.openai.com/v1/chat/completions \"HTTP/1.1 429 Too Many Requests\"\n",
      " 2024-09-21 11:17:20,152 - INFO - Retrying request to /chat/completions in 5.880000 seconds\n",
      " 2024-09-21 11:17:27,720 - INFO - HTTP Request: POST https://api.openai.com/v1/chat/completions \"HTTP/1.1 200 OK\"\n"
     ]
    },
    {
     "name": "stdout",
     "output_type": "stream",
     "text": [
      "Predicting 83\n"
     ]
    },
    {
     "name": "stderr",
     "output_type": "stream",
     "text": [
      " 2024-09-21 11:17:43,319 - INFO - HTTP Request: POST https://api.openai.com/v1/chat/completions \"HTTP/1.1 429 Too Many Requests\"\n",
      " 2024-09-21 11:17:43,320 - INFO - Retrying request to /chat/completions in 6.316000 seconds\n",
      " 2024-09-21 11:17:51,873 - INFO - HTTP Request: POST https://api.openai.com/v1/chat/completions \"HTTP/1.1 200 OK\"\n"
     ]
    },
    {
     "name": "stdout",
     "output_type": "stream",
     "text": [
      "Predicting 84\n"
     ]
    },
    {
     "name": "stderr",
     "output_type": "stream",
     "text": [
      " 2024-09-21 11:18:07,868 - INFO - HTTP Request: POST https://api.openai.com/v1/chat/completions \"HTTP/1.1 429 Too Many Requests\"\n",
      " 2024-09-21 11:18:07,876 - INFO - Retrying request to /chat/completions in 5.408000 seconds\n",
      " 2024-09-21 11:18:15,769 - INFO - HTTP Request: POST https://api.openai.com/v1/chat/completions \"HTTP/1.1 200 OK\"\n"
     ]
    },
    {
     "name": "stdout",
     "output_type": "stream",
     "text": [
      "Predicting 85\n"
     ]
    },
    {
     "name": "stderr",
     "output_type": "stream",
     "text": [
      " 2024-09-21 11:18:31,296 - INFO - HTTP Request: POST https://api.openai.com/v1/chat/completions \"HTTP/1.1 429 Too Many Requests\"\n",
      " 2024-09-21 11:18:31,297 - INFO - Retrying request to /chat/completions in 5.454000 seconds\n",
      " 2024-09-21 11:18:38,427 - INFO - HTTP Request: POST https://api.openai.com/v1/chat/completions \"HTTP/1.1 200 OK\"\n"
     ]
    },
    {
     "name": "stdout",
     "output_type": "stream",
     "text": [
      "Predicting 86\n"
     ]
    },
    {
     "name": "stderr",
     "output_type": "stream",
     "text": [
      " 2024-09-21 11:18:54,137 - INFO - HTTP Request: POST https://api.openai.com/v1/chat/completions \"HTTP/1.1 429 Too Many Requests\"\n",
      " 2024-09-21 11:18:54,141 - INFO - Retrying request to /chat/completions in 6.186000 seconds\n",
      " 2024-09-21 11:19:02,504 - INFO - HTTP Request: POST https://api.openai.com/v1/chat/completions \"HTTP/1.1 200 OK\"\n"
     ]
    },
    {
     "name": "stdout",
     "output_type": "stream",
     "text": [
      "Predicting 87\n"
     ]
    },
    {
     "name": "stderr",
     "output_type": "stream",
     "text": [
      " 2024-09-21 11:19:18,581 - INFO - HTTP Request: POST https://api.openai.com/v1/chat/completions \"HTTP/1.1 429 Too Many Requests\"\n",
      " 2024-09-21 11:19:18,596 - INFO - Retrying request to /chat/completions in 5.298000 seconds\n",
      " 2024-09-21 11:19:26,325 - INFO - HTTP Request: POST https://api.openai.com/v1/chat/completions \"HTTP/1.1 200 OK\"\n"
     ]
    },
    {
     "name": "stdout",
     "output_type": "stream",
     "text": [
      "Predicting 88\n"
     ]
    },
    {
     "name": "stderr",
     "output_type": "stream",
     "text": [
      " 2024-09-21 11:19:41,838 - INFO - HTTP Request: POST https://api.openai.com/v1/chat/completions \"HTTP/1.1 429 Too Many Requests\"\n",
      " 2024-09-21 11:19:41,842 - INFO - Retrying request to /chat/completions in 0.978544 seconds\n",
      " 2024-09-21 11:19:43,023 - INFO - HTTP Request: POST https://api.openai.com/v1/chat/completions \"HTTP/1.1 429 Too Many Requests\"\n",
      " 2024-09-21 11:19:43,026 - INFO - Retrying request to /chat/completions in 1.658556 seconds\n",
      " 2024-09-21 11:19:44,962 - INFO - HTTP Request: POST https://api.openai.com/v1/chat/completions \"HTTP/1.1 429 Too Many Requests\"\n"
     ]
    },
    {
     "ename": "RateLimitError",
     "evalue": "Error code: 429 - {'error': {'message': 'You exceeded your current quota, please check your plan and billing details. For more information on this error, read the docs: https://platform.openai.com/docs/guides/error-codes/api-errors.', 'type': 'insufficient_quota', 'param': None, 'code': 'insufficient_quota'}}",
     "output_type": "error",
     "traceback": [
      "\u001b[0;31m---------------------------------------------------------------------------\u001b[0m",
      "\u001b[0;31mRateLimitError\u001b[0m                            Traceback (most recent call last)",
      "Cell \u001b[0;32mIn[325], line 11\u001b[0m\n\u001b[1;32m      9\u001b[0m test_sequence \u001b[38;5;241m=\u001b[39m finer[\u001b[38;5;124m'\u001b[39m\u001b[38;5;124mtest\u001b[39m\u001b[38;5;124m'\u001b[39m][\u001b[38;5;124m'\u001b[39m\u001b[38;5;124mtokens\u001b[39m\u001b[38;5;124m'\u001b[39m][i]\n\u001b[1;32m     10\u001b[0m true_labels \u001b[38;5;241m=\u001b[39m finer[\u001b[38;5;124m'\u001b[39m\u001b[38;5;124mtest\u001b[39m\u001b[38;5;124m'\u001b[39m][\u001b[38;5;124m'\u001b[39m\u001b[38;5;124mner_tags\u001b[39m\u001b[38;5;124m'\u001b[39m][i]\n\u001b[0;32m---> 11\u001b[0m res \u001b[38;5;241m=\u001b[39m \u001b[43mchain\u001b[49m\u001b[38;5;241;43m.\u001b[39;49m\u001b[43minvoke\u001b[49m\u001b[43m(\u001b[49m\u001b[43mtest_sequence\u001b[49m\u001b[43m)\u001b[49m\n\u001b[1;32m     12\u001b[0m pred_labels \u001b[38;5;241m=\u001b[39m retrieve_labels(res)\n\u001b[1;32m     13\u001b[0m test_results\u001b[38;5;241m.\u001b[39mappend((i, pred_labels))\n",
      "File \u001b[0;32m/opt/homebrew/Caskroom/miniconda/base/envs/final/lib/python3.12/site-packages/langchain_core/runnables/base.py:3022\u001b[0m, in \u001b[0;36mRunnableSequence.invoke\u001b[0;34m(self, input, config, **kwargs)\u001b[0m\n\u001b[1;32m   3020\u001b[0m             \u001b[38;5;28minput\u001b[39m \u001b[38;5;241m=\u001b[39m context\u001b[38;5;241m.\u001b[39mrun(step\u001b[38;5;241m.\u001b[39minvoke, \u001b[38;5;28minput\u001b[39m, config, \u001b[38;5;241m*\u001b[39m\u001b[38;5;241m*\u001b[39mkwargs)\n\u001b[1;32m   3021\u001b[0m         \u001b[38;5;28;01melse\u001b[39;00m:\n\u001b[0;32m-> 3022\u001b[0m             \u001b[38;5;28minput\u001b[39m \u001b[38;5;241m=\u001b[39m \u001b[43mcontext\u001b[49m\u001b[38;5;241;43m.\u001b[39;49m\u001b[43mrun\u001b[49m\u001b[43m(\u001b[49m\u001b[43mstep\u001b[49m\u001b[38;5;241;43m.\u001b[39;49m\u001b[43minvoke\u001b[49m\u001b[43m,\u001b[49m\u001b[43m \u001b[49m\u001b[38;5;28;43minput\u001b[39;49m\u001b[43m,\u001b[49m\u001b[43m \u001b[49m\u001b[43mconfig\u001b[49m\u001b[43m)\u001b[49m\n\u001b[1;32m   3023\u001b[0m \u001b[38;5;66;03m# finish the root run\u001b[39;00m\n\u001b[1;32m   3024\u001b[0m \u001b[38;5;28;01mexcept\u001b[39;00m \u001b[38;5;167;01mBaseException\u001b[39;00m \u001b[38;5;28;01mas\u001b[39;00m e:\n",
      "File \u001b[0;32m/opt/homebrew/Caskroom/miniconda/base/envs/final/lib/python3.12/site-packages/langchain_core/language_models/chat_models.py:284\u001b[0m, in \u001b[0;36mBaseChatModel.invoke\u001b[0;34m(self, input, config, stop, **kwargs)\u001b[0m\n\u001b[1;32m    273\u001b[0m \u001b[38;5;28;01mdef\u001b[39;00m \u001b[38;5;21minvoke\u001b[39m(\n\u001b[1;32m    274\u001b[0m     \u001b[38;5;28mself\u001b[39m,\n\u001b[1;32m    275\u001b[0m     \u001b[38;5;28minput\u001b[39m: LanguageModelInput,\n\u001b[0;32m   (...)\u001b[0m\n\u001b[1;32m    279\u001b[0m     \u001b[38;5;241m*\u001b[39m\u001b[38;5;241m*\u001b[39mkwargs: Any,\n\u001b[1;32m    280\u001b[0m ) \u001b[38;5;241m-\u001b[39m\u001b[38;5;241m>\u001b[39m BaseMessage:\n\u001b[1;32m    281\u001b[0m     config \u001b[38;5;241m=\u001b[39m ensure_config(config)\n\u001b[1;32m    282\u001b[0m     \u001b[38;5;28;01mreturn\u001b[39;00m cast(\n\u001b[1;32m    283\u001b[0m         ChatGeneration,\n\u001b[0;32m--> 284\u001b[0m         \u001b[38;5;28;43mself\u001b[39;49m\u001b[38;5;241;43m.\u001b[39;49m\u001b[43mgenerate_prompt\u001b[49m\u001b[43m(\u001b[49m\n\u001b[1;32m    285\u001b[0m \u001b[43m            \u001b[49m\u001b[43m[\u001b[49m\u001b[38;5;28;43mself\u001b[39;49m\u001b[38;5;241;43m.\u001b[39;49m\u001b[43m_convert_input\u001b[49m\u001b[43m(\u001b[49m\u001b[38;5;28;43minput\u001b[39;49m\u001b[43m)\u001b[49m\u001b[43m]\u001b[49m\u001b[43m,\u001b[49m\n\u001b[1;32m    286\u001b[0m \u001b[43m            \u001b[49m\u001b[43mstop\u001b[49m\u001b[38;5;241;43m=\u001b[39;49m\u001b[43mstop\u001b[49m\u001b[43m,\u001b[49m\n\u001b[1;32m    287\u001b[0m \u001b[43m            \u001b[49m\u001b[43mcallbacks\u001b[49m\u001b[38;5;241;43m=\u001b[39;49m\u001b[43mconfig\u001b[49m\u001b[38;5;241;43m.\u001b[39;49m\u001b[43mget\u001b[49m\u001b[43m(\u001b[49m\u001b[38;5;124;43m\"\u001b[39;49m\u001b[38;5;124;43mcallbacks\u001b[39;49m\u001b[38;5;124;43m\"\u001b[39;49m\u001b[43m)\u001b[49m\u001b[43m,\u001b[49m\n\u001b[1;32m    288\u001b[0m \u001b[43m            \u001b[49m\u001b[43mtags\u001b[49m\u001b[38;5;241;43m=\u001b[39;49m\u001b[43mconfig\u001b[49m\u001b[38;5;241;43m.\u001b[39;49m\u001b[43mget\u001b[49m\u001b[43m(\u001b[49m\u001b[38;5;124;43m\"\u001b[39;49m\u001b[38;5;124;43mtags\u001b[39;49m\u001b[38;5;124;43m\"\u001b[39;49m\u001b[43m)\u001b[49m\u001b[43m,\u001b[49m\n\u001b[1;32m    289\u001b[0m \u001b[43m            \u001b[49m\u001b[43mmetadata\u001b[49m\u001b[38;5;241;43m=\u001b[39;49m\u001b[43mconfig\u001b[49m\u001b[38;5;241;43m.\u001b[39;49m\u001b[43mget\u001b[49m\u001b[43m(\u001b[49m\u001b[38;5;124;43m\"\u001b[39;49m\u001b[38;5;124;43mmetadata\u001b[39;49m\u001b[38;5;124;43m\"\u001b[39;49m\u001b[43m)\u001b[49m\u001b[43m,\u001b[49m\n\u001b[1;32m    290\u001b[0m \u001b[43m            \u001b[49m\u001b[43mrun_name\u001b[49m\u001b[38;5;241;43m=\u001b[39;49m\u001b[43mconfig\u001b[49m\u001b[38;5;241;43m.\u001b[39;49m\u001b[43mget\u001b[49m\u001b[43m(\u001b[49m\u001b[38;5;124;43m\"\u001b[39;49m\u001b[38;5;124;43mrun_name\u001b[39;49m\u001b[38;5;124;43m\"\u001b[39;49m\u001b[43m)\u001b[49m\u001b[43m,\u001b[49m\n\u001b[1;32m    291\u001b[0m \u001b[43m            \u001b[49m\u001b[43mrun_id\u001b[49m\u001b[38;5;241;43m=\u001b[39;49m\u001b[43mconfig\u001b[49m\u001b[38;5;241;43m.\u001b[39;49m\u001b[43mpop\u001b[49m\u001b[43m(\u001b[49m\u001b[38;5;124;43m\"\u001b[39;49m\u001b[38;5;124;43mrun_id\u001b[39;49m\u001b[38;5;124;43m\"\u001b[39;49m\u001b[43m,\u001b[49m\u001b[43m \u001b[49m\u001b[38;5;28;43;01mNone\u001b[39;49;00m\u001b[43m)\u001b[49m\u001b[43m,\u001b[49m\n\u001b[1;32m    292\u001b[0m \u001b[43m            \u001b[49m\u001b[38;5;241;43m*\u001b[39;49m\u001b[38;5;241;43m*\u001b[39;49m\u001b[43mkwargs\u001b[49m\u001b[43m,\u001b[49m\n\u001b[1;32m    293\u001b[0m \u001b[43m        \u001b[49m\u001b[43m)\u001b[49m\u001b[38;5;241m.\u001b[39mgenerations[\u001b[38;5;241m0\u001b[39m][\u001b[38;5;241m0\u001b[39m],\n\u001b[1;32m    294\u001b[0m     )\u001b[38;5;241m.\u001b[39mmessage\n",
      "File \u001b[0;32m/opt/homebrew/Caskroom/miniconda/base/envs/final/lib/python3.12/site-packages/langchain_core/language_models/chat_models.py:784\u001b[0m, in \u001b[0;36mBaseChatModel.generate_prompt\u001b[0;34m(self, prompts, stop, callbacks, **kwargs)\u001b[0m\n\u001b[1;32m    776\u001b[0m \u001b[38;5;28;01mdef\u001b[39;00m \u001b[38;5;21mgenerate_prompt\u001b[39m(\n\u001b[1;32m    777\u001b[0m     \u001b[38;5;28mself\u001b[39m,\n\u001b[1;32m    778\u001b[0m     prompts: \u001b[38;5;28mlist\u001b[39m[PromptValue],\n\u001b[0;32m   (...)\u001b[0m\n\u001b[1;32m    781\u001b[0m     \u001b[38;5;241m*\u001b[39m\u001b[38;5;241m*\u001b[39mkwargs: Any,\n\u001b[1;32m    782\u001b[0m ) \u001b[38;5;241m-\u001b[39m\u001b[38;5;241m>\u001b[39m LLMResult:\n\u001b[1;32m    783\u001b[0m     prompt_messages \u001b[38;5;241m=\u001b[39m [p\u001b[38;5;241m.\u001b[39mto_messages() \u001b[38;5;28;01mfor\u001b[39;00m p \u001b[38;5;129;01min\u001b[39;00m prompts]\n\u001b[0;32m--> 784\u001b[0m     \u001b[38;5;28;01mreturn\u001b[39;00m \u001b[38;5;28;43mself\u001b[39;49m\u001b[38;5;241;43m.\u001b[39;49m\u001b[43mgenerate\u001b[49m\u001b[43m(\u001b[49m\u001b[43mprompt_messages\u001b[49m\u001b[43m,\u001b[49m\u001b[43m \u001b[49m\u001b[43mstop\u001b[49m\u001b[38;5;241;43m=\u001b[39;49m\u001b[43mstop\u001b[49m\u001b[43m,\u001b[49m\u001b[43m \u001b[49m\u001b[43mcallbacks\u001b[49m\u001b[38;5;241;43m=\u001b[39;49m\u001b[43mcallbacks\u001b[49m\u001b[43m,\u001b[49m\u001b[43m \u001b[49m\u001b[38;5;241;43m*\u001b[39;49m\u001b[38;5;241;43m*\u001b[39;49m\u001b[43mkwargs\u001b[49m\u001b[43m)\u001b[49m\n",
      "File \u001b[0;32m/opt/homebrew/Caskroom/miniconda/base/envs/final/lib/python3.12/site-packages/langchain_core/language_models/chat_models.py:641\u001b[0m, in \u001b[0;36mBaseChatModel.generate\u001b[0;34m(self, messages, stop, callbacks, tags, metadata, run_name, run_id, **kwargs)\u001b[0m\n\u001b[1;32m    639\u001b[0m         \u001b[38;5;28;01mif\u001b[39;00m run_managers:\n\u001b[1;32m    640\u001b[0m             run_managers[i]\u001b[38;5;241m.\u001b[39mon_llm_error(e, response\u001b[38;5;241m=\u001b[39mLLMResult(generations\u001b[38;5;241m=\u001b[39m[]))\n\u001b[0;32m--> 641\u001b[0m         \u001b[38;5;28;01mraise\u001b[39;00m e\n\u001b[1;32m    642\u001b[0m flattened_outputs \u001b[38;5;241m=\u001b[39m [\n\u001b[1;32m    643\u001b[0m     LLMResult(generations\u001b[38;5;241m=\u001b[39m[res\u001b[38;5;241m.\u001b[39mgenerations], llm_output\u001b[38;5;241m=\u001b[39mres\u001b[38;5;241m.\u001b[39mllm_output)  \u001b[38;5;66;03m# type: ignore[list-item]\u001b[39;00m\n\u001b[1;32m    644\u001b[0m     \u001b[38;5;28;01mfor\u001b[39;00m res \u001b[38;5;129;01min\u001b[39;00m results\n\u001b[1;32m    645\u001b[0m ]\n\u001b[1;32m    646\u001b[0m llm_output \u001b[38;5;241m=\u001b[39m \u001b[38;5;28mself\u001b[39m\u001b[38;5;241m.\u001b[39m_combine_llm_outputs([res\u001b[38;5;241m.\u001b[39mllm_output \u001b[38;5;28;01mfor\u001b[39;00m res \u001b[38;5;129;01min\u001b[39;00m results])\n",
      "File \u001b[0;32m/opt/homebrew/Caskroom/miniconda/base/envs/final/lib/python3.12/site-packages/langchain_core/language_models/chat_models.py:631\u001b[0m, in \u001b[0;36mBaseChatModel.generate\u001b[0;34m(self, messages, stop, callbacks, tags, metadata, run_name, run_id, **kwargs)\u001b[0m\n\u001b[1;32m    628\u001b[0m \u001b[38;5;28;01mfor\u001b[39;00m i, m \u001b[38;5;129;01min\u001b[39;00m \u001b[38;5;28menumerate\u001b[39m(messages):\n\u001b[1;32m    629\u001b[0m     \u001b[38;5;28;01mtry\u001b[39;00m:\n\u001b[1;32m    630\u001b[0m         results\u001b[38;5;241m.\u001b[39mappend(\n\u001b[0;32m--> 631\u001b[0m             \u001b[38;5;28;43mself\u001b[39;49m\u001b[38;5;241;43m.\u001b[39;49m\u001b[43m_generate_with_cache\u001b[49m\u001b[43m(\u001b[49m\n\u001b[1;32m    632\u001b[0m \u001b[43m                \u001b[49m\u001b[43mm\u001b[49m\u001b[43m,\u001b[49m\n\u001b[1;32m    633\u001b[0m \u001b[43m                \u001b[49m\u001b[43mstop\u001b[49m\u001b[38;5;241;43m=\u001b[39;49m\u001b[43mstop\u001b[49m\u001b[43m,\u001b[49m\n\u001b[1;32m    634\u001b[0m \u001b[43m                \u001b[49m\u001b[43mrun_manager\u001b[49m\u001b[38;5;241;43m=\u001b[39;49m\u001b[43mrun_managers\u001b[49m\u001b[43m[\u001b[49m\u001b[43mi\u001b[49m\u001b[43m]\u001b[49m\u001b[43m \u001b[49m\u001b[38;5;28;43;01mif\u001b[39;49;00m\u001b[43m \u001b[49m\u001b[43mrun_managers\u001b[49m\u001b[43m \u001b[49m\u001b[38;5;28;43;01melse\u001b[39;49;00m\u001b[43m \u001b[49m\u001b[38;5;28;43;01mNone\u001b[39;49;00m\u001b[43m,\u001b[49m\n\u001b[1;32m    635\u001b[0m \u001b[43m                \u001b[49m\u001b[38;5;241;43m*\u001b[39;49m\u001b[38;5;241;43m*\u001b[39;49m\u001b[43mkwargs\u001b[49m\u001b[43m,\u001b[49m\n\u001b[1;32m    636\u001b[0m \u001b[43m            \u001b[49m\u001b[43m)\u001b[49m\n\u001b[1;32m    637\u001b[0m         )\n\u001b[1;32m    638\u001b[0m     \u001b[38;5;28;01mexcept\u001b[39;00m \u001b[38;5;167;01mBaseException\u001b[39;00m \u001b[38;5;28;01mas\u001b[39;00m e:\n\u001b[1;32m    639\u001b[0m         \u001b[38;5;28;01mif\u001b[39;00m run_managers:\n",
      "File \u001b[0;32m/opt/homebrew/Caskroom/miniconda/base/envs/final/lib/python3.12/site-packages/langchain_core/language_models/chat_models.py:853\u001b[0m, in \u001b[0;36mBaseChatModel._generate_with_cache\u001b[0;34m(self, messages, stop, run_manager, **kwargs)\u001b[0m\n\u001b[1;32m    851\u001b[0m \u001b[38;5;28;01melse\u001b[39;00m:\n\u001b[1;32m    852\u001b[0m     \u001b[38;5;28;01mif\u001b[39;00m inspect\u001b[38;5;241m.\u001b[39msignature(\u001b[38;5;28mself\u001b[39m\u001b[38;5;241m.\u001b[39m_generate)\u001b[38;5;241m.\u001b[39mparameters\u001b[38;5;241m.\u001b[39mget(\u001b[38;5;124m\"\u001b[39m\u001b[38;5;124mrun_manager\u001b[39m\u001b[38;5;124m\"\u001b[39m):\n\u001b[0;32m--> 853\u001b[0m         result \u001b[38;5;241m=\u001b[39m \u001b[38;5;28;43mself\u001b[39;49m\u001b[38;5;241;43m.\u001b[39;49m\u001b[43m_generate\u001b[49m\u001b[43m(\u001b[49m\n\u001b[1;32m    854\u001b[0m \u001b[43m            \u001b[49m\u001b[43mmessages\u001b[49m\u001b[43m,\u001b[49m\u001b[43m \u001b[49m\u001b[43mstop\u001b[49m\u001b[38;5;241;43m=\u001b[39;49m\u001b[43mstop\u001b[49m\u001b[43m,\u001b[49m\u001b[43m \u001b[49m\u001b[43mrun_manager\u001b[49m\u001b[38;5;241;43m=\u001b[39;49m\u001b[43mrun_manager\u001b[49m\u001b[43m,\u001b[49m\u001b[43m \u001b[49m\u001b[38;5;241;43m*\u001b[39;49m\u001b[38;5;241;43m*\u001b[39;49m\u001b[43mkwargs\u001b[49m\n\u001b[1;32m    855\u001b[0m \u001b[43m        \u001b[49m\u001b[43m)\u001b[49m\n\u001b[1;32m    856\u001b[0m     \u001b[38;5;28;01melse\u001b[39;00m:\n\u001b[1;32m    857\u001b[0m         result \u001b[38;5;241m=\u001b[39m \u001b[38;5;28mself\u001b[39m\u001b[38;5;241m.\u001b[39m_generate(messages, stop\u001b[38;5;241m=\u001b[39mstop, \u001b[38;5;241m*\u001b[39m\u001b[38;5;241m*\u001b[39mkwargs)\n",
      "File \u001b[0;32m/opt/homebrew/Caskroom/miniconda/base/envs/final/lib/python3.12/site-packages/langchain_openai/chat_models/base.py:670\u001b[0m, in \u001b[0;36mBaseChatOpenAI._generate\u001b[0;34m(self, messages, stop, run_manager, **kwargs)\u001b[0m\n\u001b[1;32m    668\u001b[0m     generation_info \u001b[38;5;241m=\u001b[39m {\u001b[38;5;124m\"\u001b[39m\u001b[38;5;124mheaders\u001b[39m\u001b[38;5;124m\"\u001b[39m: \u001b[38;5;28mdict\u001b[39m(raw_response\u001b[38;5;241m.\u001b[39mheaders)}\n\u001b[1;32m    669\u001b[0m \u001b[38;5;28;01melse\u001b[39;00m:\n\u001b[0;32m--> 670\u001b[0m     response \u001b[38;5;241m=\u001b[39m \u001b[38;5;28;43mself\u001b[39;49m\u001b[38;5;241;43m.\u001b[39;49m\u001b[43mclient\u001b[49m\u001b[38;5;241;43m.\u001b[39;49m\u001b[43mcreate\u001b[49m\u001b[43m(\u001b[49m\u001b[38;5;241;43m*\u001b[39;49m\u001b[38;5;241;43m*\u001b[39;49m\u001b[43mpayload\u001b[49m\u001b[43m)\u001b[49m\n\u001b[1;32m    671\u001b[0m \u001b[38;5;28;01mreturn\u001b[39;00m \u001b[38;5;28mself\u001b[39m\u001b[38;5;241m.\u001b[39m_create_chat_result(response, generation_info)\n",
      "File \u001b[0;32m/opt/homebrew/Caskroom/miniconda/base/envs/final/lib/python3.12/site-packages/openai/_utils/_utils.py:274\u001b[0m, in \u001b[0;36mrequired_args.<locals>.inner.<locals>.wrapper\u001b[0;34m(*args, **kwargs)\u001b[0m\n\u001b[1;32m    272\u001b[0m             msg \u001b[38;5;241m=\u001b[39m \u001b[38;5;124mf\u001b[39m\u001b[38;5;124m\"\u001b[39m\u001b[38;5;124mMissing required argument: \u001b[39m\u001b[38;5;132;01m{\u001b[39;00mquote(missing[\u001b[38;5;241m0\u001b[39m])\u001b[38;5;132;01m}\u001b[39;00m\u001b[38;5;124m\"\u001b[39m\n\u001b[1;32m    273\u001b[0m     \u001b[38;5;28;01mraise\u001b[39;00m \u001b[38;5;167;01mTypeError\u001b[39;00m(msg)\n\u001b[0;32m--> 274\u001b[0m \u001b[38;5;28;01mreturn\u001b[39;00m \u001b[43mfunc\u001b[49m\u001b[43m(\u001b[49m\u001b[38;5;241;43m*\u001b[39;49m\u001b[43margs\u001b[49m\u001b[43m,\u001b[49m\u001b[43m \u001b[49m\u001b[38;5;241;43m*\u001b[39;49m\u001b[38;5;241;43m*\u001b[39;49m\u001b[43mkwargs\u001b[49m\u001b[43m)\u001b[49m\n",
      "File \u001b[0;32m/opt/homebrew/Caskroom/miniconda/base/envs/final/lib/python3.12/site-packages/openai/resources/chat/completions.py:668\u001b[0m, in \u001b[0;36mCompletions.create\u001b[0;34m(self, messages, model, frequency_penalty, function_call, functions, logit_bias, logprobs, max_tokens, n, parallel_tool_calls, presence_penalty, response_format, seed, service_tier, stop, stream, stream_options, temperature, tool_choice, tools, top_logprobs, top_p, user, extra_headers, extra_query, extra_body, timeout)\u001b[0m\n\u001b[1;32m    633\u001b[0m \u001b[38;5;129m@required_args\u001b[39m([\u001b[38;5;124m\"\u001b[39m\u001b[38;5;124mmessages\u001b[39m\u001b[38;5;124m\"\u001b[39m, \u001b[38;5;124m\"\u001b[39m\u001b[38;5;124mmodel\u001b[39m\u001b[38;5;124m\"\u001b[39m], [\u001b[38;5;124m\"\u001b[39m\u001b[38;5;124mmessages\u001b[39m\u001b[38;5;124m\"\u001b[39m, \u001b[38;5;124m\"\u001b[39m\u001b[38;5;124mmodel\u001b[39m\u001b[38;5;124m\"\u001b[39m, \u001b[38;5;124m\"\u001b[39m\u001b[38;5;124mstream\u001b[39m\u001b[38;5;124m\"\u001b[39m])\n\u001b[1;32m    634\u001b[0m \u001b[38;5;28;01mdef\u001b[39;00m \u001b[38;5;21mcreate\u001b[39m(\n\u001b[1;32m    635\u001b[0m     \u001b[38;5;28mself\u001b[39m,\n\u001b[0;32m   (...)\u001b[0m\n\u001b[1;32m    665\u001b[0m     timeout: \u001b[38;5;28mfloat\u001b[39m \u001b[38;5;241m|\u001b[39m httpx\u001b[38;5;241m.\u001b[39mTimeout \u001b[38;5;241m|\u001b[39m \u001b[38;5;28;01mNone\u001b[39;00m \u001b[38;5;241m|\u001b[39m NotGiven \u001b[38;5;241m=\u001b[39m NOT_GIVEN,\n\u001b[1;32m    666\u001b[0m ) \u001b[38;5;241m-\u001b[39m\u001b[38;5;241m>\u001b[39m ChatCompletion \u001b[38;5;241m|\u001b[39m Stream[ChatCompletionChunk]:\n\u001b[1;32m    667\u001b[0m     validate_response_format(response_format)\n\u001b[0;32m--> 668\u001b[0m     \u001b[38;5;28;01mreturn\u001b[39;00m \u001b[38;5;28;43mself\u001b[39;49m\u001b[38;5;241;43m.\u001b[39;49m\u001b[43m_post\u001b[49m\u001b[43m(\u001b[49m\n\u001b[1;32m    669\u001b[0m \u001b[43m        \u001b[49m\u001b[38;5;124;43m\"\u001b[39;49m\u001b[38;5;124;43m/chat/completions\u001b[39;49m\u001b[38;5;124;43m\"\u001b[39;49m\u001b[43m,\u001b[49m\n\u001b[1;32m    670\u001b[0m \u001b[43m        \u001b[49m\u001b[43mbody\u001b[49m\u001b[38;5;241;43m=\u001b[39;49m\u001b[43mmaybe_transform\u001b[49m\u001b[43m(\u001b[49m\n\u001b[1;32m    671\u001b[0m \u001b[43m            \u001b[49m\u001b[43m{\u001b[49m\n\u001b[1;32m    672\u001b[0m \u001b[43m                \u001b[49m\u001b[38;5;124;43m\"\u001b[39;49m\u001b[38;5;124;43mmessages\u001b[39;49m\u001b[38;5;124;43m\"\u001b[39;49m\u001b[43m:\u001b[49m\u001b[43m \u001b[49m\u001b[43mmessages\u001b[49m\u001b[43m,\u001b[49m\n\u001b[1;32m    673\u001b[0m \u001b[43m                \u001b[49m\u001b[38;5;124;43m\"\u001b[39;49m\u001b[38;5;124;43mmodel\u001b[39;49m\u001b[38;5;124;43m\"\u001b[39;49m\u001b[43m:\u001b[49m\u001b[43m \u001b[49m\u001b[43mmodel\u001b[49m\u001b[43m,\u001b[49m\n\u001b[1;32m    674\u001b[0m \u001b[43m                \u001b[49m\u001b[38;5;124;43m\"\u001b[39;49m\u001b[38;5;124;43mfrequency_penalty\u001b[39;49m\u001b[38;5;124;43m\"\u001b[39;49m\u001b[43m:\u001b[49m\u001b[43m \u001b[49m\u001b[43mfrequency_penalty\u001b[49m\u001b[43m,\u001b[49m\n\u001b[1;32m    675\u001b[0m \u001b[43m                \u001b[49m\u001b[38;5;124;43m\"\u001b[39;49m\u001b[38;5;124;43mfunction_call\u001b[39;49m\u001b[38;5;124;43m\"\u001b[39;49m\u001b[43m:\u001b[49m\u001b[43m \u001b[49m\u001b[43mfunction_call\u001b[49m\u001b[43m,\u001b[49m\n\u001b[1;32m    676\u001b[0m \u001b[43m                \u001b[49m\u001b[38;5;124;43m\"\u001b[39;49m\u001b[38;5;124;43mfunctions\u001b[39;49m\u001b[38;5;124;43m\"\u001b[39;49m\u001b[43m:\u001b[49m\u001b[43m \u001b[49m\u001b[43mfunctions\u001b[49m\u001b[43m,\u001b[49m\n\u001b[1;32m    677\u001b[0m \u001b[43m                \u001b[49m\u001b[38;5;124;43m\"\u001b[39;49m\u001b[38;5;124;43mlogit_bias\u001b[39;49m\u001b[38;5;124;43m\"\u001b[39;49m\u001b[43m:\u001b[49m\u001b[43m \u001b[49m\u001b[43mlogit_bias\u001b[49m\u001b[43m,\u001b[49m\n\u001b[1;32m    678\u001b[0m \u001b[43m                \u001b[49m\u001b[38;5;124;43m\"\u001b[39;49m\u001b[38;5;124;43mlogprobs\u001b[39;49m\u001b[38;5;124;43m\"\u001b[39;49m\u001b[43m:\u001b[49m\u001b[43m \u001b[49m\u001b[43mlogprobs\u001b[49m\u001b[43m,\u001b[49m\n\u001b[1;32m    679\u001b[0m \u001b[43m                \u001b[49m\u001b[38;5;124;43m\"\u001b[39;49m\u001b[38;5;124;43mmax_tokens\u001b[39;49m\u001b[38;5;124;43m\"\u001b[39;49m\u001b[43m:\u001b[49m\u001b[43m \u001b[49m\u001b[43mmax_tokens\u001b[49m\u001b[43m,\u001b[49m\n\u001b[1;32m    680\u001b[0m \u001b[43m                \u001b[49m\u001b[38;5;124;43m\"\u001b[39;49m\u001b[38;5;124;43mn\u001b[39;49m\u001b[38;5;124;43m\"\u001b[39;49m\u001b[43m:\u001b[49m\u001b[43m \u001b[49m\u001b[43mn\u001b[49m\u001b[43m,\u001b[49m\n\u001b[1;32m    681\u001b[0m \u001b[43m                \u001b[49m\u001b[38;5;124;43m\"\u001b[39;49m\u001b[38;5;124;43mparallel_tool_calls\u001b[39;49m\u001b[38;5;124;43m\"\u001b[39;49m\u001b[43m:\u001b[49m\u001b[43m \u001b[49m\u001b[43mparallel_tool_calls\u001b[49m\u001b[43m,\u001b[49m\n\u001b[1;32m    682\u001b[0m \u001b[43m                \u001b[49m\u001b[38;5;124;43m\"\u001b[39;49m\u001b[38;5;124;43mpresence_penalty\u001b[39;49m\u001b[38;5;124;43m\"\u001b[39;49m\u001b[43m:\u001b[49m\u001b[43m \u001b[49m\u001b[43mpresence_penalty\u001b[49m\u001b[43m,\u001b[49m\n\u001b[1;32m    683\u001b[0m \u001b[43m                \u001b[49m\u001b[38;5;124;43m\"\u001b[39;49m\u001b[38;5;124;43mresponse_format\u001b[39;49m\u001b[38;5;124;43m\"\u001b[39;49m\u001b[43m:\u001b[49m\u001b[43m \u001b[49m\u001b[43mresponse_format\u001b[49m\u001b[43m,\u001b[49m\n\u001b[1;32m    684\u001b[0m \u001b[43m                \u001b[49m\u001b[38;5;124;43m\"\u001b[39;49m\u001b[38;5;124;43mseed\u001b[39;49m\u001b[38;5;124;43m\"\u001b[39;49m\u001b[43m:\u001b[49m\u001b[43m \u001b[49m\u001b[43mseed\u001b[49m\u001b[43m,\u001b[49m\n\u001b[1;32m    685\u001b[0m \u001b[43m                \u001b[49m\u001b[38;5;124;43m\"\u001b[39;49m\u001b[38;5;124;43mservice_tier\u001b[39;49m\u001b[38;5;124;43m\"\u001b[39;49m\u001b[43m:\u001b[49m\u001b[43m \u001b[49m\u001b[43mservice_tier\u001b[49m\u001b[43m,\u001b[49m\n\u001b[1;32m    686\u001b[0m \u001b[43m                \u001b[49m\u001b[38;5;124;43m\"\u001b[39;49m\u001b[38;5;124;43mstop\u001b[39;49m\u001b[38;5;124;43m\"\u001b[39;49m\u001b[43m:\u001b[49m\u001b[43m \u001b[49m\u001b[43mstop\u001b[49m\u001b[43m,\u001b[49m\n\u001b[1;32m    687\u001b[0m \u001b[43m                \u001b[49m\u001b[38;5;124;43m\"\u001b[39;49m\u001b[38;5;124;43mstream\u001b[39;49m\u001b[38;5;124;43m\"\u001b[39;49m\u001b[43m:\u001b[49m\u001b[43m \u001b[49m\u001b[43mstream\u001b[49m\u001b[43m,\u001b[49m\n\u001b[1;32m    688\u001b[0m \u001b[43m                \u001b[49m\u001b[38;5;124;43m\"\u001b[39;49m\u001b[38;5;124;43mstream_options\u001b[39;49m\u001b[38;5;124;43m\"\u001b[39;49m\u001b[43m:\u001b[49m\u001b[43m \u001b[49m\u001b[43mstream_options\u001b[49m\u001b[43m,\u001b[49m\n\u001b[1;32m    689\u001b[0m \u001b[43m                \u001b[49m\u001b[38;5;124;43m\"\u001b[39;49m\u001b[38;5;124;43mtemperature\u001b[39;49m\u001b[38;5;124;43m\"\u001b[39;49m\u001b[43m:\u001b[49m\u001b[43m \u001b[49m\u001b[43mtemperature\u001b[49m\u001b[43m,\u001b[49m\n\u001b[1;32m    690\u001b[0m \u001b[43m                \u001b[49m\u001b[38;5;124;43m\"\u001b[39;49m\u001b[38;5;124;43mtool_choice\u001b[39;49m\u001b[38;5;124;43m\"\u001b[39;49m\u001b[43m:\u001b[49m\u001b[43m \u001b[49m\u001b[43mtool_choice\u001b[49m\u001b[43m,\u001b[49m\n\u001b[1;32m    691\u001b[0m \u001b[43m                \u001b[49m\u001b[38;5;124;43m\"\u001b[39;49m\u001b[38;5;124;43mtools\u001b[39;49m\u001b[38;5;124;43m\"\u001b[39;49m\u001b[43m:\u001b[49m\u001b[43m \u001b[49m\u001b[43mtools\u001b[49m\u001b[43m,\u001b[49m\n\u001b[1;32m    692\u001b[0m \u001b[43m                \u001b[49m\u001b[38;5;124;43m\"\u001b[39;49m\u001b[38;5;124;43mtop_logprobs\u001b[39;49m\u001b[38;5;124;43m\"\u001b[39;49m\u001b[43m:\u001b[49m\u001b[43m \u001b[49m\u001b[43mtop_logprobs\u001b[49m\u001b[43m,\u001b[49m\n\u001b[1;32m    693\u001b[0m \u001b[43m                \u001b[49m\u001b[38;5;124;43m\"\u001b[39;49m\u001b[38;5;124;43mtop_p\u001b[39;49m\u001b[38;5;124;43m\"\u001b[39;49m\u001b[43m:\u001b[49m\u001b[43m \u001b[49m\u001b[43mtop_p\u001b[49m\u001b[43m,\u001b[49m\n\u001b[1;32m    694\u001b[0m \u001b[43m                \u001b[49m\u001b[38;5;124;43m\"\u001b[39;49m\u001b[38;5;124;43muser\u001b[39;49m\u001b[38;5;124;43m\"\u001b[39;49m\u001b[43m:\u001b[49m\u001b[43m \u001b[49m\u001b[43muser\u001b[49m\u001b[43m,\u001b[49m\n\u001b[1;32m    695\u001b[0m \u001b[43m            \u001b[49m\u001b[43m}\u001b[49m\u001b[43m,\u001b[49m\n\u001b[1;32m    696\u001b[0m \u001b[43m            \u001b[49m\u001b[43mcompletion_create_params\u001b[49m\u001b[38;5;241;43m.\u001b[39;49m\u001b[43mCompletionCreateParams\u001b[49m\u001b[43m,\u001b[49m\n\u001b[1;32m    697\u001b[0m \u001b[43m        \u001b[49m\u001b[43m)\u001b[49m\u001b[43m,\u001b[49m\n\u001b[1;32m    698\u001b[0m \u001b[43m        \u001b[49m\u001b[43moptions\u001b[49m\u001b[38;5;241;43m=\u001b[39;49m\u001b[43mmake_request_options\u001b[49m\u001b[43m(\u001b[49m\n\u001b[1;32m    699\u001b[0m \u001b[43m            \u001b[49m\u001b[43mextra_headers\u001b[49m\u001b[38;5;241;43m=\u001b[39;49m\u001b[43mextra_headers\u001b[49m\u001b[43m,\u001b[49m\u001b[43m \u001b[49m\u001b[43mextra_query\u001b[49m\u001b[38;5;241;43m=\u001b[39;49m\u001b[43mextra_query\u001b[49m\u001b[43m,\u001b[49m\u001b[43m \u001b[49m\u001b[43mextra_body\u001b[49m\u001b[38;5;241;43m=\u001b[39;49m\u001b[43mextra_body\u001b[49m\u001b[43m,\u001b[49m\u001b[43m \u001b[49m\u001b[43mtimeout\u001b[49m\u001b[38;5;241;43m=\u001b[39;49m\u001b[43mtimeout\u001b[49m\n\u001b[1;32m    700\u001b[0m \u001b[43m        \u001b[49m\u001b[43m)\u001b[49m\u001b[43m,\u001b[49m\n\u001b[1;32m    701\u001b[0m \u001b[43m        \u001b[49m\u001b[43mcast_to\u001b[49m\u001b[38;5;241;43m=\u001b[39;49m\u001b[43mChatCompletion\u001b[49m\u001b[43m,\u001b[49m\n\u001b[1;32m    702\u001b[0m \u001b[43m        \u001b[49m\u001b[43mstream\u001b[49m\u001b[38;5;241;43m=\u001b[39;49m\u001b[43mstream\u001b[49m\u001b[43m \u001b[49m\u001b[38;5;129;43;01mor\u001b[39;49;00m\u001b[43m \u001b[49m\u001b[38;5;28;43;01mFalse\u001b[39;49;00m\u001b[43m,\u001b[49m\n\u001b[1;32m    703\u001b[0m \u001b[43m        \u001b[49m\u001b[43mstream_cls\u001b[49m\u001b[38;5;241;43m=\u001b[39;49m\u001b[43mStream\u001b[49m\u001b[43m[\u001b[49m\u001b[43mChatCompletionChunk\u001b[49m\u001b[43m]\u001b[49m\u001b[43m,\u001b[49m\n\u001b[1;32m    704\u001b[0m \u001b[43m    \u001b[49m\u001b[43m)\u001b[49m\n",
      "File \u001b[0;32m/opt/homebrew/Caskroom/miniconda/base/envs/final/lib/python3.12/site-packages/openai/_base_client.py:1260\u001b[0m, in \u001b[0;36mSyncAPIClient.post\u001b[0;34m(self, path, cast_to, body, options, files, stream, stream_cls)\u001b[0m\n\u001b[1;32m   1246\u001b[0m \u001b[38;5;28;01mdef\u001b[39;00m \u001b[38;5;21mpost\u001b[39m(\n\u001b[1;32m   1247\u001b[0m     \u001b[38;5;28mself\u001b[39m,\n\u001b[1;32m   1248\u001b[0m     path: \u001b[38;5;28mstr\u001b[39m,\n\u001b[0;32m   (...)\u001b[0m\n\u001b[1;32m   1255\u001b[0m     stream_cls: \u001b[38;5;28mtype\u001b[39m[_StreamT] \u001b[38;5;241m|\u001b[39m \u001b[38;5;28;01mNone\u001b[39;00m \u001b[38;5;241m=\u001b[39m \u001b[38;5;28;01mNone\u001b[39;00m,\n\u001b[1;32m   1256\u001b[0m ) \u001b[38;5;241m-\u001b[39m\u001b[38;5;241m>\u001b[39m ResponseT \u001b[38;5;241m|\u001b[39m _StreamT:\n\u001b[1;32m   1257\u001b[0m     opts \u001b[38;5;241m=\u001b[39m FinalRequestOptions\u001b[38;5;241m.\u001b[39mconstruct(\n\u001b[1;32m   1258\u001b[0m         method\u001b[38;5;241m=\u001b[39m\u001b[38;5;124m\"\u001b[39m\u001b[38;5;124mpost\u001b[39m\u001b[38;5;124m\"\u001b[39m, url\u001b[38;5;241m=\u001b[39mpath, json_data\u001b[38;5;241m=\u001b[39mbody, files\u001b[38;5;241m=\u001b[39mto_httpx_files(files), \u001b[38;5;241m*\u001b[39m\u001b[38;5;241m*\u001b[39moptions\n\u001b[1;32m   1259\u001b[0m     )\n\u001b[0;32m-> 1260\u001b[0m     \u001b[38;5;28;01mreturn\u001b[39;00m cast(ResponseT, \u001b[38;5;28;43mself\u001b[39;49m\u001b[38;5;241;43m.\u001b[39;49m\u001b[43mrequest\u001b[49m\u001b[43m(\u001b[49m\u001b[43mcast_to\u001b[49m\u001b[43m,\u001b[49m\u001b[43m \u001b[49m\u001b[43mopts\u001b[49m\u001b[43m,\u001b[49m\u001b[43m \u001b[49m\u001b[43mstream\u001b[49m\u001b[38;5;241;43m=\u001b[39;49m\u001b[43mstream\u001b[49m\u001b[43m,\u001b[49m\u001b[43m \u001b[49m\u001b[43mstream_cls\u001b[49m\u001b[38;5;241;43m=\u001b[39;49m\u001b[43mstream_cls\u001b[49m\u001b[43m)\u001b[49m)\n",
      "File \u001b[0;32m/opt/homebrew/Caskroom/miniconda/base/envs/final/lib/python3.12/site-packages/openai/_base_client.py:937\u001b[0m, in \u001b[0;36mSyncAPIClient.request\u001b[0;34m(self, cast_to, options, remaining_retries, stream, stream_cls)\u001b[0m\n\u001b[1;32m    928\u001b[0m \u001b[38;5;28;01mdef\u001b[39;00m \u001b[38;5;21mrequest\u001b[39m(\n\u001b[1;32m    929\u001b[0m     \u001b[38;5;28mself\u001b[39m,\n\u001b[1;32m    930\u001b[0m     cast_to: Type[ResponseT],\n\u001b[0;32m   (...)\u001b[0m\n\u001b[1;32m    935\u001b[0m     stream_cls: \u001b[38;5;28mtype\u001b[39m[_StreamT] \u001b[38;5;241m|\u001b[39m \u001b[38;5;28;01mNone\u001b[39;00m \u001b[38;5;241m=\u001b[39m \u001b[38;5;28;01mNone\u001b[39;00m,\n\u001b[1;32m    936\u001b[0m ) \u001b[38;5;241m-\u001b[39m\u001b[38;5;241m>\u001b[39m ResponseT \u001b[38;5;241m|\u001b[39m _StreamT:\n\u001b[0;32m--> 937\u001b[0m     \u001b[38;5;28;01mreturn\u001b[39;00m \u001b[38;5;28;43mself\u001b[39;49m\u001b[38;5;241;43m.\u001b[39;49m\u001b[43m_request\u001b[49m\u001b[43m(\u001b[49m\n\u001b[1;32m    938\u001b[0m \u001b[43m        \u001b[49m\u001b[43mcast_to\u001b[49m\u001b[38;5;241;43m=\u001b[39;49m\u001b[43mcast_to\u001b[49m\u001b[43m,\u001b[49m\n\u001b[1;32m    939\u001b[0m \u001b[43m        \u001b[49m\u001b[43moptions\u001b[49m\u001b[38;5;241;43m=\u001b[39;49m\u001b[43moptions\u001b[49m\u001b[43m,\u001b[49m\n\u001b[1;32m    940\u001b[0m \u001b[43m        \u001b[49m\u001b[43mstream\u001b[49m\u001b[38;5;241;43m=\u001b[39;49m\u001b[43mstream\u001b[49m\u001b[43m,\u001b[49m\n\u001b[1;32m    941\u001b[0m \u001b[43m        \u001b[49m\u001b[43mstream_cls\u001b[49m\u001b[38;5;241;43m=\u001b[39;49m\u001b[43mstream_cls\u001b[49m\u001b[43m,\u001b[49m\n\u001b[1;32m    942\u001b[0m \u001b[43m        \u001b[49m\u001b[43mremaining_retries\u001b[49m\u001b[38;5;241;43m=\u001b[39;49m\u001b[43mremaining_retries\u001b[49m\u001b[43m,\u001b[49m\n\u001b[1;32m    943\u001b[0m \u001b[43m    \u001b[49m\u001b[43m)\u001b[49m\n",
      "File \u001b[0;32m/opt/homebrew/Caskroom/miniconda/base/envs/final/lib/python3.12/site-packages/openai/_base_client.py:1026\u001b[0m, in \u001b[0;36mSyncAPIClient._request\u001b[0;34m(self, cast_to, options, remaining_retries, stream, stream_cls)\u001b[0m\n\u001b[1;32m   1024\u001b[0m \u001b[38;5;28;01mif\u001b[39;00m retries \u001b[38;5;241m>\u001b[39m \u001b[38;5;241m0\u001b[39m \u001b[38;5;129;01mand\u001b[39;00m \u001b[38;5;28mself\u001b[39m\u001b[38;5;241m.\u001b[39m_should_retry(err\u001b[38;5;241m.\u001b[39mresponse):\n\u001b[1;32m   1025\u001b[0m     err\u001b[38;5;241m.\u001b[39mresponse\u001b[38;5;241m.\u001b[39mclose()\n\u001b[0;32m-> 1026\u001b[0m     \u001b[38;5;28;01mreturn\u001b[39;00m \u001b[38;5;28;43mself\u001b[39;49m\u001b[38;5;241;43m.\u001b[39;49m\u001b[43m_retry_request\u001b[49m\u001b[43m(\u001b[49m\n\u001b[1;32m   1027\u001b[0m \u001b[43m        \u001b[49m\u001b[43minput_options\u001b[49m\u001b[43m,\u001b[49m\n\u001b[1;32m   1028\u001b[0m \u001b[43m        \u001b[49m\u001b[43mcast_to\u001b[49m\u001b[43m,\u001b[49m\n\u001b[1;32m   1029\u001b[0m \u001b[43m        \u001b[49m\u001b[43mretries\u001b[49m\u001b[43m,\u001b[49m\n\u001b[1;32m   1030\u001b[0m \u001b[43m        \u001b[49m\u001b[43merr\u001b[49m\u001b[38;5;241;43m.\u001b[39;49m\u001b[43mresponse\u001b[49m\u001b[38;5;241;43m.\u001b[39;49m\u001b[43mheaders\u001b[49m\u001b[43m,\u001b[49m\n\u001b[1;32m   1031\u001b[0m \u001b[43m        \u001b[49m\u001b[43mstream\u001b[49m\u001b[38;5;241;43m=\u001b[39;49m\u001b[43mstream\u001b[49m\u001b[43m,\u001b[49m\n\u001b[1;32m   1032\u001b[0m \u001b[43m        \u001b[49m\u001b[43mstream_cls\u001b[49m\u001b[38;5;241;43m=\u001b[39;49m\u001b[43mstream_cls\u001b[49m\u001b[43m,\u001b[49m\n\u001b[1;32m   1033\u001b[0m \u001b[43m    \u001b[49m\u001b[43m)\u001b[49m\n\u001b[1;32m   1035\u001b[0m \u001b[38;5;66;03m# If the response is streamed then we need to explicitly read the response\u001b[39;00m\n\u001b[1;32m   1036\u001b[0m \u001b[38;5;66;03m# to completion before attempting to access the response text.\u001b[39;00m\n\u001b[1;32m   1037\u001b[0m \u001b[38;5;28;01mif\u001b[39;00m \u001b[38;5;129;01mnot\u001b[39;00m err\u001b[38;5;241m.\u001b[39mresponse\u001b[38;5;241m.\u001b[39mis_closed:\n",
      "File \u001b[0;32m/opt/homebrew/Caskroom/miniconda/base/envs/final/lib/python3.12/site-packages/openai/_base_client.py:1075\u001b[0m, in \u001b[0;36mSyncAPIClient._retry_request\u001b[0;34m(self, options, cast_to, remaining_retries, response_headers, stream, stream_cls)\u001b[0m\n\u001b[1;32m   1071\u001b[0m \u001b[38;5;66;03m# In a synchronous context we are blocking the entire thread. Up to the library user to run the client in a\u001b[39;00m\n\u001b[1;32m   1072\u001b[0m \u001b[38;5;66;03m# different thread if necessary.\u001b[39;00m\n\u001b[1;32m   1073\u001b[0m time\u001b[38;5;241m.\u001b[39msleep(timeout)\n\u001b[0;32m-> 1075\u001b[0m \u001b[38;5;28;01mreturn\u001b[39;00m \u001b[38;5;28;43mself\u001b[39;49m\u001b[38;5;241;43m.\u001b[39;49m\u001b[43m_request\u001b[49m\u001b[43m(\u001b[49m\n\u001b[1;32m   1076\u001b[0m \u001b[43m    \u001b[49m\u001b[43moptions\u001b[49m\u001b[38;5;241;43m=\u001b[39;49m\u001b[43moptions\u001b[49m\u001b[43m,\u001b[49m\n\u001b[1;32m   1077\u001b[0m \u001b[43m    \u001b[49m\u001b[43mcast_to\u001b[49m\u001b[38;5;241;43m=\u001b[39;49m\u001b[43mcast_to\u001b[49m\u001b[43m,\u001b[49m\n\u001b[1;32m   1078\u001b[0m \u001b[43m    \u001b[49m\u001b[43mremaining_retries\u001b[49m\u001b[38;5;241;43m=\u001b[39;49m\u001b[43mremaining\u001b[49m\u001b[43m,\u001b[49m\n\u001b[1;32m   1079\u001b[0m \u001b[43m    \u001b[49m\u001b[43mstream\u001b[49m\u001b[38;5;241;43m=\u001b[39;49m\u001b[43mstream\u001b[49m\u001b[43m,\u001b[49m\n\u001b[1;32m   1080\u001b[0m \u001b[43m    \u001b[49m\u001b[43mstream_cls\u001b[49m\u001b[38;5;241;43m=\u001b[39;49m\u001b[43mstream_cls\u001b[49m\u001b[43m,\u001b[49m\n\u001b[1;32m   1081\u001b[0m \u001b[43m\u001b[49m\u001b[43m)\u001b[49m\n",
      "File \u001b[0;32m/opt/homebrew/Caskroom/miniconda/base/envs/final/lib/python3.12/site-packages/openai/_base_client.py:1026\u001b[0m, in \u001b[0;36mSyncAPIClient._request\u001b[0;34m(self, cast_to, options, remaining_retries, stream, stream_cls)\u001b[0m\n\u001b[1;32m   1024\u001b[0m \u001b[38;5;28;01mif\u001b[39;00m retries \u001b[38;5;241m>\u001b[39m \u001b[38;5;241m0\u001b[39m \u001b[38;5;129;01mand\u001b[39;00m \u001b[38;5;28mself\u001b[39m\u001b[38;5;241m.\u001b[39m_should_retry(err\u001b[38;5;241m.\u001b[39mresponse):\n\u001b[1;32m   1025\u001b[0m     err\u001b[38;5;241m.\u001b[39mresponse\u001b[38;5;241m.\u001b[39mclose()\n\u001b[0;32m-> 1026\u001b[0m     \u001b[38;5;28;01mreturn\u001b[39;00m \u001b[38;5;28;43mself\u001b[39;49m\u001b[38;5;241;43m.\u001b[39;49m\u001b[43m_retry_request\u001b[49m\u001b[43m(\u001b[49m\n\u001b[1;32m   1027\u001b[0m \u001b[43m        \u001b[49m\u001b[43minput_options\u001b[49m\u001b[43m,\u001b[49m\n\u001b[1;32m   1028\u001b[0m \u001b[43m        \u001b[49m\u001b[43mcast_to\u001b[49m\u001b[43m,\u001b[49m\n\u001b[1;32m   1029\u001b[0m \u001b[43m        \u001b[49m\u001b[43mretries\u001b[49m\u001b[43m,\u001b[49m\n\u001b[1;32m   1030\u001b[0m \u001b[43m        \u001b[49m\u001b[43merr\u001b[49m\u001b[38;5;241;43m.\u001b[39;49m\u001b[43mresponse\u001b[49m\u001b[38;5;241;43m.\u001b[39;49m\u001b[43mheaders\u001b[49m\u001b[43m,\u001b[49m\n\u001b[1;32m   1031\u001b[0m \u001b[43m        \u001b[49m\u001b[43mstream\u001b[49m\u001b[38;5;241;43m=\u001b[39;49m\u001b[43mstream\u001b[49m\u001b[43m,\u001b[49m\n\u001b[1;32m   1032\u001b[0m \u001b[43m        \u001b[49m\u001b[43mstream_cls\u001b[49m\u001b[38;5;241;43m=\u001b[39;49m\u001b[43mstream_cls\u001b[49m\u001b[43m,\u001b[49m\n\u001b[1;32m   1033\u001b[0m \u001b[43m    \u001b[49m\u001b[43m)\u001b[49m\n\u001b[1;32m   1035\u001b[0m \u001b[38;5;66;03m# If the response is streamed then we need to explicitly read the response\u001b[39;00m\n\u001b[1;32m   1036\u001b[0m \u001b[38;5;66;03m# to completion before attempting to access the response text.\u001b[39;00m\n\u001b[1;32m   1037\u001b[0m \u001b[38;5;28;01mif\u001b[39;00m \u001b[38;5;129;01mnot\u001b[39;00m err\u001b[38;5;241m.\u001b[39mresponse\u001b[38;5;241m.\u001b[39mis_closed:\n",
      "File \u001b[0;32m/opt/homebrew/Caskroom/miniconda/base/envs/final/lib/python3.12/site-packages/openai/_base_client.py:1075\u001b[0m, in \u001b[0;36mSyncAPIClient._retry_request\u001b[0;34m(self, options, cast_to, remaining_retries, response_headers, stream, stream_cls)\u001b[0m\n\u001b[1;32m   1071\u001b[0m \u001b[38;5;66;03m# In a synchronous context we are blocking the entire thread. Up to the library user to run the client in a\u001b[39;00m\n\u001b[1;32m   1072\u001b[0m \u001b[38;5;66;03m# different thread if necessary.\u001b[39;00m\n\u001b[1;32m   1073\u001b[0m time\u001b[38;5;241m.\u001b[39msleep(timeout)\n\u001b[0;32m-> 1075\u001b[0m \u001b[38;5;28;01mreturn\u001b[39;00m \u001b[38;5;28;43mself\u001b[39;49m\u001b[38;5;241;43m.\u001b[39;49m\u001b[43m_request\u001b[49m\u001b[43m(\u001b[49m\n\u001b[1;32m   1076\u001b[0m \u001b[43m    \u001b[49m\u001b[43moptions\u001b[49m\u001b[38;5;241;43m=\u001b[39;49m\u001b[43moptions\u001b[49m\u001b[43m,\u001b[49m\n\u001b[1;32m   1077\u001b[0m \u001b[43m    \u001b[49m\u001b[43mcast_to\u001b[49m\u001b[38;5;241;43m=\u001b[39;49m\u001b[43mcast_to\u001b[49m\u001b[43m,\u001b[49m\n\u001b[1;32m   1078\u001b[0m \u001b[43m    \u001b[49m\u001b[43mremaining_retries\u001b[49m\u001b[38;5;241;43m=\u001b[39;49m\u001b[43mremaining\u001b[49m\u001b[43m,\u001b[49m\n\u001b[1;32m   1079\u001b[0m \u001b[43m    \u001b[49m\u001b[43mstream\u001b[49m\u001b[38;5;241;43m=\u001b[39;49m\u001b[43mstream\u001b[49m\u001b[43m,\u001b[49m\n\u001b[1;32m   1080\u001b[0m \u001b[43m    \u001b[49m\u001b[43mstream_cls\u001b[49m\u001b[38;5;241;43m=\u001b[39;49m\u001b[43mstream_cls\u001b[49m\u001b[43m,\u001b[49m\n\u001b[1;32m   1081\u001b[0m \u001b[43m\u001b[49m\u001b[43m)\u001b[49m\n",
      "File \u001b[0;32m/opt/homebrew/Caskroom/miniconda/base/envs/final/lib/python3.12/site-packages/openai/_base_client.py:1041\u001b[0m, in \u001b[0;36mSyncAPIClient._request\u001b[0;34m(self, cast_to, options, remaining_retries, stream, stream_cls)\u001b[0m\n\u001b[1;32m   1038\u001b[0m         err\u001b[38;5;241m.\u001b[39mresponse\u001b[38;5;241m.\u001b[39mread()\n\u001b[1;32m   1040\u001b[0m     log\u001b[38;5;241m.\u001b[39mdebug(\u001b[38;5;124m\"\u001b[39m\u001b[38;5;124mRe-raising status error\u001b[39m\u001b[38;5;124m\"\u001b[39m)\n\u001b[0;32m-> 1041\u001b[0m     \u001b[38;5;28;01mraise\u001b[39;00m \u001b[38;5;28mself\u001b[39m\u001b[38;5;241m.\u001b[39m_make_status_error_from_response(err\u001b[38;5;241m.\u001b[39mresponse) \u001b[38;5;28;01mfrom\u001b[39;00m \u001b[38;5;28;01mNone\u001b[39;00m\n\u001b[1;32m   1043\u001b[0m \u001b[38;5;28;01mreturn\u001b[39;00m \u001b[38;5;28mself\u001b[39m\u001b[38;5;241m.\u001b[39m_process_response(\n\u001b[1;32m   1044\u001b[0m     cast_to\u001b[38;5;241m=\u001b[39mcast_to,\n\u001b[1;32m   1045\u001b[0m     options\u001b[38;5;241m=\u001b[39moptions,\n\u001b[0;32m   (...)\u001b[0m\n\u001b[1;32m   1049\u001b[0m     retries_taken\u001b[38;5;241m=\u001b[39moptions\u001b[38;5;241m.\u001b[39mget_max_retries(\u001b[38;5;28mself\u001b[39m\u001b[38;5;241m.\u001b[39mmax_retries) \u001b[38;5;241m-\u001b[39m retries,\n\u001b[1;32m   1050\u001b[0m )\n",
      "\u001b[0;31mRateLimitError\u001b[0m: Error code: 429 - {'error': {'message': 'You exceeded your current quota, please check your plan and billing details. For more information on this error, read the docs: https://platform.openai.com/docs/guides/error-codes/api-errors.', 'type': 'insufficient_quota', 'param': None, 'code': 'insufficient_quota'}}"
     ]
    }
   ],
   "source": [
    "import time\n",
    "\n",
    "chain = final_prompt | model\n",
    "\n",
    "test_results = []\n",
    "\n",
    "for i in range(0,100):\n",
    "    print(\"Predicting\", i)\n",
    "    test_sequence = finer['test']['tokens'][i]\n",
    "    true_labels = finer['test']['ner_tags'][i]\n",
    "    res = chain.invoke(test_sequence)\n",
    "    pred_labels = retrieve_labels(res)\n",
    "    test_results.append((i, pred_labels))\n",
    "    # Add sleep to avolide hitting OpenAI rate limit\n",
    "    time.sleep(15)"
   ]
  },
  {
   "cell_type": "code",
   "execution_count": 315,
   "metadata": {},
   "outputs": [
    {
     "name": "stdout",
     "output_type": "stream",
     "text": [
      "Difference in length of output and input: [-1, -3, 0, -8, 3, -1, -4, 3, 1, -1, 0, -1, 0, 1, -2, -1, 0, 0, 0, 0, 0, -3, 4, -1, 0, 0, -1, 0, -1, -1, 0, -2, 0, -4, -1, 0, 0, -2, 0, 0, -1, -2, 5, 0, -2, 0, 0, -2, -1, 1, -2, 0, -1, -1, -3, -1, -2, 2, 2]\n"
     ]
    }
   ],
   "source": [
    "# Show difference in length between input and output sequences\n",
    "def view_len_results(results_list):\n",
    "    diff_in_len = []\n",
    "    \n",
    "    for i, pred_labels in results_list:\n",
    "        len_input_sequence = len(finer['test']['tokens'][i])\n",
    "        diff_in_len.append(len(pred_labels) - len_input_sequence)\n",
    "\n",
    "    return diff_in_len\n",
    "\n",
    "print(\"Difference in length of output and input:\", view_len_results(test_results))"
   ]
  },
  {
   "cell_type": "code",
   "execution_count": 316,
   "metadata": {},
   "outputs": [],
   "source": [
    "# Format list for evaluation\n",
    "# Match the length of the predicted list with the true list\n",
    "def match_list(pred_list, true_list):\n",
    "    while len(pred_list) < len(true_list):\n",
    "        pred_list.append(\"O\")\n",
    "    while len(pred_list) > len(true_list):\n",
    "        pred_list.pop()\n",
    "\n",
    "    return pred_list\n",
    "\n",
    "y_true=[]\n",
    "y_pred=[]\n",
    "\n",
    "for i in test_results:\n",
    "    id = i[0]\n",
    "    pred_labels = i[1]\n",
    "    true_labels = convert_id2label(finer['test']['ner_tags'][id])\n",
    "    padded_pred_labels = match_list(pred_labels, true_labels)\n",
    "    y_true.extend(true_labels)\n",
    "    y_pred.extend(padded_pred_labels)\n"
   ]
  },
  {
   "cell_type": "code",
   "execution_count": 317,
   "metadata": {},
   "outputs": [
    {
     "name": "stdout",
     "output_type": "stream",
     "text": [
      "Classification Report\n",
      "\n",
      "              precision    recall  f1-score   support\n",
      "\n",
      "           O       0.97      0.96      0.97      1333\n",
      "       B-PER       0.62      0.67      0.64        12\n",
      "       I-PER       0.62      0.56      0.59         9\n",
      "       B-LOC       0.25      0.33      0.29        15\n",
      "       I-LOC       0.33      0.14      0.20         7\n",
      "       B-ORG       0.42      0.53      0.47        30\n",
      "       I-ORG       0.62      0.47      0.53        17\n",
      "\n",
      "   micro avg       0.94      0.93      0.93      1423\n",
      "   macro avg       0.55      0.52      0.53      1423\n",
      "weighted avg       0.94      0.93      0.94      1423\n",
      "\n"
     ]
    }
   ],
   "source": [
    "from sklearn.metrics import classification_report\n",
    "print(\"Classification Report\\n\")\n",
    "print(classification_report(y_true, y_pred, labels=['O', 'B-PER', 'I-PER', 'B-LOC', 'I-LOC', 'B-ORG', 'I-ORG']))"
   ]
  },
  {
   "cell_type": "code",
   "execution_count": 318,
   "metadata": {},
   "outputs": [
    {
     "name": "stdout",
     "output_type": "stream",
     "text": [
      "Count of y_true instances: [('B-LOC', 15), ('B-ORG', 30), ('B-PER', 12), ('I-LOC', 7), ('I-ORG', 17), ('I-PER', 9), ('O', 1333)]\n",
      "Count of y_pred instances: [('B-LOC', 20), ('B-MISC', 2), ('B-ORG', 38), ('B-PER', 13), ('I-LOC', 3), ('I-MISC', 1), ('I-ORG', 13), ('I-PER', 8), ('O', 1325)]\n"
     ]
    }
   ],
   "source": [
    "from collections import Counter\n",
    "\n",
    "# Number of instances in each sequence\n",
    "y_true_counted = Counter(y_true)\n",
    "y_pred_counted = Counter(y_pred)\n",
    "\n",
    "print(\"Count of y_true instances:\", sorted(y_true_counted.items()))\n",
    "print(\"Count of y_pred instances:\", sorted(y_pred_counted.items()))"
   ]
  },
  {
   "cell_type": "code",
   "execution_count": 319,
   "metadata": {},
   "outputs": [
    {
     "name": "stdout",
     "output_type": "stream",
     "text": [
      "Predicted labels: {'I-MISC', 'I-PER', 'I-ORG', 'B-PER', 'B-MISC', 'I-LOC', 'O', 'B-ORG', 'B-LOC'}\n"
     ]
    }
   ],
   "source": [
    "print(\"Predicted labels:\", set(y_pred))"
   ]
  },
  {
   "cell_type": "code",
   "execution_count": 320,
   "metadata": {},
   "outputs": [],
   "source": [
    "def df_from_result(result_tuple):\n",
    "    df = pd.DataFrame(columns=['ID', 'True Label', 'Predicted Label', 'Token'])\n",
    "    \n",
    "    id = result_tuple[0]\n",
    "    true_labels = convert_id2label(finer['test']['ner_tags'][id])\n",
    "    pred_labels = match_list(result_tuple[1], true_labels)\n",
    "    text_sequence = finer['test']['tokens'][id]\n",
    "\n",
    "    for i in range(len(text_sequence)):\n",
    "        new_row = (id, true_labels[i], pred_labels[i], text_sequence[i])\n",
    "        df.loc[len(df)] = new_row\n",
    "        \n",
    "    return df"
   ]
  },
  {
   "cell_type": "code",
   "execution_count": 321,
   "metadata": {},
   "outputs": [
    {
     "name": "stdout",
     "output_type": "stream",
     "text": [
      "    ID True Label Predicted Label               Token\n",
      "0    0          O               O                   “\n",
      "1    0          O               O             Overall\n",
      "2    0          O               O                  it\n",
      "3    0          O               O             reminds\n",
      "4    0          O               O                  me\n",
      "5    0          O               O                  of\n",
      "6    0          O               O                 the\n",
      "7    0          O               O                form\n",
      "8    0          O               O                  of\n",
      "9    0          O               O        co-operative\n",
      "10   0          O               O        associations\n",
      "11   0          O               O                  or\n",
      "12   0          O               O             mutuals\n",
      "13   0          O               O                   ,\n",
      "14   0          O               O                   ”\n",
      "15   0          O               O                says\n",
      "16   0          O           B-PER                  Dr\n",
      "17   0      B-PER           I-PER          Yoshikatsu\n",
      "18   0      I-PER               O           Shinozawa\n",
      "19   0          O               O                   ,\n",
      "20   0          O               O              senior\n",
      "21   0          O               O            lecturer\n",
      "22   0          O               O                  in\n",
      "23   0          O               O           financial\n",
      "24   0          O               O             studies\n",
      "25   0          O               O                  at\n",
      "26   0          O           B-ORG                 the\n",
      "27   0      B-ORG               O          University\n",
      "28   0      I-ORG           B-LOC                  of\n",
      "29   0      I-ORG               O              London\n",
      "30   0          O               O                  ’s\n",
      "31   0      B-ORG               O              School\n",
      "32   0      I-ORG               O                  of\n",
      "33   0      I-ORG               O            Oriental\n",
      "34   0      I-ORG               O                 and\n",
      "35   0      I-ORG               O             African\n",
      "36   0      I-ORG               O             Studies\n",
      "37   0          O               O                 and\n",
      "38   0          O           B-LOC                   a\n",
      "39   0          O               O              former\n",
      "40   0      B-LOC               O               Tokyo\n",
      "41   0          O               O                fund\n",
      "42   0          O               O             manager\n",
      "43   0          O               O                   .\n",
      "0    1          O               O                Bank\n",
      "1    1          O               O    recapitalisation\n",
      "2    1          O               O                  is\n",
      "3    1          O               O                 set\n",
      "4    1          O               O                  to\n",
      "5    1          O               O            dominate\n",
      "6    1          O               O               talks\n",
      "7    1          O               O             between\n",
      "8    1          O           B-ORG                 the\n",
      "9    1      B-ORG               O              Syriza\n",
      "10   1          O               O          government\n",
      "11   1          O           B-LOC                 and\n",
      "12   1      B-LOC               O              Greece\n",
      "13   1          O               O                  's\n",
      "14   1          O               O           creditors\n",
      "15   1          O               O                this\n",
      "16   1          O               O                week\n",
      "17   1          O               O                  as\n",
      "18   1          O               O                 the\n",
      "19   1          O               O                next\n",
      "20   1          O               O           repayment\n",
      "21   1          O               O            deadline\n",
      "22   1          O               O                  on\n",
      "23   1          O               O                  20\n",
      "24   1          O               O              August\n",
      "25   1          O               O               draws\n",
      "26   1          O               O              closer\n",
      "27   1          O               O                   .\n",
      "0    2          O               O          Highlights\n",
      "1    2          O               O                from\n",
      "2    2          O               O                 the\n",
      "3    2          O               O            analysis\n",
      "4    2          O               O                  by\n",
      "5    2      B-ORG           B-ORG                 The\n",
      "6    2      I-ORG           I-ORG              Street\n",
      "7    2          O           I-ORG             Ratings\n",
      "0    3          O               O                   \"\n",
      "1    3          O               O                  If\n",
      "2    3          O               O                 our\n",
      "3    3          O               O             diverse\n",
      "4    3          O               O       organisations\n",
      "5    3          O               O                 can\n",
      "6    3          O               O                 sit\n",
      "7    3          O               O                down\n",
      "8    3          O               O            together\n",
      "9    3          O               O                 and\n",
      "10   3          O               O                 nut\n",
      "11   3          O               O                 out\n",
      "12   3          O               O                 the\n",
      "13   3          O               O          objectives\n",
      "14   3          O               O                 for\n",
      "15   3          O               O                 tax\n",
      "16   3          O               O              reform\n",
      "17   3          O               O                 ...\n",
      "18   3          O               O                this\n",
      "19   3          O               O            provides\n",
      "20   3          O               O                 our\n",
      "21   3          O               O           political\n",
      "22   3          O               O             leaders\n",
      "23   3          O               O                with\n",
      "24   3          O               O                   a\n",
      "25   3          O               O               solid\n",
      "26   3          O               O            platform\n",
      "27   3          O               O                  of\n",
      "28   3          O               O           consensus\n",
      "29   3          O           B-ORG                 and\n",
      "30   3          O               O             support\n",
      "31   3          O               O                  to\n",
      "32   3          O           B-PER                take\n",
      "33   3          O           I-PER              things\n",
      "34   3          O               O             forward\n",
      "35   3          O               O                   ,\n",
      "36   3          O               O                   \"\n",
      "37   3      B-ORG               O                 BCA\n",
      "38   3          O               O               chief\n",
      "39   3          O               O           executive\n",
      "40   3      B-PER               O            Jennifer\n",
      "41   3      I-PER               O           Westacott\n",
      "42   3          O               O                says\n",
      "43   3          O               O                   .\n",
      "0    4          O               O                 Act\n",
      "1    4          O               O                does\n",
      "2    4          O               O                 not\n",
      "3    4          O               O           prescribe\n",
      "4    4          O               O                  or\n",
      "5    4          O               O           determine\n",
      "6    4          O               O                 who\n",
      "7    4          O               O                 has\n",
      "8    4          O               O                 the\n",
      "9    4          O               O               legal\n",
      "10   4          O               O               right\n",
      "11   4          O               O                  to\n",
      "12   4          O               O                 the\n",
      "13   4          O               O                plan\n",
      "14   4          O               O                  on\n",
      "15   4          O               O                 the\n",
      "16   4          O               O               death\n",
      "17   4          O               O                  of\n",
      "18   4          O               O                 the\n",
      "19   4          O               O          subscriber\n",
      "20   4          O               O                   .\n",
      "0    5          O               O                  As\n",
      "1    5          O               O                  of\n",
      "2    5          O               O                 the\n",
      "3    5          O               O              second\n",
      "4    5          O               O             quarter\n",
      "5    5          O               O                   ,\n",
      "6    5          O               O                year\n",
      "7    5          O               O                   -\n",
      "8    5          O               O                over\n",
      "9    5          O               O                   -\n",
      "10   5          O               O                year\n",
      "11   5          O               O             nonfarm\n",
      "12   5          O               O             payroll\n",
      "13   5          O               O              growth\n",
      "14   5          O               O                  is\n",
      "15   5          O               O           averaging\n",
      "16   5          O               O              around\n",
      "17   5          O               O                 2.1\n",
      "18   5          O               O                   %\n",
      "19   5          O               O                 and\n",
      "20   5          O               O                 GDP\n",
      "21   5          O               O              growth\n",
      "22   5          O               O                over\n",
      "23   5          O               O                 the\n",
      "24   5          O               O                same\n",
      "25   5          O               O              period\n",
      "26   5          O               O                  is\n",
      "27   5          O               O             running\n",
      "28   5          O               O              around\n",
      "29   5          O               O                 2.5\n",
      "30   5          O               O                   %\n",
      "31   5          O               O                   .\n",
      "0    6      B-ORG           B-ORG           LifePoint\n",
      "1    6      I-ORG           I-ORG              Health\n",
      "2    6      I-ORG           I-ORG                 Inc\n",
      "3    6          O               O            Earnings\n",
      "4    6          O               O                Call\n",
      "5    6          O               O                   (\n",
      "6    6          O               O                  Q2\n",
      "7    6          O               O                2015\n",
      "8    6          O               O                   )\n",
      "9    6          O               O           Scheduled\n",
      "10   6          O               O                  to\n",
      "11   6          O               O               start\n",
      "12   6          O               O                 Fri\n",
      "13   6          O               O                   ,\n",
      "14   6          O               O                 Jul\n",
      "15   6          O               O                  31\n",
      "16   6          O               O                   ,\n",
      "17   6          O               O                2015\n",
      "18   6          O               O                   ,\n",
      "19   6          O               O               10:00\n",
      "20   6          O               O                  am\n",
      "21   6          O               O             Eastern\n",
      "22   6          O               O               Check\n",
      "23   6          O               O                back\n",
      "24   6          O               O                  at\n",
      "25   6          O               O                 the\n",
      "26   6          O               O           scheduled\n",
      "27   6          O               O               start\n",
      "28   6          O               O                time\n",
      "29   6          O               O              forthe\n",
      "30   6          O               O               audio\n",
      "31   6          O               O                link\n",
      "32   6          O               O                  to\n",
      "33   6          O               O              appear\n",
      "34   6          O               O                  in\n",
      "35   6          O               O                this\n",
      "36   6          O               O                spot\n",
      "37   6          O               O                   .\n",
      "0    7          O               O                Cash\n",
      "1    7          O               O                from\n",
      "2    7          O               O              around\n",
      "3    7          O               O                 the\n",
      "4    7          O               O               world\n",
      "5    7          O               O                 has\n",
      "6    7          O               O                been\n",
      "7    7          O               O            flooding\n",
      "8    7          O               O                into\n",
      "9    7          O               O                 the\n",
      "10   7          O               O            property\n",
      "11   7          O               O              market\n",
      "12   7          O               O                  in\n",
      "13   7          O               O                   a\n",
      "14   7          O               O                 bid\n",
      "15   7          O               O                  to\n",
      "16   7          O               O             benefit\n",
      "17   7          O               O                from\n",
      "18   7          O               O                 the\n",
      "19   7          O               O             returns\n",
      "20   7          O               O                  it\n",
      "21   7          O               O                 can\n",
      "22   7          O               O            generate\n",
      "23   7          O               O                   .\n",
      "0    8          O               O                 Not\n",
      "1    8          O               O                only\n",
      "2    8          O               O                  is\n",
      "3    8          O               O                work\n",
      "4    8          O               O              drying\n",
      "5    8          O               O                  up\n",
      "6    8          O               O                 but\n",
      "7    8          O               O                 his\n",
      "8    8          O               O              hourly\n",
      "9    8          O               O               rates\n",
      "10   8          O               O                 are\n",
      "11   8          O               O               under\n",
      "12   8          O               O            pressure\n",
      "13   8          O               O                  as\n",
      "14   8          O               O          unemployed\n",
      "15   8          O               O              miners\n",
      "16   8          O           B-LOC              return\n",
      "17   8          O           I-LOC                from\n",
      "18   8      B-LOC               O             Western\n",
      "19   8      I-LOC               O           Australia\n",
      "20   8          O               O                  's\n",
      "21   8      B-LOC               O               north\n",
      "22   8      I-LOC               O                   -\n",
      "23   8      I-LOC               O                west\n",
      "24   8          O               O                 and\n",
      "25   8          O               O                 cut\n",
      "26   8          O               O               their\n",
      "27   8          O               O                fees\n",
      "28   8          O               O                  to\n",
      "29   8          O               O              secure\n",
      "30   8          O               O           dwindling\n",
      "31   8          O               O                work\n",
      "32   8          O               O                   .\n",
      "0    9          O           B-ORG                Oath\n",
      "1    9          O           I-ORG             Keepers\n",
      "2    9          O               O             descend\n",
      "3    9          O           B-LOC                  on\n",
      "4    9      B-PER               O            Ferguson\n",
      "0   10          O               O                  So\n",
      "1   10          O               O                  is\n",
      "2   10          O               O                  it\n",
      "3   10          O               O                time\n",
      "4   10          O               O                 for\n",
      "5   10          O               O           investors\n",
      "6   10          O               O                  in\n",
      "7   10      B-ORG           B-ORG                  GM\n",
      "8   10          O               O                   (\n",
      "9   10          O               O                  or\n",
      "10  10          O               O               these\n",
      "11  10          O               O               other\n",
      "12  10          O               O          automakers\n",
      "13  10          O               O                   )\n",
      "14  10          O               O                  to\n",
      "15  10          O               O               worry\n",
      "16  10          O               O                   ?\n",
      "0   11          O               O                 The\n",
      "1   11          O           B-ORG           Financial\n",
      "2   11          O           I-ORG            Security\n",
      "3   11          O           I-ORG               Index\n",
      "4   11          O               O                  by\n",
      "5   11      B-ORG           B-ORG            Bankrate\n",
      "6   11          O               O             slipped\n",
      "7   11          O               O                 for\n",
      "8   11          O               O                   a\n",
      "9   11          O               O               third\n",
      "10  11          O               O         consecutive\n",
      "11  11          O               O               month\n",
      "12  11          O               O                  to\n",
      "13  11          O               O               101.2\n",
      "14  11          O               O                 and\n",
      "15  11          O               O        demonstrates\n",
      "16  11          O               O                 the\n",
      "17  11          O               O              lowest\n",
      "18  11          O               O             reading\n",
      "19  11          O               O               since\n",
      "20  11          O               O             October\n",
      "21  11          O               O                2014\n",
      "22  11          O               O                   .\n",
      "0   12          O               O                  We\n",
      "1   12          O               O             decided\n",
      "2   12          O               O                  to\n",
      "3   12          O               O                 get\n",
      "4   12          O               O            together\n",
      "5   12          O               O                with\n",
      "6   12      B-PER           B-PER                 Ron\n",
      "7   12          O               O                from\n",
      "8   12      B-ORG           B-ORG          Integratus\n",
      "9   12      I-ORG           I-ORG           Solutions\n",
      "10  12          O               O                 and\n",
      "11  12          O               O               learn\n",
      "12  12          O               O                more\n",
      "13  12          O               O               about\n",
      "14  12          O               O            business\n",
      "15  12          O               O           solutions\n",
      "16  12          O               O                   .\n",
      "0   13          O               O                  We\n",
      "1   13          O               O                also\n",
      "2   13          O               O               learn\n",
      "3   13          O               O                  in\n",
      "4   13          O               O                 the\n",
      "5   13          O               O               first\n",
      "6   13          O               O             chapter\n",
      "7   13          O               O                   (\n",
      "8   13          O               O             spoiler\n",
      "9   13          O               O               alert\n",
      "10  13          O               O                   )\n",
      "11  13          O               O                that\n",
      "12  13          O           B-PER               Scout\n",
      "13  13          O               O                  's\n",
      "14  13          O               O             brother\n",
      "15  13      B-PER           B-PER                 Jem\n",
      "16  13          O               O                   ,\n",
      "17  13          O               O                   a\n",
      "18  13          O               O               major\n",
      "19  13          O               O           character\n",
      "20  13          O               O                  in\n",
      "21  13          O               O         Mockingbird\n",
      "22  13          O               O                   ,\n",
      "23  13          O               O                   \"\n",
      "24  13          O               O             dropped\n",
      "25  13          O               O                dead\n",
      "26  13          O               O                  in\n",
      "27  13          O               O                 his\n",
      "28  13          O               O              tracks\n",
      "29  13          O               O                 one\n",
      "30  13          O               O                 day\n",
      "31  13          O               O                   .\n",
      "32  13          O               O                   \"\n",
      "0   14          O               O                   \"\n",
      "1   14          O               O             However\n",
      "2   14          O               O                   ,\n",
      "3   14          O               O                  it\n",
      "4   14          O               O                  's\n",
      "5   14          O               O                   a\n",
      "6   14          O               O                 lot\n",
      "7   14          O               O               worse\n",
      "8   14          O               O                  on\n",
      "9   14          O               O                 the\n",
      "10  14          O               O               other\n",
      "11  14          O               O                side\n",
      "12  14          O               O                  as\n",
      "13  14          O               O                   a\n",
      "14  14          O               O                   '\n",
      "15  14          O               O                  No\n",
      "16  14          O               O                   '\n",
      "17  14          O               O                vote\n",
      "18  14          O               O                will\n",
      "19  14          O               O             present\n",
      "20  14          O               O                   a\n",
      "21  14          O               O                host\n",
      "22  14          O               O                  of\n",
      "23  14          O               O       uncertainties\n",
      "24  14          O               O                that\n",
      "25  14          O               O               could\n",
      "26  14          O               O              really\n",
      "27  14          O               O              rattle\n",
      "28  14          O               O             markets\n",
      "29  14          O               O                 ...\n",
      "0   15          O               O                 And\n",
      "1   15          O               O                   ,\n",
      "2   15          O               O                with\n",
      "3   15          O               O                   a\n",
      "4   15          O               O               sound\n",
      "5   15          O               O            strategy\n",
      "6   15          O               O                 and\n",
      "7   15          O               O           improving\n",
      "8   15          O               O             outlook\n",
      "9   15          O               O                   ,\n",
      "10  15          O               O            investor\n",
      "11  15          O               O           sentiment\n",
      "12  15          O               O               could\n",
      "13  15          O               O                pick\n",
      "14  15          O               O                  up\n",
      "15  15          O               O                 and\n",
      "16  15          O           B-ORG                push\n",
      "17  15      B-ORG               O              Blinkx\n",
      "18  15          O               O                  's\n",
      "19  15          O               O               share\n",
      "20  15          O               O               price\n",
      "21  15          O               O       significantly\n",
      "22  15          O               O              higher\n",
      "23  15          O               O                   .\n",
      "0   16          O               O                 The\n",
      "1   16          O               O               class\n",
      "2   16          O               O              action\n",
      "3   16          O               O            includes\n",
      "4   16          O               O                  56\n",
      "5   16          O               O               class\n",
      "6   16          O               O     representatives\n",
      "7   16          O               O                  of\n",
      "8   16          O               O                more\n",
      "9   16          O               O                than\n",
      "10  16          O               O              25,000\n",
      "11  16          O               O              people\n",
      "12  16          O               O                   .\n",
      "0   17          O               O                 The\n",
      "1   17          O               O           financial\n",
      "2   17          O               O              sector\n",
      "3   17          O               O                  is\n",
      "4   17          O               O                   a\n",
      "5   17          O               O                good\n",
      "6   17          O               O             example\n",
      "7   17          O               O                  of\n",
      "8   17          O               O                this\n",
      "9   17          O               O                   .\n",
      "0   18          O               O                 The\n",
      "1   18          O               O                most\n",
      "2   18          O               O          endangered\n",
      "3   18          O               O        presidential\n",
      "4   18          O               O          candidates\n",
      "5   18          O               O                 New\n",
      "6   18          O               O         fundraising\n",
      "7   18          O               O                data\n",
      "8   18          O               O                show\n",
      "9   18          O               O                half\n",
      "10  18          O               O                   a\n",
      "11  18          O               O               dozen\n",
      "12  18          O               O                 may\n",
      "13  18          O               O                have\n",
      "14  18          O               O                  to\n",
      "15  18          O               O                drop\n",
      "16  18          O               O                 out\n",
      "17  18          O               O                soon\n",
      "18  18          O               O                   .\n",
      "0   19          O               O                  We\n",
      "1   19          O               O           leveraged\n",
      "2   19          O               O                 the\n",
      "3   19          O           B-ORG                 SAP\n",
      "4   19          O               O                data\n",
      "5   19          O               O            services\n",
      "6   19          O               O                 4.2\n",
      "7   19          O               O             toolset\n",
      "8   19          O               O                  in\n",
      "9   19          O               O               order\n",
      "10  19          O               O                  to\n",
      "11  19          O               O               bring\n",
      "12  19          O               O                 the\n",
      "13  19          O               O                data\n",
      "14  19          O           B-ORG                from\n",
      "15  19          O               O      SuccessFactors\n",
      "16  19          O           B-ORG                   &\n",
      "17  19          O               O                 ADP\n",
      "18  19          O               O                into\n",
      "19  19          O               O               their\n",
      "20  19          O               O                  on\n",
      "21  19          O               O                   -\n",
      "22  19          O               O             premise\n",
      "23  19          O               O                data\n",
      "24  19          O               O           warehouse\n",
      "25  19          O               O          conforming\n",
      "26  19          O               O                with\n",
      "27  19          O               O            business\n",
      "28  19          O               O                   &\n",
      "29  19          O               O                data\n",
      "30  19          O               O          governance\n",
      "31  19          O               O           standards\n",
      "32  19          O               O                   .\n",
      "0   20          O               O               There\n",
      "1   20          O               O                  's\n",
      "2   20          O               O                   a\n",
      "3   20          O               O               small\n",
      "4   20          O               O             company\n",
      "5   20          O               O                that\n",
      "6   20          O               O                  's\n",
      "7   20          O               O            powering\n",
      "8   20          O               O               their\n",
      "9   20          O               O               brand\n",
      "10  20          O               O                   -\n",
      "11  20          O               O                 new\n",
      "12  20          O               O             gadgets\n",
      "13  20          O               O                 and\n",
      "14  20          O               O                 the\n",
      "15  20          O               O              coming\n",
      "16  20          O               O          revolution\n",
      "17  20          O               O                  in\n",
      "18  20          O               O          technology\n",
      "19  20          O               O                   .\n",
      "0   21      B-LOC           B-LOC                 U.S\n",
      "1   21      I-LOC               O                   .\n",
      "2   21          O               O            District\n",
      "3   21          O               O               Judge\n",
      "4   21      B-PER           B-PER             William\n",
      "5   21      I-PER           I-PER              Pauley\n",
      "6   21          O               O               sided\n",
      "7   21          O               O                with\n",
      "8   21          O               O                 the\n",
      "9   21          O               O             interns\n",
      "10  21          O               O                  in\n",
      "11  21          O               O                June\n",
      "12  21          O               O                2013\n",
      "13  21          O               O                   ,\n",
      "14  21          O               O          concluding\n",
      "15  21          O               O                  in\n",
      "16  21          O               O                   a\n",
      "17  21          O               O             summary\n",
      "18  21          O               O            judgment\n",
      "19  21          O           B-ORG                that\n",
      "20  21          O               O                   “\n",
      "21  21      B-ORG               O         Searchlight\n",
      "22  21          O               O            received\n",
      "23  21          O               O                 the\n",
      "24  21          O               O            benefits\n",
      "25  21          O               O                  of\n",
      "26  21          O               O                   [\n",
      "27  21          O               O                 the\n",
      "28  21          O               O             interns\n",
      "29  21          O               O                   '\n",
      "30  21          O               O                   ]\n",
      "31  21          O               O              unpaid\n",
      "32  21          O               O                work\n",
      "33  21          O               O                   ,\n",
      "34  21          O               O               which\n",
      "35  21          O               O           otherwise\n",
      "36  21          O               O               would\n",
      "37  21          O               O                have\n",
      "38  21          O               O            required\n",
      "39  21          O               O                paid\n",
      "40  21          O               O           employees\n",
      "41  21          O               O                   .\n",
      "42  21          O               O                   ”\n",
      "0   22          O               O                   A\n",
      "1   22          O               O                 Sir\n",
      "2   22          O               O                   ,\n",
      "3   22          O               O              please\n",
      "4   22          O               O                note\n",
      "5   22          O               O                  if\n",
      "6   22          O               O                 you\n",
      "7   22          O               O                 are\n",
      "8   22          O               O                less\n",
      "9   22          O               O                than\n",
      "10  22          O               O                  80\n",
      "11  22          O               O               years\n",
      "12  22          O               O                 but\n",
      "13  22          O               O                more\n",
      "14  22          O               O                than\n",
      "15  22          O               O                  60\n",
      "16  22          O               O               years\n",
      "17  22          O               O                  of\n",
      "18  22          O               O                 age\n",
      "19  22          O               O                   ,\n",
      "20  22          O               O                your\n",
      "21  22          O               O               total\n",
      "22  22          O               O              income\n",
      "23  22          O               O                upto\n",
      "24  22          O               O                  Rs\n",
      "25  22          O               O            3,00,000\n",
      "26  22          O               O                  is\n",
      "27  22          O               O              exempt\n",
      "28  22          O               O                from\n",
      "29  22          O               O                 tax\n",
      "30  22          O               O                   ,\n",
      "31  22          O               O                 you\n",
      "32  22          O               O                 are\n",
      "33  22          O               O                 ...\n",
      "0   23          O               O                 The\n",
      "1   23          O               O            founders\n",
      "2   23          O               O                  of\n",
      "3   23          O           B-LOC          Australian\n",
      "4   23          O               O            software\n",
      "5   23          O               O               giant\n",
      "6   23      B-ORG           B-ORG           Atlassian\n",
      "7   23          O               O                 had\n",
      "8   23          O               O            fiercely\n",
      "9   23          O               O             lobbied\n",
      "10  23          O               O                 the\n",
      "11  23          O               O               state\n",
      "12  23          O               O          government\n",
      "13  23          O               O                  to\n",
      "14  23          O               O          revitalise\n",
      "15  23          O               O                 the\n",
      "16  23          O               O            existing\n",
      "17  23      B-LOC           B-LOC          Australian\n",
      "18  23      I-LOC           I-LOC          Technology\n",
      "19  23      I-LOC               O                Park\n",
      "20  23          O               O                  at\n",
      "21  23          O           B-LOC              nearby\n",
      "22  23      B-LOC               O             Redfern\n",
      "23  23          O               O                   .\n",
      "0   24          O               O                 She\n",
      "1   24          O               O                  's\n",
      "2   24          O               O                 not\n",
      "3   24          O               O                sure\n",
      "4   24          O               O                   ;\n",
      "5   24          O               O                   \"\n",
      "6   24          O               O                 she\n",
      "7   24          O               O                  's\n",
      "8   24          O               O              almost\n",
      "9   24          O               O                  in\n",
      "10  24          O               O                love\n",
      "11  24          O               O                with\n",
      "12  24          O               O                 him\n",
      "13  24          O               O                   ,\n",
      "14  24          O               O                   \"\n",
      "15  24          O               O                 but\n",
      "16  24          O               O                 not\n",
      "17  24          O               O               quite\n",
      "18  24          O               O                   .\n",
      "0   25          O               O             Trading\n",
      "1   25          O               O                  on\n",
      "2   25          O               O                 the\n",
      "3   25          O               O               stock\n",
      "4   25          O               O            exchange\n",
      "5   25          O               O               floor\n",
      "6   25          O               O                 was\n",
      "7   25          O               O              halted\n",
      "8   25          O               O             earlier\n",
      "9   25          O               O               today\n",
      "10  25          O               O                 due\n",
      "11  25          O               O                  to\n",
      "12  25          O               O                   a\n",
      "13  25          O               O           technical\n",
      "14  25          O               O               issue\n",
      "15  25          O               O                   .\n",
      "0   26          O               O                 The\n",
      "1   26          O               O            decision\n",
      "2   26          O               O               could\n",
      "3   26          O               O                have\n",
      "4   26          O               O                   a\n",
      "5   26          O               O            chilling\n",
      "6   26          O               O              effect\n",
      "7   26          O               O                  on\n",
      "8   26          O               O              unpaid\n",
      "9   26          O               O          internship\n",
      "10  26          O               O            lawsuits\n",
      "11  26          O               O                   ,\n",
      "12  26          O               O               legal\n",
      "13  26          O               O             experts\n",
      "14  26          O               O                 say\n",
      "15  26          O               O                   .\n",
      "0   27          O               O                 The\n",
      "1   27          O               O                next\n",
      "2   27          O               O             billion\n",
      "3   27          O               O                   -\n",
      "4   27          O               O              dollar\n",
      "5   27          O           B-ORG             iSecret\n",
      "0   28          O               O               While\n",
      "1   28          O               O            payrolls\n",
      "2   28          O               O                grew\n",
      "3   28          O               O             overall\n",
      "4   28          O               O                   ,\n",
      "5   28          O               O                many\n",
      "6   28          O               O              people\n",
      "7   28          O               O                gave\n",
      "8   28          O               O                  up\n",
      "9   28          O               O             looking\n",
      "10  28          O               O                 for\n",
      "11  28          O               O                work\n",
      "12  28          O               O                 and\n",
      "13  28          O               O                wage\n",
      "14  28          O               O              growth\n",
      "15  28          O               O             stalled\n",
      "16  28          O               O                   .\n",
      "0   29          O               O                   A\n",
      "1   29          O               O              strong\n",
      "2   29          O               O              dollar\n",
      "3   29          O               O                 has\n",
      "4   29          O               O                made\n",
      "5   29      B-LOC           B-LOC                 U.S\n",
      "6   29      I-LOC               O                   .\n",
      "7   29          O               O            products\n",
      "8   29          O               O                less\n",
      "9   29          O               O         competitive\n",
      "10  29          O               O                  in\n",
      "11  29          O               O             foreign\n",
      "12  29          O               O             markets\n",
      "13  29          O               O                   ,\n",
      "14  29          O               O             hurting\n",
      "15  29          O          B-MISC            American\n",
      "16  29          O               O       manufacturers\n",
      "17  29          O               O                   .\n",
      "0   30          O               O                 The\n",
      "1   30          O               O              author\n",
      "2   30          O               O                  is\n",
      "3   30          O               O                   a\n",
      "4   30      B-ORG           B-ORG              Forbes\n",
      "5   30          O               O         contributor\n",
      "6   30          O               O                   .\n",
      "0   31      B-ORG          B-MISC               Brent\n",
      "1   31      I-ORG          I-MISC               Crude\n",
      "2   31          O               O                 was\n",
      "3   31          O               O             trading\n",
      "4   31          O               O                  at\n",
      "5   31          O               O                more\n",
      "6   31          O               O                than\n",
      "7   31          O               O                   $\n",
      "8   31          O               O                  53\n",
      "9   31          O               O                   -\n",
      "10  31          O               O                per-\n",
      "11  31          O               O              barrel\n",
      "12  31          O               O                   -\n",
      "13  31          O               O                   a\n",
      "14  31          O               O         consequence\n",
      "15  31          O               O                  of\n",
      "16  31          O               O            concerns\n",
      "17  31          O               O               about\n",
      "18  31      B-LOC           B-LOC              Russia\n",
      "19  31          O               O                  's\n",
      "20  31          O               O            military\n",
      "21  31          O               O              action\n",
      "22  31          O           B-LOC                  in\n",
      "23  31      B-LOC               O               Syria\n",
      "24  31          O               O             leading\n",
      "25  31          O               O                  to\n",
      "26  31          O               O                   a\n",
      "27  31          O               O            possible\n",
      "28  31          O               O               wider\n",
      "29  31          O               O            conflict\n",
      "30  31          O               O                   .\n",
      "0   32          O               O            European\n",
      "1   32          O               O              stocks\n",
      "2   32          O               O              dipped\n",
      "3   32          O               O                 and\n",
      "4   32          O               O                were\n",
      "5   32          O               O                 set\n",
      "6   32          O               O                 for\n",
      "7   32          O               O                 the\n",
      "8   32          O               O             biggest\n",
      "9   32          O               O              weekly\n",
      "10  32          O               O                drop\n",
      "11  32          O               O                  in\n",
      "12  32          O               O                 two\n",
      "13  32          O               O              months\n",
      "14  32          O               O                   ,\n",
      "15  32          O               O               while\n",
      "16  32          O               O                 the\n",
      "17  32          O               O                euro\n",
      "18  32          O               O               edged\n",
      "19  32          O               O              higher\n",
      "20  32          O               O                   .\n",
      "0   33      B-ORG           B-ORG             General\n",
      "1   33      I-ORG           I-ORG              Motors\n",
      "2   33      I-ORG               O                   ’\n",
      "3   33          O               O                   (\n",
      "4   33      B-ORG           B-ORG                  GM\n",
      "5   33          O               O                   )\n",
      "6   33          O           B-LOC               North\n",
      "7   33          O           I-LOC            American\n",
      "8   33          O               O          operations\n",
      "9   33          O               O                also\n",
      "10  33          O               O              posted\n",
      "11  33          O               O                   a\n",
      "12  33          O               O              record\n",
      "13  33          O               O            adjusted\n",
      "14  33          O               O                EBIT\n",
      "15  33          O               O                   (\n",
      "16  33          O               O            earnings\n",
      "17  33          O               O              before\n",
      "18  33          O               O            interest\n",
      "19  33          O               O                 and\n",
      "20  33          O               O               taxes\n",
      "21  33          O               O                   )\n",
      "22  33          O               O                  of\n",
      "23  33          O               O                   $\n",
      "24  33          O               O                 2.8\n",
      "25  33          O               O             billion\n",
      "26  33          O               O                  in\n",
      "27  33          O               O                2Q15\n",
      "28  33          O               O                  at\n",
      "29  33          O               O                   a\n",
      "30  33          O               O              margin\n",
      "31  33          O               O                  of\n",
      "32  33          O               O                10.5\n",
      "33  33          O               O                   %\n",
      "34  33          O               O                   .\n",
      "0   34          O               O                 All\n",
      "1   34          O               O              mutual\n",
      "2   34          O               O                fund\n",
      "3   34          O               O           investing\n",
      "4   34          O               O            involves\n",
      "5   34          O               O                risk\n",
      "6   34          O               O                   ,\n",
      "7   34          O               O           including\n",
      "8   34          O               O                loss\n",
      "9   34          O               O                  of\n",
      "10  34          O               O           principal\n",
      "11  34          O               O                   .\n",
      "0   35          O               O                  By\n",
      "1   35      B-PER           B-PER                Alan\n",
      "2   35      I-PER           I-PER             Oscroft\n",
      "3   35          O               O                   |\n",
      "4   35          O           B-ORG          Fool.co.uk\n",
      "5   35          O               O                   –\n",
      "6   35          O               O                  19\n",
      "7   35          O               O             minutes\n",
      "8   35          O               O                 ago\n",
      "9   35          O               O          1,850.4999\n",
      "10  35          O               O            +18.9999\n",
      "0   36          O               O             Compare\n",
      "1   36          O               O             Brokers\n",
      "2   36      B-PER           B-PER                John\n",
      "3   36      I-PER               O                   -\n",
      "4   36      I-PER           B-PER                Erik\n",
      "5   36      I-PER           I-PER            Koslosky\n",
      "6   36          O               O               Staff\n",
      "7   36          O               O              Writer\n",
      "0   37          O               O                   \"\n",
      "1   37          O               O                  We\n",
      "2   37          O               O                 are\n",
      "3   37          O               O               still\n",
      "4   37          O               O             working\n",
      "5   37          O               O                  on\n",
      "6   37          O               O                both\n",
      "7   37          O               O             options\n",
      "8   37          O               O                   ,\n",
      "9   37          O               O                  an\n",
      "10  37          O               O                 IPO\n",
      "11  37          O               O                   (\n",
      "12  37          O               O             initial\n",
      "13  37          O               O              public\n",
      "14  37          O               O            offering\n",
      "15  37          O               O                   )\n",
      "16  37          O               O                 and\n",
      "17  37          O               O                   a\n",
      "18  37          O               O           potential\n",
      "19  37          O               O                sale\n",
      "20  37          O               O                 for\n",
      "21  37          O               O                 the\n",
      "22  37          O           B-ORG            disposal\n",
      "23  37          O               O                  of\n",
      "24  37      B-ORG           B-LOC               Union\n",
      "25  37          O               O                 and\n",
      "26  37      B-LOC               O          Rustenburg\n",
      "27  37          O               O                   .\n",
      "0   38          O               O                 Try\n",
      "1   38          O               O                 any\n",
      "2   38          O               O                  of\n",
      "3   38          O               O                 our\n",
      "4   38          O           B-ORG             Foolish\n",
      "5   38          O               O          newsletter\n",
      "6   38          O               O            services\n",
      "7   38          O               O                free\n",
      "8   38          O               O                 for\n",
      "9   38          O               O                  30\n",
      "10  38          O               O                days\n",
      "11  38          O               O                   .\n",
      "0   39          O               O                This\n",
      "1   39          O               O                  is\n",
      "2   39          O               O                done\n",
      "3   39          O               O               using\n",
      "4   39          O               O              simple\n",
      "5   39          O               O                text\n",
      "6   39          O               O               files\n",
      "7   39          O               O              called\n",
      "8   39          O               O             cookies\n",
      "9   39          O               O               which\n",
      "10  39          O               O                 sit\n",
      "11  39          O               O                  on\n",
      "12  39          O               O                your\n",
      "13  39          O               O            computer\n",
      "14  39          O               O                   .\n",
      "0   40          O               O                 But\n",
      "1   40          O               O                  at\n",
      "2   40          O               O                 the\n",
      "3   40          O               O                 end\n",
      "4   40          O               O                  of\n",
      "5   40          O               O             January\n",
      "6   40          O               O                  we\n",
      "7   40          O               O            received\n",
      "8   40          O               O                   a\n",
      "9   40          O               O               shock\n",
      "10  40          O               O                 set\n",
      "11  40          O               O                  of\n",
      "12  40          O               O                 GDP\n",
      "13  40          O               O             figures\n",
      "14  40          O               O             showing\n",
      "15  40          O               O                   a\n",
      "16  40          O               O             decline\n",
      "17  40          O               O                  of\n",
      "18  40          O               O                 0.5\n",
      "19  40          O               O                  pc\n",
      "20  40          O               O                  in\n",
      "21  40          O               O                 the\n",
      "22  40          O               O               final\n",
      "23  40          O               O             quarter\n",
      "24  40          O               O                  of\n",
      "25  40          O               O                2010\n",
      "26  40          O               O                   .\n",
      "0   41          O               O                GOLD\n",
      "1   41          O               O                  </\n",
      "2   41          O               O                span\n",
      "3   41          O               O                   >\n",
      "4   41          O               O               </div\n",
      "5   41          O               O                   >\n",
      "6   41          O               O                   <\n",
      "7   41          O               O                 div\n",
      "8   41          O               O             class=\"\n",
      "9   41          O               O  searchListCompName\n",
      "10  41          O               O                   \"\n",
      "11  41          O               O                   >\n",
      "12  41          O               O                 Ran\n",
      "13  41          O               O                   <\n",
      "14  41          O               O                span\n",
      "15  41          O               O              class=\n",
      "16  41          O               O                   \"\n",
      "17  41          O               O          searchTerm\n",
      "18  41          O               O                   \"\n",
      "19  41          O               O                   >\n",
      "20  41          O               O              gold</\n",
      "21  41          O               O               span>\n",
      "0   42          O               O                 Not\n",
      "1   42          O               O                only\n",
      "2   42          O               O                 can\n",
      "3   42          O               O                  he\n",
      "4   42          O               O                 not\n",
      "5   42          O               O                make\n",
      "6   42          O               O                   a\n",
      "7   42          O               O             Captain\n",
      "8   42          O               O                  's\n",
      "9   42          O               O                Pick\n",
      "10  42          O               O                 for\n",
      "11  42          O               O             Speaker\n",
      "12  42          O               O                this\n",
      "13  42          O               O                time\n",
      "14  42          O               O               round\n",
      "15  42          O               O                   ,\n",
      "16  42          O               O                  he\n",
      "17  42          O               O                 has\n",
      "18  42          O               O                  to\n",
      "19  42          O               O                make\n",
      "20  42          O               O                   a\n",
      "21  42          O               O              virtue\n",
      "22  42          O               O                  of\n",
      "23  42          O               O               being\n",
      "24  42          O               O                  at\n",
      "25  42          O               O                 the\n",
      "26  42          O               O               mercy\n",
      "27  42          O               O                  of\n",
      "28  42          O               O                 his\n",
      "29  42          O               O               party\n",
      "30  42          O               O                room\n",
      "31  42          O               O                  in\n",
      "32  42          O               O                 the\n",
      "33  42          O               O            decision\n",
      "34  42          O               O               about\n",
      "35  42          O               O                 who\n",
      "36  42          O               O                gets\n",
      "37  42          O               O                this\n",
      "38  42          O               O                plum\n",
      "39  42          O               O                 job\n",
      "40  42          O               O                   .\n",
      "0   43      B-ORG           B-ORG          Copperbelt\n",
      "1   43      I-ORG           I-ORG              Energy\n",
      "2   43          O               O                buys\n",
      "3   43          O               O         electricity\n",
      "4   43          O               O                from\n",
      "5   43          O               O               state\n",
      "6   43          O               O               power\n",
      "7   43          O               O             company\n",
      "8   43      B-ORG           B-ORG               Zesco\n",
      "9   43      I-ORG           I-ORG                 Ltd\n",
      "10  43          O               O                 and\n",
      "11  43          O               O            supplies\n",
      "12  43          O               O                  it\n",
      "13  43          O               O                  to\n",
      "14  43          O               O           companies\n",
      "15  43          O               O           including\n",
      "16  43      B-ORG           B-ORG             Vedanta\n",
      "17  43      I-ORG           I-ORG           Resources\n",
      "18  43          O               O                   ,\n",
      "19  43      B-ORG           B-ORG            Glencore\n",
      "20  43          O               O                 and\n",
      "21  43      B-ORG           B-ORG                Vale\n",
      "22  43          O               O                   .\n",
      "0   44          O               O                   \"\n",
      "1   44          O               O                  It\n",
      "2   44          O               O                  's\n",
      "3   44          O               O              almost\n",
      "4   44          O               O                  as\n",
      "5   44          O               O                  if\n",
      "6   44          O               O                 the\n",
      "7   44          O           B-ORG               CFMEU\n",
      "8   44          O               O                   …\n",
      "9   44          O               O               wants\n",
      "10  44          O               O                  to\n",
      "11  44          O               O                hold\n",
      "12  44          O               O                 the\n",
      "13  44          O               O                rest\n",
      "14  44          O               O                  of\n",
      "15  44          O               O                 the\n",
      "16  44          O               O              nation\n",
      "17  44          O               O                   …\n",
      "18  44          O               O                  to\n",
      "19  44          O               O              ransom\n",
      "20  44          O               O                 for\n",
      "21  44          O               O               their\n",
      "22  44          O               O               short\n",
      "23  44          O               O                   -\n",
      "24  44          O               O                term\n",
      "25  44          O               O           political\n",
      "26  44          O               O                gain\n",
      "27  44          O               O                   ,\n",
      "28  44          O               O                   \"\n",
      "29  44          O               O                  he\n",
      "30  44          O               O                said\n",
      "31  44          O               O                   .\n",
      "0   45      B-PER           B-PER           Zurbruegg\n",
      "1   45          O               O                laid\n",
      "2   45          O               O                some\n",
      "3   45          O               O      responsibility\n",
      "4   45          O               O                 for\n",
      "5   45          O               O                 the\n",
      "6   45          O               O               franc\n",
      "7   45          O               O                  's\n",
      "8   45          O               O               surge\n",
      "9   45          O               O                  on\n",
      "10  45          O           B-LOC               Swiss\n",
      "11  45          O               O           investors\n",
      "12  45          O               O                 who\n",
      "13  45          O               O                have\n",
      "14  45          O               O             sharply\n",
      "15  45          O               O              scaled\n",
      "16  45          O               O                back\n",
      "17  45          O               O             foreign\n",
      "18  45          O               O          investment\n",
      "19  45          O               O                   .\n",
      "0   46          O               O                   8\n",
      "1   46          O               O                   \n",
      "2   46          O               O                4:25\n",
      "3   46          O               O                 Now\n",
      "4   46          O               O            watching\n",
      "5   46          O               O                  Up\n",
      "6   46          O               O                next\n",
      "7   46          O               O                Want\n",
      "8   46          O               O                your\n",
      "9   46          O               O             startup\n",
      "10  46          O               O                  to\n",
      "11  46          O               O             succeed\n",
      "12  46          O               O                   ?\n",
      "0   47      B-ORG           B-ORG              Labour\n",
      "1   47          O               O                  's\n",
      "2   47      B-PER           B-PER               David\n",
      "3   47      I-PER           I-PER             Shearer\n",
      "4   47          O               O                says\n",
      "5   47          O               O                 the\n",
      "6   47          O               O                four\n",
      "7   47          O           B-LOC          Australian\n",
      "8   47          O               O                   -\n",
      "9   47          O               O               owned\n",
      "10  47          O               O               banks\n",
      "11  47          O           B-ORG                   -\n",
      "12  47      B-ORG               O                 ANZ\n",
      "13  47          O           B-ORG                   ,\n",
      "14  47      B-ORG               O             Westpac\n",
      "15  47          O           B-ORG                   ,\n",
      "16  47      B-ORG               O                 BNZ\n",
      "17  47          O           B-ORG                 and\n",
      "18  47      B-ORG               O                 ASB\n",
      "19  47          O               O                   -\n",
      "20  47          O               O                made\n",
      "21  47          O               O                   a\n",
      "22  47          O               O               total\n",
      "23  47          O               O                   $\n",
      "24  47          O               O               NZ4.4\n",
      "25  47          O               O             billion\n",
      "26  47          O               O                   (\n",
      "27  47          O               O                   $\n",
      "28  47          O               O               A3.89\n",
      "29  47          O               O             billion\n",
      "30  47          O               O                   )\n",
      "31  47          O               O              profit\n",
      "32  47          O               O                last\n",
      "33  47          O               O                year\n",
      "34  47          O               O                   ,\n",
      "35  47          O               O              double\n",
      "36  47          O               O                what\n",
      "37  47          O               O                they\n",
      "38  47          O               O            achieved\n",
      "39  47          O               O                  10\n",
      "40  47          O               O               years\n",
      "41  47          O               O                 ago\n",
      "42  47          O               O                   .\n",
      "0   48          O               O                 The\n",
      "1   48          O               O          percentage\n",
      "2   48          O               O                  of\n",
      "3   48          O               O           consumers\n",
      "4   48          O               O          describing\n",
      "5   48          O               O             current\n",
      "6   48          O               O            business\n",
      "7   48          O               O          conditions\n",
      "8   48          O               O                  as\n",
      "9   48          O               O                   “\n",
      "10  48          O               O                good\n",
      "11  48          O               O                   ”\n",
      "12  48          O               O             slipped\n",
      "13  48          O               O                  to\n",
      "14  48          O               O                24.2\n",
      "15  48          O               O             percent\n",
      "16  48          O               O                from\n",
      "17  48          O               O                26.1\n",
      "18  48          O               O             percent\n",
      "19  48          O               O                  in\n",
      "20  48          O               O                June\n",
      "21  48          O               O                   .\n",
      "0   49          O               O                Back\n",
      "1   49          O               O                  in\n",
      "2   49          O               O              August\n",
      "3   49          O               O                   ,\n",
      "4   49          O               O              former\n",
      "5   49          O               O               Prime\n",
      "6   49          O               O            Minister\n",
      "7   49      B-PER           B-PER                Tony\n",
      "8   49      I-PER           I-PER              Abbott\n",
      "9   49          O               O               tried\n",
      "10  49          O               O                  to\n",
      "11  49          O               O             assuage\n",
      "12  49          O               O            tensions\n",
      "13  49          O               O               after\n",
      "14  49          O               O                   a\n",
      "15  49          O               O            marathon\n",
      "16  49          O               O               party\n",
      "17  49          O               O                room\n",
      "18  49          O               O             meeting\n",
      "19  49          O               O                  by\n",
      "20  49          O               O              saying\n",
      "21  49          O               O                 the\n",
      "22  49          O               O               party\n",
      "23  49          O               O                will\n",
      "24  49          O               O            maintain\n",
      "25  49          O               O                  it\n",
      "26  49          O               O                  's\n",
      "27  49          O               O            position\n",
      "28  49          O               O                  on\n",
      "29  49          O               O                 gay\n",
      "30  49          O               O            marriage\n",
      "31  49          O               O                  up\n",
      "32  49          O               O               until\n",
      "33  49          O               O                 the\n",
      "34  49          O               O                2016\n",
      "35  49          O               O            election\n",
      "36  49          O               O                   ,\n",
      "37  49          O               O                 and\n",
      "38  49          O               O           promising\n",
      "39  49          O               O                  to\n",
      "40  49          O               O               allow\n",
      "41  49          O               O                   a\n",
      "42  49          O               O          plebiscite\n",
      "43  49          O               O                  in\n",
      "44  49          O               O                 the\n",
      "45  49          O               O                next\n",
      "46  49          O               O                term\n",
      "47  49          O               O                  of\n",
      "48  49          O               O          Parliament\n",
      "49  49          O               O                   .\n",
      "0   50          O               O              Ninety\n",
      "1   50          O               O                   -\n",
      "2   50          O               O                 six\n",
      "3   50      B-ORG           B-ORG               House\n",
      "4   50          O           I-ORG           Democrats\n",
      "5   50          O               O                have\n",
      "6   50          O               O              signed\n",
      "7   50          O               O                onto\n",
      "8   50          O               O                   a\n",
      "9   50          O               O              letter\n",
      "10  50          O               O             calling\n",
      "11  50          O               O                 for\n",
      "12  50          O           B-PER           President\n",
      "13  50      B-PER           I-PER               Obama\n",
      "14  50          O               O                  to\n",
      "15  50          O               O                make\n",
      "16  50          O               O         significant\n",
      "17  50          O               O             changes\n",
      "18  50          O               O                  to\n",
      "19  50          O               O                 his\n",
      "20  50          O               O          regulatory\n",
      "21  50          O               O            proposal\n",
      "22  50          O               O                 for\n",
      "23  50          O               O           financial\n",
      "24  50          O               O            advisers\n",
      "25  50          O               O                   ,\n",
      "26  50          O               O             writing\n",
      "27  50          O               O                that\n",
      "28  50          O               O                they\n",
      "29  50          O               O                 're\n",
      "30  50          O               O           concerned\n",
      "31  50          O               O                 the\n",
      "32  50          O               O             current\n",
      "33  50          O               O               pitch\n",
      "34  50          O               O               would\n",
      "35  50          O               O               limit\n",
      "36  50          O               O                 low\n",
      "37  50          O               O                   -\n",
      "38  50          O               O                 and\n",
      "39  50          O               O              middle\n",
      "40  50          O               O                   -\n",
      "41  50          O               O              income\n",
      "42  50          O               O           Americans\n",
      "43  50          O               O                   '\n",
      "44  50          O               O              access\n",
      "45  50          O               O                  to\n",
      "46  50          O               O           financial\n",
      "47  50          O               O              advice\n",
      "48  50          O               O                   .\n",
      "0   51          O               O                 The\n",
      "1   51          O               O               giant\n",
      "2   51          O               O           automaker\n",
      "3   51          O               O                says\n",
      "4   51          O               O             battery\n",
      "5   51          O               O       breakthroughs\n",
      "6   51          O               O                 for\n",
      "7   51          O               O            electric\n",
      "8   51          O               O                cars\n",
      "9   51          O               O                 are\n",
      "10  51          O               O           happening\n",
      "11  51          O               O              faster\n",
      "12  51          O               O                than\n",
      "13  51          O               O            expected\n",
      "14  51          O               O                   .\n",
      "0   52          O               O               There\n",
      "1   52          O               O                  is\n",
      "2   52          O               O               still\n",
      "3   52          O               O               great\n",
      "4   52          O               O         uncertainty\n",
      "5   52          O               O                  on\n",
      "6   52          O               O                both\n",
      "7   52          O               O               sides\n",
      "8   52          O               O                  of\n",
      "9   52          O               O                 the\n",
      "10  52      B-LOC               O            Atlantic\n",
      "11  52          O           B-LOC               about\n",
      "12  52          O               O                 the\n",
      "13  52          O               O            approach\n",
      "14  52          O               O                  to\n",
      "15  52          O               O             raising\n",
      "16  52          O               O            interest\n",
      "17  52          O               O               rates\n",
      "18  52          O               O                 and\n",
      "19  52          O               O                 the\n",
      "20  52          O               O              timing\n",
      "21  52          O               O                  of\n",
      "22  52          O               O                 the\n",
      "23  52          O               O               first\n",
      "24  52          O               O                move\n",
      "25  52          O               O                   .\n",
      "0   53          O               O                They\n",
      "1   53          O               O                 are\n",
      "2   53          O               O          amplifying\n",
      "3   53          O               O           simmering\n",
      "4   53          O               O            concerns\n",
      "5   53          O               O               among\n",
      "6   53          O               O             swathes\n",
      "7   53          O               O                  of\n",
      "8   53      B-LOC           B-LOC             Canning\n",
      "9   53          O               O                  's\n",
      "10  53          O               O             tradies\n",
      "11  53          O               O                 and\n",
      "12  53          O               O               about\n",
      "13  53          O               O              10,000\n",
      "14  53          O               O                 fly\n",
      "15  53          O               O                   -\n",
      "16  53          O               O                  in\n",
      "17  53          O               O                   ,\n",
      "18  53          O               O                 fly\n",
      "19  53          O               O                   -\n",
      "20  53          O               O                 out\n",
      "21  53          O               O             workers\n",
      "22  53          O               O                   .\n",
      "0   54          O               O                   (\n",
      "1   54          O               O                Adds\n",
      "2   54          O               O             details\n",
      "3   54          O               O                  on\n",
      "4   54          O               O             foreign\n",
      "5   54          O               O         investments\n",
      "6   54          O               O                   ,\n",
      "7   54          O               O          background\n",
      "8   54          O           B-LOC                   )\n",
      "9   54      B-LOC               O            BRASILIA\n",
      "10  54          O               O                 Oct\n",
      "11  54          O               O                  23\n",
      "12  54          O           B-ORG                   (\n",
      "13  54          O               O             Reuters\n",
      "14  54          O               O                   )\n",
      "15  54          O           B-LOC                   -\n",
      "16  54      B-LOC               O              Brazil\n",
      "17  54          O               O                  's\n",
      "18  54          O               O             current\n",
      "19  54          O               O             account\n",
      "20  54          O               O             deficit\n",
      "21  54          O               O                grew\n",
      "22  54          O               O               wider\n",
      "23  54          O               O                than\n",
      "24  54          O               O            expected\n",
      "25  54          O               O                  in\n",
      "26  54          O               O           September\n",
      "27  54          O               O                 but\n",
      "28  54          O               O                 was\n",
      "29  54          O               O              easily\n",
      "30  54          O               O             covered\n",
      "31  54          O               O                  by\n",
      "32  54          O               O             foreign\n",
      "33  54          O               O         investments\n",
      "34  54          O               O                   ,\n",
      "35  54          O               O             central\n",
      "36  54          O               O                bank\n",
      "37  54          O               O                data\n",
      "38  54          O               O              showed\n",
      "39  54          O               O                  on\n",
      "40  54          O               O              Friday\n",
      "41  54          O               O                   .\n",
      "0   55          O               O                  PM\n",
      "1   55          O               O             naysays\n",
      "2   55          O               O                  IR\n",
      "3   55          O               O              reform\n",
      "0   56          O               O                Over\n",
      "1   56          O               O               8,400\n",
      "2   56          O               O                high\n",
      "3   56          O               O                   -\n",
      "4   56          O               O          resolution\n",
      "5   56          O               O         photographs\n",
      "6   56          O               O            captured\n",
      "7   56          O           B-ORG              during\n",
      "8   56      B-ORG               O                NASA\n",
      "9   56          O           B-ORG                  ’s\n",
      "10  56          O               O              Apollo\n",
      "11  56          O               O                moon\n",
      "12  56          O               O            landings\n",
      "13  56          O               O                have\n",
      "14  56          O               O                been\n",
      "15  56          O               O            released\n",
      "16  56          O               O                  on\n",
      "17  56      B-ORG               O              Flickr\n",
      "18  56          O               O                   ,\n",
      "19  56          O               O           featuring\n",
      "20  56          O               O               every\n",
      "21  56          O               O              single\n",
      "22  56          O               O               image\n",
      "23  56          O               O               taken\n",
      "24  56          O               O                  by\n",
      "25  56          O               O          astronauts\n",
      "26  56          O               O                   .\n",
      "0   57          O               O                 The\n",
      "1   57          O               O         beneficiary\n",
      "2   57          O               O               could\n",
      "3   57          O               O                also\n",
      "4   57          O               O                  be\n",
      "5   57          O               O                 the\n",
      "6   57          O               O              estate\n",
      "7   57          O               O                  of\n",
      "8   57          O               O                 the\n",
      "9   57          O               O           annuitant\n",
      "10  57          O               O                   ,\n",
      "11  57          O               O              either\n",
      "12  57          O               O                  by\n",
      "13  57          O               O            actually\n",
      "14  57          O               O           declaring\n",
      "15  57          O               O                   \"\n",
      "16  57          O               O              estate\n",
      "17  57          O               O                   \"\n",
      "18  57          O               O                  as\n",
      "19  57          O               O         beneficiary\n",
      "20  57          O               O                  on\n",
      "21  57          O               O                 the\n",
      "22  57          O               O                plan\n",
      "23  57          O               O                   ,\n",
      "24  57          O               O                  or\n",
      "25  57          O               O                  by\n",
      "26  57          O               O             default\n",
      "27  57          O               O                   ,\n",
      "28  57          O               O                  if\n",
      "29  57          O               O                  no\n",
      "30  57          O               O         beneficiary\n",
      "31  57          O               O                  is\n",
      "32  57          O               O               named\n",
      "33  57          O               O                   .\n",
      "0   58          O               O                   (\n",
      "1   58          O               O                i.e.\n",
      "2   58          O               O                  if\n",
      "3   58          O               O                  it\n",
      "4   58          O               O                  ’s\n",
      "5   58          O               O                   a\n",
      "6   58          O               O           financial\n",
      "7   58          O               O                data\n",
      "8   58          O               O           warehouse\n",
      "9   58          O               O                 how\n",
      "10  58          O               O           difficult\n",
      "11  58          O               O                  is\n",
      "12  58          O               O                  it\n",
      "13  58          O               O                  to\n",
      "14  58          O               O         incorporate\n",
      "15  58          O               O                data\n",
      "16  58          O               O                from\n",
      "17  58          O               O               sales\n",
      "18  58          O               O                  HR\n",
      "19  58          O               O                etc.\n",
      "20  58          O               O                   )\n"
     ]
    }
   ],
   "source": [
    "# Convert results to DataFrame format for easy viewing\n",
    "y_df = pd.DataFrame(columns=['ID', 'True Label', 'Predicted Label'])\n",
    "\n",
    "for i in test_results:\n",
    "    result_df = df_from_result(i)\n",
    "    y_df = pd.concat([y_df, result_df])\n",
    "\n",
    "# Display all results\n",
    "pd.set_option('display.max_rows', None)\n",
    "\n",
    "print(y_df)"
   ]
  },
  {
   "cell_type": "code",
   "execution_count": 322,
   "metadata": {},
   "outputs": [],
   "source": [
    "from datetime import datetime\n",
    "\n",
    "# Save results to CSV\n",
    "save_time = datetime.now().strftime(\"%Y%m%d%H%M\")\n",
    "filename = f\"{save_time}_gpt_finer_results.csv\"\n",
    "y_df.to_csv(filename, index=False)"
   ]
  },
  {
   "cell_type": "code",
   "execution_count": null,
   "metadata": {},
   "outputs": [],
   "source": []
  }
 ],
 "metadata": {
  "kernelspec": {
   "display_name": "final",
   "language": "python",
   "name": "python3"
  },
  "language_info": {
   "codemirror_mode": {
    "name": "ipython",
    "version": 3
   },
   "file_extension": ".py",
   "mimetype": "text/x-python",
   "name": "python",
   "nbconvert_exporter": "python",
   "pygments_lexer": "ipython3",
   "version": "3.12.4"
  }
 },
 "nbformat": 4,
 "nbformat_minor": 2
}
