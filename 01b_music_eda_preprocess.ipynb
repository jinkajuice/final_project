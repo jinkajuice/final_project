{
 "cells": [
  {
   "cell_type": "code",
   "execution_count": 2,
   "metadata": {},
   "outputs": [
    {
     "name": "stderr",
     "output_type": "stream",
     "text": [
      "/opt/homebrew/Caskroom/miniconda/base/envs/final/lib/python3.12/site-packages/tqdm/auto.py:21: TqdmWarning: IProgress not found. Please update jupyter and ipywidgets. See https://ipywidgets.readthedocs.io/en/stable/user_install.html\n",
      "  from .autonotebook import tqdm as notebook_tqdm\n"
     ]
    }
   ],
   "source": [
    "import pandas as pd\n",
    "import matplotlib.pyplot as plt\n",
    "import datasets\n",
    "from datasets import Dataset, DatasetDict\n",
    "\n",
    "from collections import Counter"
   ]
  },
  {
   "cell_type": "code",
   "execution_count": 3,
   "metadata": {},
   "outputs": [],
   "source": [
    "# Load data\n",
    "f = open(\"final_project/music-ner-eacl2023/data/dataset1/train.bio\", \"r\")\n",
    "train = f.read()\n",
    "\n",
    "f = open(\"final_project/music-ner-eacl2023/data/dataset1/test.bio\", \"r\")\n",
    "test = f.read()"
   ]
  },
  {
   "cell_type": "code",
   "execution_count": 5,
   "metadata": {},
   "outputs": [],
   "source": [
    "def df_from_text(text, counter_start=0):\n",
    "    # Split the text into lines\n",
    "    lines = text.strip().split('\\n')\n",
    "\n",
    "    # Initialize variables\n",
    "    data = []\n",
    "    unique_id = counter_start\n",
    "\n",
    "    # Iterate over the lines\n",
    "    for line in lines:\n",
    "        if line.strip() == \"\":\n",
    "            unique_id += 1  # Increment the unique ID when encountering an empty line\n",
    "        else:\n",
    "            word, labels = line.split()\n",
    "            data.append({'tokens': word, 'ner_tags': labels, 'id': unique_id})\n",
    "\n",
    "    return pd.DataFrame(data)"
   ]
  },
  {
   "cell_type": "code",
   "execution_count": 7,
   "metadata": {},
   "outputs": [
    {
     "data": {
      "text/html": [
       "<div>\n",
       "<style scoped>\n",
       "    .dataframe tbody tr th:only-of-type {\n",
       "        vertical-align: middle;\n",
       "    }\n",
       "\n",
       "    .dataframe tbody tr th {\n",
       "        vertical-align: top;\n",
       "    }\n",
       "\n",
       "    .dataframe thead th {\n",
       "        text-align: right;\n",
       "    }\n",
       "</style>\n",
       "<table border=\"1\" class=\"dataframe\">\n",
       "  <thead>\n",
       "    <tr style=\"text-align: right;\">\n",
       "      <th></th>\n",
       "      <th>tokens</th>\n",
       "      <th>ner_tags</th>\n",
       "      <th>id</th>\n",
       "    </tr>\n",
       "  </thead>\n",
       "  <tbody>\n",
       "    <tr>\n",
       "      <th>18278</th>\n",
       "      <td>similar</td>\n",
       "      <td>O</td>\n",
       "      <td>1950</td>\n",
       "    </tr>\n",
       "    <tr>\n",
       "      <th>18279</th>\n",
       "      <td>to</td>\n",
       "      <td>O</td>\n",
       "      <td>1950</td>\n",
       "    </tr>\n",
       "    <tr>\n",
       "      <th>18280</th>\n",
       "      <td>jake</td>\n",
       "      <td>B-Artist</td>\n",
       "      <td>1950</td>\n",
       "    </tr>\n",
       "    <tr>\n",
       "      <th>18281</th>\n",
       "      <td>chudnows</td>\n",
       "      <td>I-Artist</td>\n",
       "      <td>1950</td>\n",
       "    </tr>\n",
       "    <tr>\n",
       "      <th>18282</th>\n",
       "      <td>music</td>\n",
       "      <td>O</td>\n",
       "      <td>1950</td>\n",
       "    </tr>\n",
       "  </tbody>\n",
       "</table>\n",
       "</div>"
      ],
      "text/plain": [
       "         tokens  ner_tags    id\n",
       "18278   similar         O  1950\n",
       "18279        to         O  1950\n",
       "18280      jake  B-Artist  1950\n",
       "18281  chudnows  I-Artist  1950\n",
       "18282     music         O  1950"
      ]
     },
     "execution_count": 7,
     "metadata": {},
     "output_type": "execute_result"
    }
   ],
   "source": [
    "train_df = df_from_text(train)\n",
    "train_df.tail()"
   ]
  },
  {
   "cell_type": "code",
   "execution_count": 9,
   "metadata": {},
   "outputs": [],
   "source": [
    "# Concat all dfs\n",
    "test_df = df_from_text(test, counter_start=1951)\n",
    "music_df = pd.concat([train_df, test_df])"
   ]
  },
  {
   "cell_type": "code",
   "execution_count": 10,
   "metadata": {},
   "outputs": [
    {
     "name": "stdout",
     "output_type": "stream",
     "text": [
      "Shape of music_df: (23812, 3)\n",
      "music_df.head(10)\n"
     ]
    },
    {
     "data": {
      "text/html": [
       "<div>\n",
       "<style scoped>\n",
       "    .dataframe tbody tr th:only-of-type {\n",
       "        vertical-align: middle;\n",
       "    }\n",
       "\n",
       "    .dataframe tbody tr th {\n",
       "        vertical-align: top;\n",
       "    }\n",
       "\n",
       "    .dataframe thead th {\n",
       "        text-align: right;\n",
       "    }\n",
       "</style>\n",
       "<table border=\"1\" class=\"dataframe\">\n",
       "  <thead>\n",
       "    <tr style=\"text-align: right;\">\n",
       "      <th></th>\n",
       "      <th>tokens</th>\n",
       "      <th>ner_tags</th>\n",
       "      <th>id</th>\n",
       "    </tr>\n",
       "  </thead>\n",
       "  <tbody>\n",
       "    <tr>\n",
       "      <th>0</th>\n",
       "      <td>dark</td>\n",
       "      <td>O</td>\n",
       "      <td>0</td>\n",
       "    </tr>\n",
       "    <tr>\n",
       "      <th>1</th>\n",
       "      <td>and</td>\n",
       "      <td>O</td>\n",
       "      <td>0</td>\n",
       "    </tr>\n",
       "    <tr>\n",
       "      <th>2</th>\n",
       "      <td>suspenseful</td>\n",
       "      <td>O</td>\n",
       "      <td>0</td>\n",
       "    </tr>\n",
       "    <tr>\n",
       "      <th>3</th>\n",
       "      <td>music</td>\n",
       "      <td>O</td>\n",
       "      <td>0</td>\n",
       "    </tr>\n",
       "    <tr>\n",
       "      <th>4</th>\n",
       "      <td>looking</td>\n",
       "      <td>O</td>\n",
       "      <td>1</td>\n",
       "    </tr>\n",
       "    <tr>\n",
       "      <th>5</th>\n",
       "      <td>for</td>\n",
       "      <td>O</td>\n",
       "      <td>1</td>\n",
       "    </tr>\n",
       "    <tr>\n",
       "      <th>6</th>\n",
       "      <td>great</td>\n",
       "      <td>O</td>\n",
       "      <td>1</td>\n",
       "    </tr>\n",
       "    <tr>\n",
       "      <th>7</th>\n",
       "      <td>post</td>\n",
       "      <td>O</td>\n",
       "      <td>1</td>\n",
       "    </tr>\n",
       "    <tr>\n",
       "      <th>8</th>\n",
       "      <td>metal</td>\n",
       "      <td>O</td>\n",
       "      <td>1</td>\n",
       "    </tr>\n",
       "    <tr>\n",
       "      <th>9</th>\n",
       "      <td>bands</td>\n",
       "      <td>O</td>\n",
       "      <td>1</td>\n",
       "    </tr>\n",
       "  </tbody>\n",
       "</table>\n",
       "</div>"
      ],
      "text/plain": [
       "        tokens ner_tags  id\n",
       "0         dark        O   0\n",
       "1          and        O   0\n",
       "2  suspenseful        O   0\n",
       "3        music        O   0\n",
       "4      looking        O   1\n",
       "5          for        O   1\n",
       "6        great        O   1\n",
       "7         post        O   1\n",
       "8        metal        O   1\n",
       "9        bands        O   1"
      ]
     },
     "execution_count": 10,
     "metadata": {},
     "output_type": "execute_result"
    }
   ],
   "source": [
    "print(\"Shape of music_df:\", music_df.shape)\n",
    "print(\"music_df.head(10)\")\n",
    "music_df.head(10)"
   ]
  },
  {
   "cell_type": "code",
   "execution_count": 14,
   "metadata": {},
   "outputs": [
    {
     "data": {
      "text/plain": [
       "tokens      dark\n",
       "ner_tags       O\n",
       "id             0\n",
       "Name: 0, dtype: object"
      ]
     },
     "execution_count": 14,
     "metadata": {},
     "output_type": "execute_result"
    }
   ],
   "source": [
    "music_df.iloc[0]"
   ]
  },
  {
   "cell_type": "code",
   "execution_count": 12,
   "metadata": {},
   "outputs": [
    {
     "data": {
      "text/plain": [
       "tokens      object\n",
       "ner_tags    object\n",
       "id           int64\n",
       "dtype: object"
      ]
     },
     "execution_count": 12,
     "metadata": {},
     "output_type": "execute_result"
    }
   ],
   "source": [
    "music_df.dtypes"
   ]
  },
  {
   "cell_type": "code",
   "execution_count": 15,
   "metadata": {},
   "outputs": [
    {
     "data": {
      "text/plain": [
       "tokens      0\n",
       "ner_tags    0\n",
       "id          0\n",
       "dtype: int64"
      ]
     },
     "execution_count": 15,
     "metadata": {},
     "output_type": "execute_result"
    }
   ],
   "source": [
    "# Check for nan values\n",
    "music_df.isnull().sum()"
   ]
  },
  {
   "cell_type": "code",
   "execution_count": 56,
   "metadata": {},
   "outputs": [
    {
     "name": "stdout",
     "output_type": "stream",
     "text": [
      "music_df text labels: ['O', 'B-Artist', 'I-Artist', 'B-WoA', 'I-WoA']\n",
      "music_df numerical labels: [0, 1, 2, 3, 4]\n"
     ]
    }
   ],
   "source": [
    "# Print labels\n",
    "label2id = {\n",
    "    \"O\": 0,\n",
    "    \"B-Artist\": 1,\n",
    "    \"I-Artist\": 2,\n",
    "    \"B-WoA\": 3,\n",
    "    \"I-WoA\": 4\n",
    "}\n",
    "\n",
    "music_text_labels = list(label2id.keys())\n",
    "music_num_labels= list(label2id.values())\n",
    "\n",
    "print(\"music_df text labels:\", music_text_labels)\n",
    "print(\"music_df numerical labels:\", music_num_labels)\n"
   ]
  },
  {
   "cell_type": "code",
   "execution_count": 32,
   "metadata": {},
   "outputs": [
    {
     "name": "stdout",
     "output_type": "stream",
     "text": [
      "Label: O\n",
      "Num of Instances: 19,272 of 23,812\n",
      "Percentage: 0.8093 \n",
      "\n",
      "Label: B-Artist\n",
      "Num of Instances: 1,270 of 23,812\n",
      "Percentage: 0.0533 \n",
      "\n",
      "Label: I-Artist\n",
      "Num of Instances: 1,010 of 23,812\n",
      "Percentage: 0.0424 \n",
      "\n",
      "Label: B-WoA\n",
      "Num of Instances: 928 of 23,812\n",
      "Percentage: 0.0390 \n",
      "\n",
      "Label: I-WoA\n",
      "Num of Instances: 1,332 of 23,812\n",
      "Percentage: 0.0559 \n",
      "\n"
     ]
    }
   ],
   "source": [
    "# Count number of instances for each label\n",
    "num_of_instances = []\n",
    "\n",
    "for i in music_text_labels: \n",
    "    num_of_i = len(music_df[music_df[\"ner_tags\"] == i])\n",
    "    num_of_instances.append(num_of_i)\n",
    "\n",
    "# Calculate total instances\n",
    "total_instances = sum(num_of_instances)\n",
    "\n",
    "# Print out the number of instances for each label and add percentage to music_class_proportions\n",
    "music_class_proportions = []\n",
    "\n",
    "for i in range(0, len(num_of_instances)):\n",
    "    print(\"Label:\", music_text_labels[i])\n",
    "    print(\"Num of Instances:\", f\"{num_of_instances[i]:,}\",\"of\", f\"{total_instances:,}\")\n",
    "    instance_proportion = num_of_instances[i]/total_instances\n",
    "    print(\"Percentage:\", f\"{(instance_proportion):.4f}\",\"\\n\")\n",
    "    music_class_proportions.append(instance_proportion*100)\n"
   ]
  },
  {
   "cell_type": "code",
   "execution_count": 35,
   "metadata": {},
   "outputs": [
    {
     "data": {
      "image/png": "[encoded data removed]",
      "text/plain": [
       "<Figure size 640x480 with 1 Axes>"
      ]
     },
     "metadata": {},
     "output_type": "display_data"
    }
   ],
   "source": [
    "# Plot proportions of labels in FiNER-ORD\n",
    "fig, ax = plt.subplots()\n",
    "vbars = ax.bar(music_text_labels, music_class_proportions)\n",
    "ax.set_xlabel('Music NER Classes')\n",
    "ax.set_ylabel('Frequency (%)')\n",
    "ax.bar_label(vbars, fmt='%.2f')\n",
    "\n",
    "plt.show()"
   ]
  },
  {
   "cell_type": "code",
   "execution_count": 44,
   "metadata": {},
   "outputs": [
    {
     "name": "stdout",
     "output_type": "stream",
     "text": [
      "Number of sentences in music_df: 2551\n"
     ]
    }
   ],
   "source": [
    "# Number of sentences in music_df\n",
    "num_of_sentences = music_df[\"id\"].max() + 1\n",
    "print(\"Number of sentences in music_df:\", num_of_sentences)"
   ]
  },
  {
   "cell_type": "code",
   "execution_count": 46,
   "metadata": {},
   "outputs": [
    {
     "name": "stdout",
     "output_type": "stream",
     "text": [
      "Max Sentence Length: 44\n",
      "Min Sentence Length: 2\n",
      "Average sentence length: 9.3343786750294\n"
     ]
    }
   ],
   "source": [
    "# Calculate statistics for sentence lengths\n",
    "len_sentences = []\n",
    "\n",
    "for i in range(0,num_of_sentences):\n",
    "    sentence_df = music_df[music_df[\"id\"] == i]\n",
    "    sentence = sentence_df[\"tokens\"].tolist()\n",
    "    len_sentence = len(sentence)\n",
    "    len_sentences.append(len_sentence)\n",
    "\n",
    "print(\"Max Sentence Length:\", max(len_sentences))\n",
    "print(\"Min Sentence Length:\", min(len_sentences))\n",
    "print(\"Average sentence length:\", sum(len_sentences) / len(len_sentences))\n"
   ]
  },
  {
   "cell_type": "code",
   "execution_count": 49,
   "metadata": {},
   "outputs": [
    {
     "data": {
      "image/png": "[encoded data removed]",
      "text/plain": [
       "<Figure size 640x480 with 1 Axes>"
      ]
     },
     "metadata": {},
     "output_type": "display_data"
    }
   ],
   "source": [
    "# Plot sentence length distribution\n",
    "frequency = Counter(len_sentences)\n",
    "sentence_len = list(frequency.keys())\n",
    "sentence_len_counts = list(frequency.values())\n",
    "\n",
    "plt.bar(sentence_len, sentence_len_counts)\n",
    "plt.xlabel(\"Sentence Length\")\n",
    "plt.ylabel(\"Frequency (%)\")\n",
    "plt.show()"
   ]
  },
  {
   "cell_type": "code",
   "execution_count": 55,
   "metadata": {},
   "outputs": [
    {
     "name": "stdout",
     "output_type": "stream",
     "text": [
      "dark and suspenseful music\n",
      "['O', 'O', 'O', 'O']\n",
      " \n",
      "something like deftones adrenaline\n",
      "['O', 'O', 'B-Artist', 'B-WoA']\n",
      " \n",
      "dreamy music | less reverb on vocals\n",
      "['O', 'O', 'O', 'O', 'O', 'O', 'O']\n"
     ]
    }
   ],
   "source": [
    "# Retrieve sample sentences\n",
    "def print_sample_sentence(df, id):\n",
    "    select_sentence = df.loc[(df[\"id\"] == id)]\n",
    "    \n",
    "    sample_sentence_tokens = select_sentence[\"tokens\"].to_list()\n",
    "    joined_sentence = \" \".join(sample_sentence_tokens)\n",
    "    print(joined_sentence)\n",
    "    print(select_sentence[\"ner_tags\"].to_list())\n",
    "\n",
    "print_sample_sentence(music_df, 0)\n",
    "print(\" \")\n",
    "print_sample_sentence(music_df, 1111)\n",
    "print(\" \")\n",
    "print_sample_sentence(music_df, 2222)"
   ]
  },
  {
   "cell_type": "code",
   "execution_count": 223,
   "metadata": {},
   "outputs": [
    {
     "name": "stdout",
     "output_type": "stream",
     "text": [
      "Average labels in sentence 0,0: 3\n"
     ]
    }
   ],
   "source": [
    "# Calculate average labels in sentence\n"
   ]
  },
  {
   "cell_type": "code",
   "execution_count": 57,
   "metadata": {},
   "outputs": [],
   "source": [
    "def get_dict_from_sent(df, uid, ner_convert=False):\n",
    "    \n",
    "    dict = {'id':'', 'tokens':'', 'ner_tags':[]}\n",
    "    sent_df = df.loc[df['id'] == uid]\n",
    "    \n",
    "    dict['id'] = sent_df['id'].to_list()[0]\n",
    "    dict['tokens'] = sent_df['tokens'].to_list()\n",
    "    if ner_convert == True:\n",
    "        dict['ner_tags'] = [label2id[i] for i in sent_df['ner_tags'].to_list()]\n",
    "    else:\n",
    "        dict['ner_tags'] = sent_df['ner_tags'].to_list()\n",
    "\n",
    "    return dict\n",
    "\n",
    "dataset = []\n",
    "\n",
    "for i in range(0, music_df['id'].nunique()):\n",
    "    dataset.append(get_dict_from_sent(music_df, i, ner_convert=True))"
   ]
  },
  {
   "cell_type": "code",
   "execution_count": 58,
   "metadata": {},
   "outputs": [],
   "source": [
    "# Create huggingface dataset\n",
    "ds = Dataset.from_pandas(pd.DataFrame(data=dataset))\n",
    "ds"
   ]
  },
  {
   "cell_type": "code",
   "execution_count": null,
   "metadata": {},
   "outputs": [],
   "source": [
    "# Save dataset to json\n",
    "# ds.to_json('final_project/music-ner-eacl2023/music.json', orient='records', lines=True)"
   ]
  },
  {
   "cell_type": "code",
   "execution_count": null,
   "metadata": {},
   "outputs": [],
   "source": []
  }
 ],
 "metadata": {
  "kernelspec": {
   "display_name": "final",
   "language": "python",
   "name": "python3"
  },
  "language_info": {
   "codemirror_mode": {
    "name": "ipython",
    "version": 3
   },
   "file_extension": ".py",
   "mimetype": "text/x-python",
   "name": "python",
   "nbconvert_exporter": "python",
   "pygments_lexer": "ipython3",
   "version": "3.12.4"
  }
 },
 "nbformat": 4,
 "nbformat_minor": 2
}
