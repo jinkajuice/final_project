{
 "cells": [
  {
   "cell_type": "code",
   "execution_count": 1,
   "metadata": {},
   "outputs": [
    {
     "name": "stderr",
     "output_type": "stream",
     "text": [
      "/opt/homebrew/Caskroom/miniconda/base/envs/final/lib/python3.12/site-packages/tqdm/auto.py:21: TqdmWarning: IProgress not found. Please update jupyter and ipywidgets. See https://ipywidgets.readthedocs.io/en/stable/user_install.html\n",
      "  from .autonotebook import tqdm as notebook_tqdm\n"
     ]
    }
   ],
   "source": [
    "import pandas as pd\n",
    "import matplotlib.pyplot as plt\n",
    "import datasets\n",
    "from datasets import Dataset, DatasetDict\n",
    "\n",
    "from collections import Counter"
   ]
  },
  {
   "cell_type": "code",
   "execution_count": 101,
   "metadata": {},
   "outputs": [],
   "source": [
    "# Load finer-ord dataframes\n",
    "train_df = pd.read_csv('final_project/finer-ord/train.csv')\n",
    "test_df = pd.read_csv('final_project/finer-ord/test.csv')\n",
    "val_df = pd.read_csv('final_project/finer-ord/val.csv')"
   ]
  },
  {
   "cell_type": "code",
   "execution_count": 123,
   "metadata": {},
   "outputs": [
    {
     "data": {
      "text/plain": [
       "80531"
      ]
     },
     "execution_count": 123,
     "metadata": {},
     "output_type": "execute_result"
    }
   ],
   "source": [
    "train_df.shape[0]"
   ]
  },
  {
   "cell_type": "code",
   "execution_count": 137,
   "metadata": {},
   "outputs": [],
   "source": [
    "def add_unique_id(df, counter_start=0):\n",
    "    df['id'] = \"x\"\n",
    "\n",
    "    counter = counter_start\n",
    "\n",
    "    for x in df['doc_idx'].unique():\n",
    "        doc_df = df.loc[df['doc_idx'] == x]\n",
    "        \n",
    "        for y in range(0, doc_df['sent_idx'].nunique()):\n",
    "            df.loc[(df['doc_idx'] == x) & (df['sent_idx'] == y), \"id\"] = counter\n",
    "            counter += 1\n",
    "\n",
    "    return df"
   ]
  },
  {
   "cell_type": "code",
   "execution_count": 138,
   "metadata": {},
   "outputs": [],
   "source": [
    "# Add unique IDs to each row across all three dataframes\n",
    "train_df = add_unique_id(train_df)\n",
    "# train_df.tail()\n",
    "val_df = add_unique_id(val_df,counter_start=3262)\n",
    "# val_df.tail()\n",
    "test_df = add_unique_id(test_df,counter_start=3664)\n",
    "\n",
    "# Combine all three dataframes into one\n",
    "frames = [train_df, val_df, test_df]\n",
    "finer_df = pd.concat(frames)"
   ]
  },
  {
   "cell_type": "code",
   "execution_count": 141,
   "metadata": {},
   "outputs": [
    {
     "name": "stdout",
     "output_type": "stream",
     "text": [
      "Shape of finer_df: (116721, 5)\n",
      "finer_df.head(10)\n"
     ]
    },
    {
     "data": {
      "text/html": [
       "<div>\n",
       "<style scoped>\n",
       "    .dataframe tbody tr th:only-of-type {\n",
       "        vertical-align: middle;\n",
       "    }\n",
       "\n",
       "    .dataframe tbody tr th {\n",
       "        vertical-align: top;\n",
       "    }\n",
       "\n",
       "    .dataframe thead th {\n",
       "        text-align: right;\n",
       "    }\n",
       "</style>\n",
       "<table border=\"1\" class=\"dataframe\">\n",
       "  <thead>\n",
       "    <tr style=\"text-align: right;\">\n",
       "      <th></th>\n",
       "      <th>gold_label</th>\n",
       "      <th>gold_token</th>\n",
       "      <th>doc_idx</th>\n",
       "      <th>sent_idx</th>\n",
       "      <th>id</th>\n",
       "    </tr>\n",
       "  </thead>\n",
       "  <tbody>\n",
       "    <tr>\n",
       "      <th>0</th>\n",
       "      <td>0</td>\n",
       "      <td>Kenyan</td>\n",
       "      <td>0</td>\n",
       "      <td>0</td>\n",
       "      <td>0</td>\n",
       "    </tr>\n",
       "    <tr>\n",
       "      <th>1</th>\n",
       "      <td>0</td>\n",
       "      <td>Firms</td>\n",
       "      <td>0</td>\n",
       "      <td>0</td>\n",
       "      <td>0</td>\n",
       "    </tr>\n",
       "    <tr>\n",
       "      <th>2</th>\n",
       "      <td>0</td>\n",
       "      <td>Eye</td>\n",
       "      <td>0</td>\n",
       "      <td>0</td>\n",
       "      <td>0</td>\n",
       "    </tr>\n",
       "    <tr>\n",
       "      <th>3</th>\n",
       "      <td>0</td>\n",
       "      <td>Deals</td>\n",
       "      <td>0</td>\n",
       "      <td>0</td>\n",
       "      <td>0</td>\n",
       "    </tr>\n",
       "    <tr>\n",
       "      <th>4</th>\n",
       "      <td>0</td>\n",
       "      <td>During</td>\n",
       "      <td>0</td>\n",
       "      <td>0</td>\n",
       "      <td>0</td>\n",
       "    </tr>\n",
       "    <tr>\n",
       "      <th>5</th>\n",
       "      <td>1</td>\n",
       "      <td>Obama</td>\n",
       "      <td>0</td>\n",
       "      <td>0</td>\n",
       "      <td>0</td>\n",
       "    </tr>\n",
       "    <tr>\n",
       "      <th>6</th>\n",
       "      <td>0</td>\n",
       "      <td>Summit</td>\n",
       "      <td>0</td>\n",
       "      <td>0</td>\n",
       "      <td>0</td>\n",
       "    </tr>\n",
       "    <tr>\n",
       "      <th>7</th>\n",
       "      <td>0</td>\n",
       "      <td>Tagged</td>\n",
       "      <td>0</td>\n",
       "      <td>0</td>\n",
       "      <td>0</td>\n",
       "    </tr>\n",
       "    <tr>\n",
       "      <th>8</th>\n",
       "      <td>0</td>\n",
       "      <td>:</td>\n",
       "      <td>0</td>\n",
       "      <td>0</td>\n",
       "      <td>0</td>\n",
       "    </tr>\n",
       "    <tr>\n",
       "      <th>9</th>\n",
       "      <td>0</td>\n",
       "      <td>The</td>\n",
       "      <td>0</td>\n",
       "      <td>0</td>\n",
       "      <td>0</td>\n",
       "    </tr>\n",
       "  </tbody>\n",
       "</table>\n",
       "</div>"
      ],
      "text/plain": [
       "   gold_label gold_token  doc_idx  sent_idx id\n",
       "0           0     Kenyan        0         0  0\n",
       "1           0      Firms        0         0  0\n",
       "2           0        Eye        0         0  0\n",
       "3           0      Deals        0         0  0\n",
       "4           0     During        0         0  0\n",
       "5           1      Obama        0         0  0\n",
       "6           0     Summit        0         0  0\n",
       "7           0     Tagged        0         0  0\n",
       "8           0          :        0         0  0\n",
       "9           0        The        0         0  0"
      ]
     },
     "execution_count": 141,
     "metadata": {},
     "output_type": "execute_result"
    }
   ],
   "source": [
    "print(\"Shape of finer_df:\", finer_df.shape)\n",
    "print(\"finer_df.head(10)\")\n",
    "finer_df.head(10)"
   ]
  },
  {
   "cell_type": "code",
   "execution_count": 145,
   "metadata": {},
   "outputs": [
    {
     "data": {
      "text/plain": [
       "gold_label         0\n",
       "gold_token    Kenyan\n",
       "doc_idx            0\n",
       "sent_idx           0\n",
       "id                 0\n",
       "Name: 0, dtype: object"
      ]
     },
     "execution_count": 145,
     "metadata": {},
     "output_type": "execute_result"
    }
   ],
   "source": [
    "finer_df.iloc[0]"
   ]
  },
  {
   "cell_type": "code",
   "execution_count": 146,
   "metadata": {},
   "outputs": [
    {
     "data": {
      "text/plain": [
       "gold_label     int64\n",
       "gold_token    object\n",
       "doc_idx        int64\n",
       "sent_idx       int64\n",
       "id            object\n",
       "dtype: object"
      ]
     },
     "execution_count": 146,
     "metadata": {},
     "output_type": "execute_result"
    }
   ],
   "source": [
    "finer_df.dtypes"
   ]
  },
  {
   "cell_type": "code",
   "execution_count": 147,
   "metadata": {},
   "outputs": [
    {
     "data": {
      "text/plain": [
       "gold_label     int64\n",
       "gold_token    object\n",
       "doc_idx        int64\n",
       "sent_idx       int64\n",
       "id             int64\n",
       "dtype: object"
      ]
     },
     "execution_count": 147,
     "metadata": {},
     "output_type": "execute_result"
    }
   ],
   "source": [
    "# Change \"id\" column to int64\n",
    "finer_df.astype({'id': 'int64'}).dtypes"
   ]
  },
  {
   "cell_type": "code",
   "execution_count": 148,
   "metadata": {},
   "outputs": [
    {
     "data": {
      "text/plain": [
       "gold_label    0\n",
       "gold_token    1\n",
       "doc_idx       0\n",
       "sent_idx      0\n",
       "id            0\n",
       "dtype: int64"
      ]
     },
     "execution_count": 148,
     "metadata": {},
     "output_type": "execute_result"
    }
   ],
   "source": [
    "# Check for nan values\n",
    "finer_df.isnull().sum()"
   ]
  },
  {
   "cell_type": "code",
   "execution_count": 149,
   "metadata": {},
   "outputs": [
    {
     "data": {
      "text/html": [
       "<div>\n",
       "<style scoped>\n",
       "    .dataframe tbody tr th:only-of-type {\n",
       "        vertical-align: middle;\n",
       "    }\n",
       "\n",
       "    .dataframe tbody tr th {\n",
       "        vertical-align: top;\n",
       "    }\n",
       "\n",
       "    .dataframe thead th {\n",
       "        text-align: right;\n",
       "    }\n",
       "</style>\n",
       "<table border=\"1\" class=\"dataframe\">\n",
       "  <thead>\n",
       "    <tr style=\"text-align: right;\">\n",
       "      <th></th>\n",
       "      <th>gold_label</th>\n",
       "      <th>gold_token</th>\n",
       "      <th>doc_idx</th>\n",
       "      <th>sent_idx</th>\n",
       "      <th>id</th>\n",
       "    </tr>\n",
       "  </thead>\n",
       "  <tbody>\n",
       "    <tr>\n",
       "      <th>77148</th>\n",
       "      <td>0</td>\n",
       "      <td>NaN</td>\n",
       "      <td>152</td>\n",
       "      <td>11</td>\n",
       "      <td>3125</td>\n",
       "    </tr>\n",
       "  </tbody>\n",
       "</table>\n",
       "</div>"
      ],
      "text/plain": [
       "       gold_label gold_token  doc_idx  sent_idx    id\n",
       "77148           0        NaN      152        11  3125"
      ]
     },
     "execution_count": 149,
     "metadata": {},
     "output_type": "execute_result"
    }
   ],
   "source": [
    "# Identify null value\n",
    "finer_df[finer_df['gold_token'].isnull()]"
   ]
  },
  {
   "cell_type": "code",
   "execution_count": 150,
   "metadata": {},
   "outputs": [
    {
     "data": {
      "text/html": [
       "<div>\n",
       "<style scoped>\n",
       "    .dataframe tbody tr th:only-of-type {\n",
       "        vertical-align: middle;\n",
       "    }\n",
       "\n",
       "    .dataframe tbody tr th {\n",
       "        vertical-align: top;\n",
       "    }\n",
       "\n",
       "    .dataframe thead th {\n",
       "        text-align: right;\n",
       "    }\n",
       "</style>\n",
       "<table border=\"1\" class=\"dataframe\">\n",
       "  <thead>\n",
       "    <tr style=\"text-align: right;\">\n",
       "      <th></th>\n",
       "      <th>gold_label</th>\n",
       "      <th>gold_token</th>\n",
       "      <th>doc_idx</th>\n",
       "      <th>sent_idx</th>\n",
       "      <th>id</th>\n",
       "    </tr>\n",
       "  </thead>\n",
       "  <tbody>\n",
       "    <tr>\n",
       "      <th>77147</th>\n",
       "      <td>0</td>\n",
       "      <td>\"</td>\n",
       "      <td>152</td>\n",
       "      <td>11</td>\n",
       "      <td>3125</td>\n",
       "    </tr>\n",
       "    <tr>\n",
       "      <th>77148</th>\n",
       "      <td>0</td>\n",
       "      <td>NaN</td>\n",
       "      <td>152</td>\n",
       "      <td>11</td>\n",
       "      <td>3125</td>\n",
       "    </tr>\n",
       "    <tr>\n",
       "      <th>77149</th>\n",
       "      <td>0</td>\n",
       "      <td>of</td>\n",
       "      <td>152</td>\n",
       "      <td>11</td>\n",
       "      <td>3125</td>\n",
       "    </tr>\n",
       "    <tr>\n",
       "      <th>77150</th>\n",
       "      <td>0</td>\n",
       "      <td>the</td>\n",
       "      <td>152</td>\n",
       "      <td>11</td>\n",
       "      <td>3125</td>\n",
       "    </tr>\n",
       "    <tr>\n",
       "      <th>77151</th>\n",
       "      <td>0</td>\n",
       "      <td>banks</td>\n",
       "      <td>152</td>\n",
       "      <td>11</td>\n",
       "      <td>3125</td>\n",
       "    </tr>\n",
       "    <tr>\n",
       "      <th>77152</th>\n",
       "      <td>0</td>\n",
       "      <td>have</td>\n",
       "      <td>152</td>\n",
       "      <td>11</td>\n",
       "      <td>3125</td>\n",
       "    </tr>\n",
       "    <tr>\n",
       "      <th>77153</th>\n",
       "      <td>0</td>\n",
       "      <td>embraced</td>\n",
       "      <td>152</td>\n",
       "      <td>11</td>\n",
       "      <td>3125</td>\n",
       "    </tr>\n",
       "    <tr>\n",
       "      <th>77154</th>\n",
       "      <td>0</td>\n",
       "      <td>this</td>\n",
       "      <td>152</td>\n",
       "      <td>11</td>\n",
       "      <td>3125</td>\n",
       "    </tr>\n",
       "    <tr>\n",
       "      <th>77155</th>\n",
       "      <td>0</td>\n",
       "      <td>capability</td>\n",
       "      <td>152</td>\n",
       "      <td>11</td>\n",
       "      <td>3125</td>\n",
       "    </tr>\n",
       "    <tr>\n",
       "      <th>77156</th>\n",
       "      <td>0</td>\n",
       "      <td>.</td>\n",
       "      <td>152</td>\n",
       "      <td>11</td>\n",
       "      <td>3125</td>\n",
       "    </tr>\n",
       "  </tbody>\n",
       "</table>\n",
       "</div>"
      ],
      "text/plain": [
       "       gold_label  gold_token  doc_idx  sent_idx    id\n",
       "77147           0           \"      152        11  3125\n",
       "77148           0         NaN      152        11  3125\n",
       "77149           0          of      152        11  3125\n",
       "77150           0         the      152        11  3125\n",
       "77151           0       banks      152        11  3125\n",
       "77152           0        have      152        11  3125\n",
       "77153           0    embraced      152        11  3125\n",
       "77154           0        this      152        11  3125\n",
       "77155           0  capability      152        11  3125\n",
       "77156           0           .      152        11  3125"
      ]
     },
     "execution_count": 150,
     "metadata": {},
     "output_type": "execute_result"
    }
   ],
   "source": [
    "# View sentence containing null value \n",
    "finer_df[finer_df['id'] == 3125]"
   ]
  },
  {
   "cell_type": "code",
   "execution_count": 151,
   "metadata": {},
   "outputs": [],
   "source": [
    "# Handle nan value\n",
    "finer_df = finer_df.drop(range(77147,77157))"
   ]
  },
  {
   "cell_type": "code",
   "execution_count": 152,
   "metadata": {},
   "outputs": [
    {
     "data": {
      "text/plain": [
       "gold_label    0\n",
       "gold_token    0\n",
       "doc_idx       0\n",
       "sent_idx      0\n",
       "id            0\n",
       "dtype: int64"
      ]
     },
     "execution_count": 152,
     "metadata": {},
     "output_type": "execute_result"
    }
   ],
   "source": [
    "# Recheck for nan values\n",
    "finer_df.isnull().sum()"
   ]
  },
  {
   "cell_type": "code",
   "execution_count": 113,
   "metadata": {},
   "outputs": [
    {
     "name": "stdout",
     "output_type": "stream",
     "text": [
      "finer_df text labels: ['O', 'B-PER', 'I-PER', 'B-LOC', 'I-LOC', 'B-ORG', 'I-ORG']\n",
      "finer_df unique labels: [0 1 3 2 4 5 6]\n"
     ]
    }
   ],
   "source": [
    "# Print labels\n",
    "finer_text_labels = [\"O\", \"B-PER\", \"I-PER\", \"B-LOC\", \"I-LOC\", \"B-ORG\", \"I-ORG\"]\n",
    "finer_unique_labels = finer_df[\"gold_label\"].unique()\n",
    "\n",
    "print(\"finer_df text labels:\", finer_text_labels)\n",
    "print(\"finer_df unique labels:\", finer_unique_labels)"
   ]
  },
  {
   "cell_type": "code",
   "execution_count": 154,
   "metadata": {},
   "outputs": [
    {
     "name": "stdout",
     "output_type": "stream",
     "text": [
      "Label: O\n",
      "Num of Instances: 107,802 of 116,711\n",
      "Percentage: 0.9237 \n",
      "\n",
      "Label: B-PER\n",
      "Num of Instances: 1,243 of 116,711\n",
      "Percentage: 0.0107 \n",
      "\n",
      "Label: I-PER\n",
      "Num of Instances: 1,459 of 116,711\n",
      "Percentage: 0.0125 \n",
      "\n",
      "Label: B-LOC\n",
      "Num of Instances: 819 of 116,711\n",
      "Percentage: 0.0070 \n",
      "\n",
      "Label: I-LOC\n",
      "Num of Instances: 491 of 116,711\n",
      "Percentage: 0.0042 \n",
      "\n",
      "Label: B-ORG\n",
      "Num of Instances: 2,844 of 116,711\n",
      "Percentage: 0.0244 \n",
      "\n",
      "Label: I-ORG\n",
      "Num of Instances: 2,053 of 116,711\n",
      "Percentage: 0.0176 \n",
      "\n"
     ]
    }
   ],
   "source": [
    "# Count number of instances for each label\n",
    "num_of_instances = []\n",
    "\n",
    "for i in finer_unique_labels: \n",
    "    num_of_i = len(finer_df[finer_df[\"gold_label\"] == i])\n",
    "    num_of_instances.append(num_of_i)\n",
    "\n",
    "# Calculate total instances\n",
    "total_instances = sum(num_of_instances)\n",
    "\n",
    "# Print out the number of instances for each label and add percentage to finer_class_proportions\n",
    "finer_class_proportions = []\n",
    "\n",
    "for i in range(0, len(num_of_instances)):\n",
    "    print(\"Label:\", finer_text_labels[i])\n",
    "    print(\"Num of Instances:\", f\"{num_of_instances[i]:,}\",\"of\", f\"{total_instances:,}\")\n",
    "    instance_proportion = num_of_instances[i]/total_instances\n",
    "    print(\"Percentage:\", f\"{(instance_proportion):.4f}\",\"\\n\")\n",
    "    finer_class_proportions.append(instance_proportion*100)"
   ]
  },
  {
   "cell_type": "code",
   "execution_count": 155,
   "metadata": {},
   "outputs": [
    {
     "data": {
      "image/png": "[encoded data removed]",
      "text/plain": [
       "<Figure size 640x480 with 1 Axes>"
      ]
     },
     "metadata": {},
     "output_type": "display_data"
    }
   ],
   "source": [
    "# Plot proportions of labels in FiNER-ORD\n",
    "fig, ax = plt.subplots()\n",
    "vbars = ax.bar(finer_text_labels, finer_class_proportions)\n",
    "ax.set_xlabel('FiNER Classes')\n",
    "ax.set_ylabel('Frequency (%)')\n",
    "ax.bar_label(vbars, fmt='%.2f')\n",
    "\n",
    "plt.show()"
   ]
  },
  {
   "cell_type": "code",
   "execution_count": 157,
   "metadata": {},
   "outputs": [
    {
     "name": "stdout",
     "output_type": "stream",
     "text": [
      "Number of sentences in music_df: 4738\n",
      "Max Sentence Length: 139\n",
      "Min Sentence Length: 1\n",
      "Average sentence length: 24.63296749683411\n"
     ]
    }
   ],
   "source": [
    "# Number of sentences in finer_df\n",
    "num_of_sentences = finer_df[\"id\"].nunique()\n",
    "\n",
    "# Calculate statistics for sentence lengths\n",
    "len_sentences = []\n",
    "\n",
    "unique_sentences = finer_df[\"id\"].unique()\n",
    "\n",
    "for i in unique_sentences:\n",
    "    sentence_df = finer_df[finer_df[\"id\"] == i]\n",
    "    sentence = sentence_df[\"gold_token\"].tolist()\n",
    "    len_sentence = len(sentence)\n",
    "    len_sentences.append(len_sentence)\n",
    "\n",
    "print(\"Number of sentences in finer_df:\", num_of_sentences)\n",
    "print(\"Max Sentence Length:\", max(len_sentences))\n",
    "print(\"Min Sentence Length:\", min(len_sentences))\n",
    "print(\"Average sentence length:\", sum(len_sentences) / len(len_sentences))"
   ]
  },
  {
   "cell_type": "code",
   "execution_count": 158,
   "metadata": {},
   "outputs": [
    {
     "data": {
      "image/png": "[encoded data removed]",
      "text/plain": [
       "<Figure size 640x480 with 1 Axes>"
      ]
     },
     "metadata": {},
     "output_type": "display_data"
    }
   ],
   "source": [
    "# Plot sentence length distribution\n",
    "frequency = Counter(len_sentences)\n",
    "sentence_len = list(frequency.keys())\n",
    "sentence_len_counts = list(frequency.values())\n",
    "\n",
    "plt.bar(sentence_len, sentence_len_counts)\n",
    "plt.xlabel(\"Sentence Length\")\n",
    "plt.ylabel(\"Frequency\")\n",
    "plt.show()"
   ]
  },
  {
   "cell_type": "code",
   "execution_count": 160,
   "metadata": {},
   "outputs": [
    {
     "name": "stdout",
     "output_type": "stream",
     "text": [
      "Kenyan Firms Eye Deals During Obama Summit Tagged : The Global Entrepreneurship Summit , launched by President Obama in 2009 , brings together entrepreneurs and investors from across Africa and around the world annually to showcase innovative projects , exchange new ideas , and help spur economic opportunity .\n",
      "[0, 0, 0, 0, 0, 1, 0, 0, 0, 0, 0, 0, 0, 0, 0, 0, 0, 1, 0, 0, 0, 0, 0, 0, 0, 0, 0, 0, 3, 0, 0, 0, 0, 0, 0, 0, 0, 0, 0, 0, 0, 0, 0, 0, 0, 0, 0, 0, 0]\n",
      " \n",
      "Those are bad outcomes .\n",
      "[0, 0, 0, 0, 0]\n",
      " \n",
      "And it 's a sign that the business community and the financial advice industry has successfully convinced half of the Democratic caucus — as well as all Republicans — that Obama 's current plan does more harm than good .\n",
      "[0, 0, 0, 0, 0, 0, 0, 0, 0, 0, 0, 0, 0, 0, 0, 0, 0, 0, 0, 0, 0, 0, 0, 0, 0, 0, 0, 0, 0, 0, 1, 0, 0, 0, 0, 0, 0, 0, 0, 0]\n"
     ]
    }
   ],
   "source": [
    "# Retrieve sample sentences\n",
    "def print_sample_sentence(df, id):\n",
    "    select_sentence = df.loc[(df[\"id\"] == id)]\n",
    "    \n",
    "    sample_sentence_tokens = select_sentence[\"gold_token\"].to_list()\n",
    "    joined_sentence = \" \".join(sample_sentence_tokens)\n",
    "    print(joined_sentence)\n",
    "    print(select_sentence[\"gold_label\"].to_list())\n",
    "\n",
    "print_sample_sentence(finer_df, 0)\n",
    "print(\" \")\n",
    "print_sample_sentence(finer_df, 1111)\n",
    "print(\" \")\n",
    "print_sample_sentence(finer_df, 2222)"
   ]
  },
  {
   "cell_type": "code",
   "execution_count": 177,
   "metadata": {},
   "outputs": [
    {
     "name": "stdout",
     "output_type": "stream",
     "text": [
      "4\n"
     ]
    }
   ],
   "source": [
    "# Calculate average labels in sentence\n",
    "def retrieve_labels_in_sent(df, id):\n",
    "    select_sentence = df.loc[(df[\"id\"] == id)]\n",
    "    \n",
    "    sample_labels = select_sentence[\"gold_label\"].to_list()\n",
    "    \n",
    "    label_counter = 0\n",
    "\n",
    "    for i in sample_labels:\n",
    "        if i != 0:\n",
    "            label_counter += 1\n",
    "\n",
    "    print(label_counter)\n",
    "\n",
    "for i in range(0,)\n",
    "retrieve_labels_in_sent(finer_df, 1)"
   ]
  },
  {
   "cell_type": "code",
   "execution_count": 161,
   "metadata": {},
   "outputs": [],
   "source": [
    "def get_dict_from_sent(df, uid):\n",
    "    \n",
    "    dict = {'id':'', 'tokens':'', 'ner_tags':[]}\n",
    "    sent_df = df.loc[df['id'] == uid]\n",
    "    \n",
    "    dict['id'] = sent_df['id'].to_list()[0]\n",
    "    dict['tokens'] = sent_df['gold_token'].to_list()\n",
    "    dict['ner_tags'] = sent_df['gold_label'].to_list() \n",
    "\n",
    "    return dict\n",
    "\n",
    "dataset = []\n",
    "\n",
    "for i in unique_sentences:\n",
    "    dataset.append(get_dict_from_sent(finer_df, i))"
   ]
  },
  {
   "cell_type": "code",
   "execution_count": 166,
   "metadata": {},
   "outputs": [],
   "source": [
    "# Create huggingface dataset\n",
    "ds = Dataset.from_pandas(pd.DataFrame(data=dataset))\n",
    "ds"
   ]
  },
  {
   "cell_type": "code",
   "execution_count": null,
   "metadata": {},
   "outputs": [],
   "source": [
    "# Save dataset to json\n",
    "# ds.to_json('final_project/finer-ord/finer.json', orient='records', lines=True)"
   ]
  }
 ],
 "metadata": {
  "kernelspec": {
   "display_name": "final",
   "language": "python",
   "name": "python3"
  },
  "language_info": {
   "codemirror_mode": {
    "name": "ipython",
    "version": 3
   },
   "file_extension": ".py",
   "mimetype": "text/x-python",
   "name": "python",
   "nbconvert_exporter": "python",
   "pygments_lexer": "ipython3",
   "version": "3.12.4"
  }
 },
 "nbformat": 4,
 "nbformat_minor": 2
}
